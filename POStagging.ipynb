{
  "nbformat": 4,
  "nbformat_minor": 0,
  "metadata": {
    "colab": {
      "provenance": [],
      "collapsed_sections": [],
      "include_colab_link": true
    },
    "kernelspec": {
      "name": "python3",
      "display_name": "Python 3"
    },
    "language_info": {
      "name": "python"
    },
    "widgets": {
      "application/vnd.jupyter.widget-state+json": {
        "3fac041706e8496e83bf01e4b02a39ea": {
          "model_module": "@jupyter-widgets/controls",
          "model_name": "HBoxModel",
          "model_module_version": "1.5.0",
          "state": {
            "_dom_classes": [],
            "_model_module": "@jupyter-widgets/controls",
            "_model_module_version": "1.5.0",
            "_model_name": "HBoxModel",
            "_view_count": null,
            "_view_module": "@jupyter-widgets/controls",
            "_view_module_version": "1.5.0",
            "_view_name": "HBoxView",
            "box_style": "",
            "children": [
              "IPY_MODEL_3933b3f86d574c878809ee7d0b61af94",
              "IPY_MODEL_d81a354b8798449288d7ecc1694611c5",
              "IPY_MODEL_6503c00f45c941cab32c4d081d5fa12e"
            ],
            "layout": "IPY_MODEL_22aba4cab4df4185af97586045f7f075"
          }
        },
        "3933b3f86d574c878809ee7d0b61af94": {
          "model_module": "@jupyter-widgets/controls",
          "model_name": "HTMLModel",
          "model_module_version": "1.5.0",
          "state": {
            "_dom_classes": [],
            "_model_module": "@jupyter-widgets/controls",
            "_model_module_version": "1.5.0",
            "_model_name": "HTMLModel",
            "_view_count": null,
            "_view_module": "@jupyter-widgets/controls",
            "_view_module_version": "1.5.0",
            "_view_name": "HTMLView",
            "description": "",
            "description_tooltip": null,
            "layout": "IPY_MODEL_8a2148c816674a698b1771fd59d8d71b",
            "placeholder": "​",
            "style": "IPY_MODEL_fa643a931e1a40949ba88e9da913b77e",
            "value": "Downloading https://raw.githubusercontent.com/stanfordnlp/stanza-resources/main/resources_1.4.1.json: "
          }
        },
        "d81a354b8798449288d7ecc1694611c5": {
          "model_module": "@jupyter-widgets/controls",
          "model_name": "FloatProgressModel",
          "model_module_version": "1.5.0",
          "state": {
            "_dom_classes": [],
            "_model_module": "@jupyter-widgets/controls",
            "_model_module_version": "1.5.0",
            "_model_name": "FloatProgressModel",
            "_view_count": null,
            "_view_module": "@jupyter-widgets/controls",
            "_view_module_version": "1.5.0",
            "_view_name": "ProgressView",
            "bar_style": "success",
            "description": "",
            "description_tooltip": null,
            "layout": "IPY_MODEL_67a2d41f06274d2bb84158563e7f100c",
            "max": 28918,
            "min": 0,
            "orientation": "horizontal",
            "style": "IPY_MODEL_01e4359cf6e9458fa5ac0f884eae37e4",
            "value": 28918
          }
        },
        "6503c00f45c941cab32c4d081d5fa12e": {
          "model_module": "@jupyter-widgets/controls",
          "model_name": "HTMLModel",
          "model_module_version": "1.5.0",
          "state": {
            "_dom_classes": [],
            "_model_module": "@jupyter-widgets/controls",
            "_model_module_version": "1.5.0",
            "_model_name": "HTMLModel",
            "_view_count": null,
            "_view_module": "@jupyter-widgets/controls",
            "_view_module_version": "1.5.0",
            "_view_name": "HTMLView",
            "description": "",
            "description_tooltip": null,
            "layout": "IPY_MODEL_a90807d8fe67420799bce5eb61b662c1",
            "placeholder": "​",
            "style": "IPY_MODEL_649e23a3ce564028abb3748c70783d8d",
            "value": " 193k/? [00:00&lt;00:00, 3.07MB/s]"
          }
        },
        "22aba4cab4df4185af97586045f7f075": {
          "model_module": "@jupyter-widgets/base",
          "model_name": "LayoutModel",
          "model_module_version": "1.2.0",
          "state": {
            "_model_module": "@jupyter-widgets/base",
            "_model_module_version": "1.2.0",
            "_model_name": "LayoutModel",
            "_view_count": null,
            "_view_module": "@jupyter-widgets/base",
            "_view_module_version": "1.2.0",
            "_view_name": "LayoutView",
            "align_content": null,
            "align_items": null,
            "align_self": null,
            "border": null,
            "bottom": null,
            "display": null,
            "flex": null,
            "flex_flow": null,
            "grid_area": null,
            "grid_auto_columns": null,
            "grid_auto_flow": null,
            "grid_auto_rows": null,
            "grid_column": null,
            "grid_gap": null,
            "grid_row": null,
            "grid_template_areas": null,
            "grid_template_columns": null,
            "grid_template_rows": null,
            "height": null,
            "justify_content": null,
            "justify_items": null,
            "left": null,
            "margin": null,
            "max_height": null,
            "max_width": null,
            "min_height": null,
            "min_width": null,
            "object_fit": null,
            "object_position": null,
            "order": null,
            "overflow": null,
            "overflow_x": null,
            "overflow_y": null,
            "padding": null,
            "right": null,
            "top": null,
            "visibility": null,
            "width": null
          }
        },
        "8a2148c816674a698b1771fd59d8d71b": {
          "model_module": "@jupyter-widgets/base",
          "model_name": "LayoutModel",
          "model_module_version": "1.2.0",
          "state": {
            "_model_module": "@jupyter-widgets/base",
            "_model_module_version": "1.2.0",
            "_model_name": "LayoutModel",
            "_view_count": null,
            "_view_module": "@jupyter-widgets/base",
            "_view_module_version": "1.2.0",
            "_view_name": "LayoutView",
            "align_content": null,
            "align_items": null,
            "align_self": null,
            "border": null,
            "bottom": null,
            "display": null,
            "flex": null,
            "flex_flow": null,
            "grid_area": null,
            "grid_auto_columns": null,
            "grid_auto_flow": null,
            "grid_auto_rows": null,
            "grid_column": null,
            "grid_gap": null,
            "grid_row": null,
            "grid_template_areas": null,
            "grid_template_columns": null,
            "grid_template_rows": null,
            "height": null,
            "justify_content": null,
            "justify_items": null,
            "left": null,
            "margin": null,
            "max_height": null,
            "max_width": null,
            "min_height": null,
            "min_width": null,
            "object_fit": null,
            "object_position": null,
            "order": null,
            "overflow": null,
            "overflow_x": null,
            "overflow_y": null,
            "padding": null,
            "right": null,
            "top": null,
            "visibility": null,
            "width": null
          }
        },
        "fa643a931e1a40949ba88e9da913b77e": {
          "model_module": "@jupyter-widgets/controls",
          "model_name": "DescriptionStyleModel",
          "model_module_version": "1.5.0",
          "state": {
            "_model_module": "@jupyter-widgets/controls",
            "_model_module_version": "1.5.0",
            "_model_name": "DescriptionStyleModel",
            "_view_count": null,
            "_view_module": "@jupyter-widgets/base",
            "_view_module_version": "1.2.0",
            "_view_name": "StyleView",
            "description_width": ""
          }
        },
        "67a2d41f06274d2bb84158563e7f100c": {
          "model_module": "@jupyter-widgets/base",
          "model_name": "LayoutModel",
          "model_module_version": "1.2.0",
          "state": {
            "_model_module": "@jupyter-widgets/base",
            "_model_module_version": "1.2.0",
            "_model_name": "LayoutModel",
            "_view_count": null,
            "_view_module": "@jupyter-widgets/base",
            "_view_module_version": "1.2.0",
            "_view_name": "LayoutView",
            "align_content": null,
            "align_items": null,
            "align_self": null,
            "border": null,
            "bottom": null,
            "display": null,
            "flex": null,
            "flex_flow": null,
            "grid_area": null,
            "grid_auto_columns": null,
            "grid_auto_flow": null,
            "grid_auto_rows": null,
            "grid_column": null,
            "grid_gap": null,
            "grid_row": null,
            "grid_template_areas": null,
            "grid_template_columns": null,
            "grid_template_rows": null,
            "height": null,
            "justify_content": null,
            "justify_items": null,
            "left": null,
            "margin": null,
            "max_height": null,
            "max_width": null,
            "min_height": null,
            "min_width": null,
            "object_fit": null,
            "object_position": null,
            "order": null,
            "overflow": null,
            "overflow_x": null,
            "overflow_y": null,
            "padding": null,
            "right": null,
            "top": null,
            "visibility": null,
            "width": null
          }
        },
        "01e4359cf6e9458fa5ac0f884eae37e4": {
          "model_module": "@jupyter-widgets/controls",
          "model_name": "ProgressStyleModel",
          "model_module_version": "1.5.0",
          "state": {
            "_model_module": "@jupyter-widgets/controls",
            "_model_module_version": "1.5.0",
            "_model_name": "ProgressStyleModel",
            "_view_count": null,
            "_view_module": "@jupyter-widgets/base",
            "_view_module_version": "1.2.0",
            "_view_name": "StyleView",
            "bar_color": null,
            "description_width": ""
          }
        },
        "a90807d8fe67420799bce5eb61b662c1": {
          "model_module": "@jupyter-widgets/base",
          "model_name": "LayoutModel",
          "model_module_version": "1.2.0",
          "state": {
            "_model_module": "@jupyter-widgets/base",
            "_model_module_version": "1.2.0",
            "_model_name": "LayoutModel",
            "_view_count": null,
            "_view_module": "@jupyter-widgets/base",
            "_view_module_version": "1.2.0",
            "_view_name": "LayoutView",
            "align_content": null,
            "align_items": null,
            "align_self": null,
            "border": null,
            "bottom": null,
            "display": null,
            "flex": null,
            "flex_flow": null,
            "grid_area": null,
            "grid_auto_columns": null,
            "grid_auto_flow": null,
            "grid_auto_rows": null,
            "grid_column": null,
            "grid_gap": null,
            "grid_row": null,
            "grid_template_areas": null,
            "grid_template_columns": null,
            "grid_template_rows": null,
            "height": null,
            "justify_content": null,
            "justify_items": null,
            "left": null,
            "margin": null,
            "max_height": null,
            "max_width": null,
            "min_height": null,
            "min_width": null,
            "object_fit": null,
            "object_position": null,
            "order": null,
            "overflow": null,
            "overflow_x": null,
            "overflow_y": null,
            "padding": null,
            "right": null,
            "top": null,
            "visibility": null,
            "width": null
          }
        },
        "649e23a3ce564028abb3748c70783d8d": {
          "model_module": "@jupyter-widgets/controls",
          "model_name": "DescriptionStyleModel",
          "model_module_version": "1.5.0",
          "state": {
            "_model_module": "@jupyter-widgets/controls",
            "_model_module_version": "1.5.0",
            "_model_name": "DescriptionStyleModel",
            "_view_count": null,
            "_view_module": "@jupyter-widgets/base",
            "_view_module_version": "1.2.0",
            "_view_name": "StyleView",
            "description_width": ""
          }
        },
        "bc82cd85e5624d08953ed9ce702fd5b0": {
          "model_module": "@jupyter-widgets/controls",
          "model_name": "HBoxModel",
          "model_module_version": "1.5.0",
          "state": {
            "_dom_classes": [],
            "_model_module": "@jupyter-widgets/controls",
            "_model_module_version": "1.5.0",
            "_model_name": "HBoxModel",
            "_view_count": null,
            "_view_module": "@jupyter-widgets/controls",
            "_view_module_version": "1.5.0",
            "_view_name": "HBoxView",
            "box_style": "",
            "children": [
              "IPY_MODEL_21d4069659664b359a86ee35cef1503e",
              "IPY_MODEL_9bb607bab7424c84a3f1210bde074d6e",
              "IPY_MODEL_4b90136cad6c44b1b03a5ec616f2ada1"
            ],
            "layout": "IPY_MODEL_b6fe8e17f1fd4f00b15b7c4aca222f94"
          }
        },
        "21d4069659664b359a86ee35cef1503e": {
          "model_module": "@jupyter-widgets/controls",
          "model_name": "HTMLModel",
          "model_module_version": "1.5.0",
          "state": {
            "_dom_classes": [],
            "_model_module": "@jupyter-widgets/controls",
            "_model_module_version": "1.5.0",
            "_model_name": "HTMLModel",
            "_view_count": null,
            "_view_module": "@jupyter-widgets/controls",
            "_view_module_version": "1.5.0",
            "_view_name": "HTMLView",
            "description": "",
            "description_tooltip": null,
            "layout": "IPY_MODEL_8bdff08d694e4fadb89d2403cfc744fc",
            "placeholder": "​",
            "style": "IPY_MODEL_d6e44a7aff1d46ae8ff6867d3251dbde",
            "value": "Downloading https://raw.githubusercontent.com/stanfordnlp/stanza-resources/main/resources_1.4.1.json: "
          }
        },
        "9bb607bab7424c84a3f1210bde074d6e": {
          "model_module": "@jupyter-widgets/controls",
          "model_name": "FloatProgressModel",
          "model_module_version": "1.5.0",
          "state": {
            "_dom_classes": [],
            "_model_module": "@jupyter-widgets/controls",
            "_model_module_version": "1.5.0",
            "_model_name": "FloatProgressModel",
            "_view_count": null,
            "_view_module": "@jupyter-widgets/controls",
            "_view_module_version": "1.5.0",
            "_view_name": "ProgressView",
            "bar_style": "success",
            "description": "",
            "description_tooltip": null,
            "layout": "IPY_MODEL_82f901a915dc4bb5b0df17c7a5a9b804",
            "max": 28918,
            "min": 0,
            "orientation": "horizontal",
            "style": "IPY_MODEL_d53692d961e04afd9c257e374cc5cfe0",
            "value": 28918
          }
        },
        "4b90136cad6c44b1b03a5ec616f2ada1": {
          "model_module": "@jupyter-widgets/controls",
          "model_name": "HTMLModel",
          "model_module_version": "1.5.0",
          "state": {
            "_dom_classes": [],
            "_model_module": "@jupyter-widgets/controls",
            "_model_module_version": "1.5.0",
            "_model_name": "HTMLModel",
            "_view_count": null,
            "_view_module": "@jupyter-widgets/controls",
            "_view_module_version": "1.5.0",
            "_view_name": "HTMLView",
            "description": "",
            "description_tooltip": null,
            "layout": "IPY_MODEL_eeec73db5cba43a4bbd6fbafba88d859",
            "placeholder": "​",
            "style": "IPY_MODEL_c731bb07a726443eb7c1fc5bc9ba6eac",
            "value": " 193k/? [00:00&lt;00:00, 2.87MB/s]"
          }
        },
        "b6fe8e17f1fd4f00b15b7c4aca222f94": {
          "model_module": "@jupyter-widgets/base",
          "model_name": "LayoutModel",
          "model_module_version": "1.2.0",
          "state": {
            "_model_module": "@jupyter-widgets/base",
            "_model_module_version": "1.2.0",
            "_model_name": "LayoutModel",
            "_view_count": null,
            "_view_module": "@jupyter-widgets/base",
            "_view_module_version": "1.2.0",
            "_view_name": "LayoutView",
            "align_content": null,
            "align_items": null,
            "align_self": null,
            "border": null,
            "bottom": null,
            "display": null,
            "flex": null,
            "flex_flow": null,
            "grid_area": null,
            "grid_auto_columns": null,
            "grid_auto_flow": null,
            "grid_auto_rows": null,
            "grid_column": null,
            "grid_gap": null,
            "grid_row": null,
            "grid_template_areas": null,
            "grid_template_columns": null,
            "grid_template_rows": null,
            "height": null,
            "justify_content": null,
            "justify_items": null,
            "left": null,
            "margin": null,
            "max_height": null,
            "max_width": null,
            "min_height": null,
            "min_width": null,
            "object_fit": null,
            "object_position": null,
            "order": null,
            "overflow": null,
            "overflow_x": null,
            "overflow_y": null,
            "padding": null,
            "right": null,
            "top": null,
            "visibility": null,
            "width": null
          }
        },
        "8bdff08d694e4fadb89d2403cfc744fc": {
          "model_module": "@jupyter-widgets/base",
          "model_name": "LayoutModel",
          "model_module_version": "1.2.0",
          "state": {
            "_model_module": "@jupyter-widgets/base",
            "_model_module_version": "1.2.0",
            "_model_name": "LayoutModel",
            "_view_count": null,
            "_view_module": "@jupyter-widgets/base",
            "_view_module_version": "1.2.0",
            "_view_name": "LayoutView",
            "align_content": null,
            "align_items": null,
            "align_self": null,
            "border": null,
            "bottom": null,
            "display": null,
            "flex": null,
            "flex_flow": null,
            "grid_area": null,
            "grid_auto_columns": null,
            "grid_auto_flow": null,
            "grid_auto_rows": null,
            "grid_column": null,
            "grid_gap": null,
            "grid_row": null,
            "grid_template_areas": null,
            "grid_template_columns": null,
            "grid_template_rows": null,
            "height": null,
            "justify_content": null,
            "justify_items": null,
            "left": null,
            "margin": null,
            "max_height": null,
            "max_width": null,
            "min_height": null,
            "min_width": null,
            "object_fit": null,
            "object_position": null,
            "order": null,
            "overflow": null,
            "overflow_x": null,
            "overflow_y": null,
            "padding": null,
            "right": null,
            "top": null,
            "visibility": null,
            "width": null
          }
        },
        "d6e44a7aff1d46ae8ff6867d3251dbde": {
          "model_module": "@jupyter-widgets/controls",
          "model_name": "DescriptionStyleModel",
          "model_module_version": "1.5.0",
          "state": {
            "_model_module": "@jupyter-widgets/controls",
            "_model_module_version": "1.5.0",
            "_model_name": "DescriptionStyleModel",
            "_view_count": null,
            "_view_module": "@jupyter-widgets/base",
            "_view_module_version": "1.2.0",
            "_view_name": "StyleView",
            "description_width": ""
          }
        },
        "82f901a915dc4bb5b0df17c7a5a9b804": {
          "model_module": "@jupyter-widgets/base",
          "model_name": "LayoutModel",
          "model_module_version": "1.2.0",
          "state": {
            "_model_module": "@jupyter-widgets/base",
            "_model_module_version": "1.2.0",
            "_model_name": "LayoutModel",
            "_view_count": null,
            "_view_module": "@jupyter-widgets/base",
            "_view_module_version": "1.2.0",
            "_view_name": "LayoutView",
            "align_content": null,
            "align_items": null,
            "align_self": null,
            "border": null,
            "bottom": null,
            "display": null,
            "flex": null,
            "flex_flow": null,
            "grid_area": null,
            "grid_auto_columns": null,
            "grid_auto_flow": null,
            "grid_auto_rows": null,
            "grid_column": null,
            "grid_gap": null,
            "grid_row": null,
            "grid_template_areas": null,
            "grid_template_columns": null,
            "grid_template_rows": null,
            "height": null,
            "justify_content": null,
            "justify_items": null,
            "left": null,
            "margin": null,
            "max_height": null,
            "max_width": null,
            "min_height": null,
            "min_width": null,
            "object_fit": null,
            "object_position": null,
            "order": null,
            "overflow": null,
            "overflow_x": null,
            "overflow_y": null,
            "padding": null,
            "right": null,
            "top": null,
            "visibility": null,
            "width": null
          }
        },
        "d53692d961e04afd9c257e374cc5cfe0": {
          "model_module": "@jupyter-widgets/controls",
          "model_name": "ProgressStyleModel",
          "model_module_version": "1.5.0",
          "state": {
            "_model_module": "@jupyter-widgets/controls",
            "_model_module_version": "1.5.0",
            "_model_name": "ProgressStyleModel",
            "_view_count": null,
            "_view_module": "@jupyter-widgets/base",
            "_view_module_version": "1.2.0",
            "_view_name": "StyleView",
            "bar_color": null,
            "description_width": ""
          }
        },
        "eeec73db5cba43a4bbd6fbafba88d859": {
          "model_module": "@jupyter-widgets/base",
          "model_name": "LayoutModel",
          "model_module_version": "1.2.0",
          "state": {
            "_model_module": "@jupyter-widgets/base",
            "_model_module_version": "1.2.0",
            "_model_name": "LayoutModel",
            "_view_count": null,
            "_view_module": "@jupyter-widgets/base",
            "_view_module_version": "1.2.0",
            "_view_name": "LayoutView",
            "align_content": null,
            "align_items": null,
            "align_self": null,
            "border": null,
            "bottom": null,
            "display": null,
            "flex": null,
            "flex_flow": null,
            "grid_area": null,
            "grid_auto_columns": null,
            "grid_auto_flow": null,
            "grid_auto_rows": null,
            "grid_column": null,
            "grid_gap": null,
            "grid_row": null,
            "grid_template_areas": null,
            "grid_template_columns": null,
            "grid_template_rows": null,
            "height": null,
            "justify_content": null,
            "justify_items": null,
            "left": null,
            "margin": null,
            "max_height": null,
            "max_width": null,
            "min_height": null,
            "min_width": null,
            "object_fit": null,
            "object_position": null,
            "order": null,
            "overflow": null,
            "overflow_x": null,
            "overflow_y": null,
            "padding": null,
            "right": null,
            "top": null,
            "visibility": null,
            "width": null
          }
        },
        "c731bb07a726443eb7c1fc5bc9ba6eac": {
          "model_module": "@jupyter-widgets/controls",
          "model_name": "DescriptionStyleModel",
          "model_module_version": "1.5.0",
          "state": {
            "_model_module": "@jupyter-widgets/controls",
            "_model_module_version": "1.5.0",
            "_model_name": "DescriptionStyleModel",
            "_view_count": null,
            "_view_module": "@jupyter-widgets/base",
            "_view_module_version": "1.2.0",
            "_view_name": "StyleView",
            "description_width": ""
          }
        }
      }
    }
  },
  "cells": [
    {
      "cell_type": "markdown",
      "metadata": {
        "id": "view-in-github",
        "colab_type": "text"
      },
      "source": [
        "<a href=\"https://colab.research.google.com/github/teju1001/textgen/blob/main/POStagging.ipynb\" target=\"_parent\"><img src=\"https://colab.research.google.com/assets/colab-badge.svg\" alt=\"Open In Colab\"/></a>"
      ]
    },
    {
      "cell_type": "code",
      "source": [
        "from nltk.tag import tnt\n",
        "from nltk.corpus import indian\n",
        "import nltk\n",
        "nltk.download('indian')\n",
        "nltk.download('punkt')"
      ],
      "metadata": {
        "colab": {
          "base_uri": "https://localhost:8080/"
        },
        "id": "BtHFKmoEOBI9",
        "outputId": "bbfe2ece-b01e-4ed6-9ea2-9a9b0e7dae99"
      },
      "execution_count": null,
      "outputs": [
        {
          "output_type": "stream",
          "name": "stderr",
          "text": [
            "[nltk_data] Downloading package indian to /root/nltk_data...\n",
            "[nltk_data]   Package indian is already up-to-date!\n",
            "[nltk_data] Downloading package punkt to /root/nltk_data...\n",
            "[nltk_data]   Package punkt is already up-to-date!\n"
          ]
        },
        {
          "output_type": "execute_result",
          "data": {
            "text/plain": [
              "True"
            ]
          },
          "metadata": {},
          "execution_count": 9
        }
      ]
    },
    {
      "cell_type": "code",
      "source": [],
      "metadata": {
        "id": "TL1z5zsjBOCx"
      },
      "execution_count": null,
      "outputs": []
    },
    {
      "cell_type": "code",
      "source": [
        "#gettagged words (simply check)\n",
        "def hindi_model():\n",
        "    train_data = indian.tagged_sents('hindi.pos')\n",
        "    tnt_pos_tagger = tnt.TnT()\n",
        "    tnt_pos_tagger.train(train_data)\n",
        "    return tnt_pos_tagger\n",
        "\n",
        "text = \"इराक के विदेश मंत्री ने अमरीका के उस प्रस्ताव का मजाक उड़ाया है , जिसमें अमरीका ने संयुक्त राष्ट्र के प्रतिबंधों को इराकी नागरिकों के लिए कम हानिकारक बनाने के लिए कहा है ।\"\n",
        "\n",
        "model = hindi_model()\n",
        "new_tagged = (model.tag(nltk.word_tokenize(text)))\n",
        "print(model.tag(\"tEXT\"))"
      ],
      "metadata": {
        "colab": {
          "base_uri": "https://localhost:8080/"
        },
        "id": "6InGJtovODgu",
        "outputId": "872da975-db05-4cf9-9565-b2643f03ca7e"
      },
      "execution_count": null,
      "outputs": [
        {
          "output_type": "stream",
          "name": "stdout",
          "text": [
            "[('t', 'Unk'), ('E', 'Unk'), ('X', 'Unk'), ('T', 'Unk')]\n"
          ]
        }
      ]
    },
    {
      "cell_type": "code",
      "source": [
        "! pip install stanza\n",
        "import stanza\n",
        "stanza.download('hi')\n",
        "nlp = stanza.Pipeline('hi')"
      ],
      "metadata": {
        "colab": {
          "base_uri": "https://localhost:8080/",
          "height": 708,
          "referenced_widgets": [
            "3fac041706e8496e83bf01e4b02a39ea",
            "3933b3f86d574c878809ee7d0b61af94",
            "d81a354b8798449288d7ecc1694611c5",
            "6503c00f45c941cab32c4d081d5fa12e",
            "22aba4cab4df4185af97586045f7f075",
            "8a2148c816674a698b1771fd59d8d71b",
            "fa643a931e1a40949ba88e9da913b77e",
            "67a2d41f06274d2bb84158563e7f100c",
            "01e4359cf6e9458fa5ac0f884eae37e4",
            "a90807d8fe67420799bce5eb61b662c1",
            "649e23a3ce564028abb3748c70783d8d",
            "bc82cd85e5624d08953ed9ce702fd5b0",
            "21d4069659664b359a86ee35cef1503e",
            "9bb607bab7424c84a3f1210bde074d6e",
            "4b90136cad6c44b1b03a5ec616f2ada1",
            "b6fe8e17f1fd4f00b15b7c4aca222f94",
            "8bdff08d694e4fadb89d2403cfc744fc",
            "d6e44a7aff1d46ae8ff6867d3251dbde",
            "82f901a915dc4bb5b0df17c7a5a9b804",
            "d53692d961e04afd9c257e374cc5cfe0",
            "eeec73db5cba43a4bbd6fbafba88d859",
            "c731bb07a726443eb7c1fc5bc9ba6eac"
          ]
        },
        "id": "1rky3mMR8HGq",
        "outputId": "a628a1de-53b6-4db7-9e0a-446ee84a2e51"
      },
      "execution_count": null,
      "outputs": [
        {
          "output_type": "stream",
          "name": "stdout",
          "text": [
            "Looking in indexes: https://pypi.org/simple, https://us-python.pkg.dev/colab-wheels/public/simple/\n",
            "Requirement already satisfied: stanza in /usr/local/lib/python3.7/dist-packages (1.4.2)\n",
            "Requirement already satisfied: numpy in /usr/local/lib/python3.7/dist-packages (from stanza) (1.21.6)\n",
            "Requirement already satisfied: protobuf in /usr/local/lib/python3.7/dist-packages (from stanza) (3.17.3)\n",
            "Requirement already satisfied: six in /usr/local/lib/python3.7/dist-packages (from stanza) (1.15.0)\n",
            "Requirement already satisfied: emoji in /usr/local/lib/python3.7/dist-packages (from stanza) (2.1.0)\n",
            "Requirement already satisfied: torch>=1.3.0 in /usr/local/lib/python3.7/dist-packages (from stanza) (1.12.1+cu113)\n",
            "Requirement already satisfied: requests in /usr/local/lib/python3.7/dist-packages (from stanza) (2.23.0)\n",
            "Requirement already satisfied: tqdm in /usr/local/lib/python3.7/dist-packages (from stanza) (4.64.1)\n",
            "Requirement already satisfied: typing-extensions in /usr/local/lib/python3.7/dist-packages (from torch>=1.3.0->stanza) (4.1.1)\n",
            "Requirement already satisfied: idna<3,>=2.5 in /usr/local/lib/python3.7/dist-packages (from requests->stanza) (2.10)\n",
            "Requirement already satisfied: certifi>=2017.4.17 in /usr/local/lib/python3.7/dist-packages (from requests->stanza) (2022.9.24)\n",
            "Requirement already satisfied: chardet<4,>=3.0.2 in /usr/local/lib/python3.7/dist-packages (from requests->stanza) (3.0.4)\n",
            "Requirement already satisfied: urllib3!=1.25.0,!=1.25.1,<1.26,>=1.21.1 in /usr/local/lib/python3.7/dist-packages (from requests->stanza) (1.24.3)\n"
          ]
        },
        {
          "output_type": "display_data",
          "data": {
            "text/plain": [
              "Downloading https://raw.githubusercontent.com/stanfordnlp/stanza-resources/main/resources_1.4.1.json:   0%|   …"
            ],
            "application/vnd.jupyter.widget-view+json": {
              "version_major": 2,
              "version_minor": 0,
              "model_id": "3fac041706e8496e83bf01e4b02a39ea"
            }
          },
          "metadata": {}
        },
        {
          "output_type": "stream",
          "name": "stderr",
          "text": [
            "INFO:stanza:Downloading default packages for language: hi (Hindi) ...\n",
            "INFO:stanza:File exists: /root/stanza_resources/hi/default.zip\n",
            "INFO:stanza:Finished downloading models and saved to /root/stanza_resources.\n",
            "INFO:stanza:Checking for updates to resources.json in case models have been updated.  Note: this behavior can be turned off with download_method=None or download_method=DownloadMethod.REUSE_RESOURCES\n"
          ]
        },
        {
          "output_type": "display_data",
          "data": {
            "text/plain": [
              "Downloading https://raw.githubusercontent.com/stanfordnlp/stanza-resources/main/resources_1.4.1.json:   0%|   …"
            ],
            "application/vnd.jupyter.widget-view+json": {
              "version_major": 2,
              "version_minor": 0,
              "model_id": "bc82cd85e5624d08953ed9ce702fd5b0"
            }
          },
          "metadata": {}
        },
        {
          "output_type": "stream",
          "name": "stderr",
          "text": [
            "INFO:stanza:Loading these models for language: hi (Hindi):\n",
            "=======================\n",
            "| Processor | Package |\n",
            "-----------------------\n",
            "| tokenize  | hdtb    |\n",
            "| pos       | hdtb    |\n",
            "| lemma     | hdtb    |\n",
            "| depparse  | hdtb    |\n",
            "=======================\n",
            "\n",
            "INFO:stanza:Use device: cpu\n",
            "INFO:stanza:Loading: tokenize\n",
            "INFO:stanza:Loading: pos\n",
            "INFO:stanza:Loading: lemma\n",
            "INFO:stanza:Loading: depparse\n",
            "INFO:stanza:Done loading processors!\n"
          ]
        }
      ]
    },
    {
      "cell_type": "code",
      "source": [
        "#dealing wiht UNK\n",
        "from nltk.tag import tnt\n",
        "from nltk.corpus import indian\n",
        "\n",
        "import nltk\n",
        "import re\n",
        "\n",
        "sentence_id = 0\n",
        "\n",
        "text = \"बाबा रामदेव के गुरुकुल का आज अमित शाह करेंगे उद्घाटन, योगगुरु बोले- बच्‍चों को वेद भी पढ़ाते हैं और योग भी कराते हैं\"\n",
        "model_path = \"/content/hindi.pos\" #Copy hindi.pos from NLTK corpus\n",
        "\n",
        "def train_hindi_model(model_path):\n",
        "    train_data = indian.tagged_sents(model_path)\n",
        "    tnt_pos_tagger = tnt.TnT()\n",
        "    tnt_pos_tagger.train(train_data)\n",
        "    return tnt_pos_tagger\n",
        "\n",
        "\n",
        "def get_sentId(model_path):\n",
        "    ids = re.compile('<Sentence\\sid=\\d+>')\n",
        "    with open(model_path, \"r+\") as temp_f:\n",
        "        content = temp_f.readlines()\n",
        "        for i in content:\n",
        "            id_found = (ids.findall(i))\n",
        "            if id_found:\n",
        "                id_found = str(id_found).replace(\"['<Sentence id=\", \"\").replace(\">']\", \"\")\n",
        "                \n",
        "                id = int(id_found)\n",
        "    id = id + 1\n",
        "    return id\n",
        "\n",
        "\n",
        "def tag_words(model,text):\n",
        "    tagged = (model.tag(nltk.word_tokenize(text)))\n",
        "    return tagged\n",
        "\n",
        "\n",
        "def handle_UNK(tagged_words, model_path, sentence_id):\n",
        "    with open(model_path, \"r+\") as f1:\n",
        "        result_list = []\n",
        "        for nep_word, tag in tagged_words:\n",
        "            if tag == \"Unk\":\n",
        "              x= nlp(nep_word)\n",
        "              y=(x.to_dict()[0][0]['upos'])\n",
        "              result_list.append(tuple([nep_word,y]))\n",
        "            else:\n",
        "              result_list.append(tuple([nep_word,tag]))\n",
        "        return (result_list)\n",
        "\n",
        "  \n",
        "\n",
        "\n",
        "sentence_id = (get_sentId(model_path))\n",
        "print (sentence_id)\n",
        "\n",
        "model = train_hindi_model(model_path)\n",
        "tagged_words= tag_words(model,text)\n",
        "\n",
        "\n",
        "print (\"=================================Tagged words=================================\\n\",tagged_words,\"\\n\")\n",
        "\n",
        "newtag=handle_UNK(tagged_words,model_path,sentence_id)\n",
        "\n",
        "print()\n",
        "print (\"=================================New Tagged words=================================\\n\",newtag,\"\\n\")\n",
        "\n",
        "\n"
      ],
      "metadata": {
        "colab": {
          "base_uri": "https://localhost:8080/"
        },
        "id": "HccenJpV7RNP",
        "outputId": "f45cdd3c-5d89-42d7-e35b-841197f02cdd"
      },
      "execution_count": null,
      "outputs": [
        {
          "output_type": "stream",
          "name": "stdout",
          "text": [
            "541\n",
            "=================================Tagged words=================================\n",
            " [('बाबा', 'Unk'), ('रामदेव', 'Unk'), ('के', 'PREP'), ('गुरुकुल', 'Unk'), ('का', 'PREP'), ('आज', 'NN'), ('अमित', 'Unk'), ('शाह', 'NNP'), ('करेंगे', 'VFM'), ('उद्घाटन', 'Unk'), (',', 'PUNC'), ('योगगुरु', 'Unk'), ('बोले-', 'Unk'), ('बच्\\u200dचों', 'Unk'), ('को', 'PREP'), ('वेद', 'Unk'), ('भी', 'RP'), ('पढ़ाते', 'Unk'), ('हैं', 'VAUX'), ('और', 'CC'), ('योग', 'NN'), ('भी', 'RP'), ('कराते', 'Unk'), ('हैं', 'VAUX')] \n",
            "\n",
            "\n",
            "=================================New Tagged words=================================\n",
            " [('बाबा', 'NOUN'), ('रामदेव', 'PROPN'), ('के', 'PREP'), ('गुरुकुल', 'PROPN'), ('का', 'PREP'), ('आज', 'NN'), ('अमित', 'PROPN'), ('शाह', 'NNP'), ('करेंगे', 'VFM'), ('उद्घाटन', 'NOUN'), (',', 'PUNC'), ('योगगुरु', 'NOUN'), ('बोले-', 'PUNCT'), ('बच्\\u200dचों', 'NOUN'), ('को', 'PREP'), ('वेद', 'NOUN'), ('भी', 'RP'), ('पढ़ाते', 'VERB'), ('हैं', 'VAUX'), ('और', 'CC'), ('योग', 'NN'), ('भी', 'RP'), ('कराते', 'VERB'), ('हैं', 'VAUX')] \n",
            "\n"
          ]
        }
      ]
    },
    {
      "cell_type": "code",
      "source": [
        "\n",
        "# lst = [['बाबा', 'NOUN'], ['रामदेव', 'PROPN'], ['के', 'PREP'], ['गुरुकुल', 'PROPN'], ['का', 'PREP'], ['आज', 'NN'], ['अमित', 'PROPN'], ['शाह', 'NNP'], ['करेंगे', 'VFM'], ['उद्घाटन', 'NOUN'], [',', 'PUNC'], ['योगगुरु', 'NOUN'], ['बोले-', 'PUNCT'], ['बच्\\u200dचों', 'NOUN'], ['को', 'PREP'], ['वेद', 'NOUN'], ['भी', 'RP'], ['पढ़ाते', 'VERB'], ['हैं', 'VAUX'], ['और', 'CC'], ['योग', 'NN'], ['भी', 'RP'], ['कराते', 'VERB'], ['हैं', 'VAUX']] \n",
        "# dataa =[]\n",
        "# dataa.append(tuple(['बाबा', 'NOUN']))\n",
        "# # data = [x for x in map(tuple, lst)]\n",
        "\n",
        "# # display data\n",
        "# dataa\n"
      ],
      "metadata": {
        "id": "VoM_IZMEUsPN"
      },
      "execution_count": null,
      "outputs": []
    },
    {
      "cell_type": "code",
      "source": [
        "#keyword extraction\n",
        "from nltk.tree import Tree\n",
        "\n",
        "def hindi_model():\n",
        "    train_data = indian.tagged_sents('hindi.pos')\n",
        "    tnt_pos_tagger = tnt.TnT()\n",
        "    tnt_pos_tagger.train(train_data)\n",
        "    return tnt_pos_tagger\n",
        "\n",
        "\n",
        "def get_keywords(pos):\n",
        "    grammar = r\"\"\"NP:{<NN.*>}\"\"\"\n",
        "    chunkParser = nltk.RegexpParser(grammar)\n",
        "    chunked = chunkParser.parse(pos)\n",
        "    continuous_chunk = set()\n",
        "    current_chunk = []\n",
        "    for i in chunked:\n",
        "        if type(i) == Tree:\n",
        "            current_chunk.append(\" \".join([token for token, pos in i.leaves()]))\n",
        "        elif current_chunk:\n",
        "            named_entity = \" \".join(current_chunk)\n",
        "            if named_entity not in continuous_chunk:\n",
        "                continuous_chunk.add(named_entity)\n",
        "                current_chunk = []\n",
        "            else:\n",
        "                continue\n",
        "    return (continuous_chunk)\n",
        "\n",
        "text = \"इराक के विदेश मंत्री ने अमरीका के उस प्रस्ताव का मजाक उड़ाया है , जिसमें अमरीका ने संयुक्त राष्ट्र के प्रतिबंधों को इराकी नागरिकों के लिए कम हानिकारक बनाने के लिए कहा है ।\"\n",
        "\n",
        "model = hindi_model()\n",
        "old_tagged = (model.tag(nltk.word_tokenize(text)))\n",
        "\n",
        "new_tag_list = handle_UNK(old_tagged, model_path, sentence_id)\n",
        "\n",
        "print(old_tagged)\n",
        "print()\n",
        "print(new_tag_list)\n",
        "print()\n",
        "print(\"====KEYWORDS===\")\n",
        "keywords = get_keywords(new_tag_list)\n",
        "print(keywords)\n"
      ],
      "metadata": {
        "colab": {
          "base_uri": "https://localhost:8080/"
        },
        "id": "SFxHeelt6l6Z",
        "outputId": "66995b88-d6e0-4118-ba62-931d6b3f1abc"
      },
      "execution_count": null,
      "outputs": [
        {
          "output_type": "stream",
          "name": "stdout",
          "text": [
            "[('इराक', 'NNP'), ('के', 'PREP'), ('विदेश', 'NNC'), ('मंत्री', 'NN'), ('ने', 'PREP'), ('अमरीका', 'NNP'), ('के', 'PREP'), ('उस', 'PRP'), ('प्रस्ताव', 'NN'), ('का', 'PREP'), ('मजाक', 'NVB'), ('उड़ाया', 'VFM'), ('है', 'VAUX'), (',', 'PUNC'), ('जिसमें', 'PRP'), ('अमरीका', 'NNP'), ('ने', 'PREP'), ('संयुक्त', 'NNC'), ('राष्ट्र', 'NN'), ('के', 'PREP'), ('प्रतिबंधों', 'NN'), ('को', 'PREP'), ('इराकी', 'JJ'), ('नागरिकों', 'NN'), ('के', 'PREP'), ('लिए', 'PREP'), ('कम', 'INTF'), ('हानिकारक', 'JJ'), ('बनाने', 'VNN'), ('के', 'PREP'), ('लिए', 'PREP'), ('कहा', 'VFM'), ('है', 'VAUX'), ('।', 'PUNC')]\n",
            "\n",
            "[('इराक', 'NNP'), ('के', 'PREP'), ('विदेश', 'NNC'), ('मंत्री', 'NN'), ('ने', 'PREP'), ('अमरीका', 'NNP'), ('के', 'PREP'), ('उस', 'PRP'), ('प्रस्ताव', 'NN'), ('का', 'PREP'), ('मजाक', 'NVB'), ('उड़ाया', 'VFM'), ('है', 'VAUX'), (',', 'PUNC'), ('जिसमें', 'PRP'), ('अमरीका', 'NNP'), ('ने', 'PREP'), ('संयुक्त', 'NNC'), ('राष्ट्र', 'NN'), ('के', 'PREP'), ('प्रतिबंधों', 'NN'), ('को', 'PREP'), ('इराकी', 'JJ'), ('नागरिकों', 'NN'), ('के', 'PREP'), ('लिए', 'PREP'), ('कम', 'INTF'), ('हानिकारक', 'JJ'), ('बनाने', 'VNN'), ('के', 'PREP'), ('लिए', 'PREP'), ('कहा', 'VFM'), ('है', 'VAUX'), ('।', 'PUNC')]\n",
            "\n",
            "====KEYWORDS===\n",
            "{'नागरिकों', 'इराक', 'विदेश मंत्री', 'अमरीका', 'अमरीका संयुक्त राष्ट्र', 'प्रतिबंधों', 'प्रस्ताव'}\n"
          ]
        }
      ]
    },
    {
      "cell_type": "markdown",
      "source": [
        "**Freq**"
      ],
      "metadata": {
        "id": "VSIgov5rbfEX"
      }
    },
    {
      "cell_type": "code",
      "source": [
        "from google.colab import drive\n",
        "drive.mount('/content/drive')"
      ],
      "metadata": {
        "id": "DGs1QKHGJK8b"
      },
      "execution_count": null,
      "outputs": []
    },
    {
      "cell_type": "code",
      "source": [
        "\n",
        "!ls \"/content/drive/My Drive/colab/pos\"\n",
        "# drive.mount('/content/drive/colab/pos/Hindi_StopWords.txt')"
      ],
      "metadata": {
        "colab": {
          "base_uri": "https://localhost:8080/"
        },
        "id": "xKtBrYjabkcW",
        "outputId": "819d8d81-0f23-47d3-dec5-07a840021aec"
      },
      "execution_count": null,
      "outputs": [
        {
          "output_type": "stream",
          "name": "stdout",
          "text": [
            "hindi.pos  Hindi_StopWords.txt\ttest_dataset.txt  wikidata2.txt\n"
          ]
        }
      ]
    },
    {
      "cell_type": "markdown",
      "source": [
        "*Importing datasets from drive*"
      ],
      "metadata": {
        "id": "41OBPCVZgw6g"
      }
    },
    {
      "cell_type": "code",
      "source": [
        "with open(\"/content/drive/My Drive/colab/pos/wikidata2.txt\", mode='r', encoding='utf-8-sig') as f:\n",
        "    text= f.read()\n",
        "# Stop words\n",
        "with open(\"/content/drive/My Drive/colab/pos/Hindi_StopWords.txt\",encoding='utf-8') as f:\n",
        "    stopword= f.read().strip('\\ufeff')\n",
        "stopwords = set(stopword)"
      ],
      "metadata": {
        "id": "SerXoi2mgvs4"
      },
      "execution_count": null,
      "outputs": []
    },
    {
      "cell_type": "markdown",
      "source": [
        "*Cleaning and tokenization*"
      ],
      "metadata": {
        "id": "03Cb8juxhDg2"
      }
    },
    {
      "cell_type": "code",
      "source": [],
      "metadata": {
        "id": "SofoJP1dhI6K"
      },
      "execution_count": null,
      "outputs": []
    },
    {
      "cell_type": "code",
      "source": [
        "from string import punctuation\n",
        "from nltk.tokenize import word_tokenize\n",
        "from nltk.probability import FreqDist\n",
        "\n",
        "\n",
        "tokens = word_tokenize(text)\n",
        "customStopWords = set(list(stopwords) + list(punctuation+'।'+'॥'))\n",
        "wordsWOstopwords = [word for word in tokens if word not in customStopWords]\n",
        "#removing numeric digits from list of words\n",
        "wordsWOstopwords = [i for i in wordsWOstopwords if not i.isdigit()]\n",
        "freq = FreqDist(wordsWOstopwords)\n",
        "\n",
        "def freq_finder(word):\n",
        "    return freq[word]\n",
        "# print(\"प्रेम appears for {} times while डर appears for {} times in Test dataset.\".format(freq_finder('प्रेम'),freq_finder('डर')))"
      ],
      "metadata": {
        "id": "0agqzKsle8iW"
      },
      "execution_count": null,
      "outputs": []
    },
    {
      "cell_type": "markdown",
      "source": [
        "**Ranking of extracted words**"
      ],
      "metadata": {
        "id": "L_0AUrKDh-3T"
      }
    },
    {
      "cell_type": "code",
      "source": [
        "freq_dict ={}\n",
        "for wrds in keywords:\n",
        "  for wrd in wrds.split():\n",
        "      temp_freq = freq_finder(wrd)\n",
        "      print(f'{wrd} --> {temp_freq}')\n",
        "  # freq_dict[wrd].append(temp_freq)\n",
        "# freq_dict\n"
      ],
      "metadata": {
        "colab": {
          "base_uri": "https://localhost:8080/"
        },
        "id": "dwIUcluch-dh",
        "outputId": "ee7062f6-c00c-4cd3-d9b1-34e95f1007f4"
      },
      "execution_count": null,
      "outputs": [
        {
          "output_type": "stream",
          "name": "stdout",
          "text": [
            "नागरिकों --> 537\n",
            "इराक --> 189\n",
            "विदेश --> 836\n",
            "मंत्री --> 1452\n",
            "अमरीका --> 909\n",
            "अमरीका --> 909\n",
            "संयुक्त --> 4665\n",
            "राष्ट्र --> 2378\n",
            "प्रतिबंधों --> 95\n",
            "प्रस्ताव --> 1417\n"
          ]
        }
      ]
    }
  ]
}