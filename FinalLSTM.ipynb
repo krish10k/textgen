{
  "cells": [
    {
      "cell_type": "markdown",
      "metadata": {
        "id": "view-in-github",
        "colab_type": "text"
      },
      "source": [
        "<a href=\"https://colab.research.google.com/github/teju1001/textgen/blob/main/FinalLSTM.ipynb\" target=\"_parent\"><img src=\"https://colab.research.google.com/assets/colab-badge.svg\" alt=\"Open In Colab\"/></a>"
      ]
    },
    {
      "cell_type": "code",
      "execution_count": null,
      "id": "171ab265",
      "metadata": {
        "id": "171ab265"
      },
      "outputs": [],
      "source": [
        "ds= list()\n",
        "def filetolist(txtfilelist) : \n",
        "    for txt_file in txtfilelist:\n",
        "        with open(txt_fileencoding=\"utf8\") as f:\n",
        "            txt = f\n",
        "            ds.append(txt)\n",
        "    \n",
        "filetolist(txt_files)\n",
        "txtds=''.join(ds)       \n",
        "print(len(txtds))"
      ]
    },
    {
      "cell_type": "code",
      "execution_count": null,
      "id": "220ab7d4",
      "metadata": {
        "id": "220ab7d4",
        "colab": {
          "base_uri": "https://localhost:8080/"
        },
        "outputId": "f04152bb-1d6c-4641-dded-e2e4ccab3c78"
      },
      "outputs": [
        {
          "output_type": "stream",
          "name": "stdout",
          "text": [
            "Total articles: []\n"
          ]
        }
      ],
      "source": [
        "import glob\n",
        "txt_files= glob.glob(\"train/*.txt\")\n",
        "print(f\"Total articles: {(txt_files[:10])}\")"
      ]
    },
    {
      "cell_type": "code",
      "execution_count": null,
      "id": "bdf27eb9",
      "metadata": {
        "id": "bdf27eb9"
      },
      "outputs": [],
      "source": [
        "import glob\n",
        "\n",
        "def read_first_line(file):\n",
        "    \"\"\"Gets the first line from a file.\n",
        "\n",
        "    Returns\n",
        "    -------\n",
        "    str\n",
        "        the first line text of the input file\n",
        "    \"\"\"\n",
        "    with open(file, encoding=\"utf8\") as fd:\n",
        "        first_line = fd.readline()\n",
        "    return first_line\n",
        "\n",
        "def merge_per_folder(folder_path, output_filename):\n",
        "    \"\"\"Merges first lines of text files in one folder, and\n",
        "    writes combined lines into new output file\n",
        "\n",
        "    Parameters\n",
        "    ----------\n",
        "    folder_path : str\n",
        "        String representation of the folder path containing the text files.\n",
        "    output_filename : str\n",
        "        Name of the output file the merged lines will be written to.\n",
        "    \"\"\"\n",
        "    # make sure there's a slash to the folder path \n",
        "    folder_path += \"\" if folder_path[-1] == \"/\" else \"/\"\n",
        "    # get all text files\n",
        "    txt_files = glob.glob(folder_path + \"*.txt\")\n",
        "    # get first lines; map to each text file (sorted)\n",
        "    output_strings = map(read_first_line, sorted(txt_files))\n",
        "    output_content = \"\".join(output_strings)\n",
        "    # write to file\n",
        "    with open(folder_path + output_filename, 'wt') as outfile:\n",
        "        outfile.write(output_content)"
      ]
    },
    {
      "cell_type": "code",
      "execution_count": null,
      "id": "93d125c4",
      "metadata": {
        "id": "93d125c4",
        "colab": {
          "base_uri": "https://localhost:8080/",
          "height": 269
        },
        "outputId": "d4089dfb-35d6-4b20-9526-99b430bd204b"
      },
      "outputs": [
        {
          "output_type": "error",
          "ename": "FileNotFoundError",
          "evalue": "ignored",
          "traceback": [
            "\u001b[0;31m---------------------------------------------------------------------------\u001b[0m",
            "\u001b[0;31mFileNotFoundError\u001b[0m                         Traceback (most recent call last)",
            "\u001b[0;32m<ipython-input-5-3e5c7238ff61>\u001b[0m in \u001b[0;36m<module>\u001b[0;34m\u001b[0m\n\u001b[0;32m----> 1\u001b[0;31m \u001b[0mmerge_per_folder\u001b[0m\u001b[0;34m(\u001b[0m\u001b[0;34m'testdata/'\u001b[0m\u001b[0;34m,\u001b[0m \u001b[0;34m'wikidata2.txt'\u001b[0m\u001b[0;34m)\u001b[0m\u001b[0;34m\u001b[0m\u001b[0;34m\u001b[0m\u001b[0m\n\u001b[0m",
            "\u001b[0;32m<ipython-input-3-594f98a54f04>\u001b[0m in \u001b[0;36mmerge_per_folder\u001b[0;34m(folder_path, output_filename)\u001b[0m\n\u001b[1;32m     32\u001b[0m     \u001b[0moutput_content\u001b[0m \u001b[0;34m=\u001b[0m \u001b[0;34m\"\"\u001b[0m\u001b[0;34m.\u001b[0m\u001b[0mjoin\u001b[0m\u001b[0;34m(\u001b[0m\u001b[0moutput_strings\u001b[0m\u001b[0;34m)\u001b[0m\u001b[0;34m\u001b[0m\u001b[0;34m\u001b[0m\u001b[0m\n\u001b[1;32m     33\u001b[0m     \u001b[0;31m# write to file\u001b[0m\u001b[0;34m\u001b[0m\u001b[0;34m\u001b[0m\u001b[0;34m\u001b[0m\u001b[0m\n\u001b[0;32m---> 34\u001b[0;31m     \u001b[0;32mwith\u001b[0m \u001b[0mopen\u001b[0m\u001b[0;34m(\u001b[0m\u001b[0mfolder_path\u001b[0m \u001b[0;34m+\u001b[0m \u001b[0moutput_filename\u001b[0m\u001b[0;34m,\u001b[0m \u001b[0;34m'wt'\u001b[0m\u001b[0;34m)\u001b[0m \u001b[0;32mas\u001b[0m \u001b[0moutfile\u001b[0m\u001b[0;34m:\u001b[0m\u001b[0;34m\u001b[0m\u001b[0;34m\u001b[0m\u001b[0m\n\u001b[0m\u001b[1;32m     35\u001b[0m         \u001b[0moutfile\u001b[0m\u001b[0;34m.\u001b[0m\u001b[0mwrite\u001b[0m\u001b[0;34m(\u001b[0m\u001b[0moutput_content\u001b[0m\u001b[0;34m)\u001b[0m\u001b[0;34m\u001b[0m\u001b[0;34m\u001b[0m\u001b[0m\n",
            "\u001b[0;31mFileNotFoundError\u001b[0m: [Errno 2] No such file or directory: 'testdata/wikidata2.txt'"
          ]
        }
      ],
      "source": [
        "merge_per_folder('testdata/', 'wikidata2.txt')"
      ]
    },
    {
      "cell_type": "code",
      "execution_count": null,
      "id": "6928f097",
      "metadata": {
        "id": "6928f097",
        "outputId": "6762bdbb-b67b-4c5f-9e95-395baa58d87b"
      },
      "outputs": [
        {
          "name": "stdout",
          "output_type": "stream",
          "text": [
            "<_io.TextIOWrapper name='C:/Users/Dell/Documents/MiNi-PrOjEcT/train\\\\10.txt' mode='r' encoding='cp1252'>\n"
          ]
        }
      ],
      "source": [
        "print(ds[1])"
      ]
    },
    {
      "cell_type": "markdown",
      "source": [
        "# Code for Colab"
      ],
      "metadata": {
        "id": "jVHhZtUdSWxM"
      },
      "id": "jVHhZtUdSWxM"
    },
    {
      "cell_type": "code",
      "execution_count": null,
      "id": "895e78ed",
      "metadata": {
        "id": "895e78ed",
        "colab": {
          "base_uri": "https://localhost:8080/"
        },
        "outputId": "60444ec9-e0e4-4015-bb5a-aaaba79dc04d"
      },
      "outputs": [
        {
          "output_type": "stream",
          "name": "stdout",
          "text": [
            "Colab only includes TensorFlow 2.x; %tensorflow_version has no effect.\n"
          ]
        }
      ],
      "source": [
        "%tensorflow_version 2.x\n",
        "import tensorflow as tf\n",
        "import string\n",
        "import requests\n",
        "import numpy as np\n",
        "import os\n",
        "import time"
      ]
    },
    {
      "cell_type": "code",
      "source": [
        "from google.colab import drive\n",
        "drive.mount('/content/drive')"
      ],
      "metadata": {
        "colab": {
          "base_uri": "https://localhost:8080/"
        },
        "id": "-tCwUMDjTsOk",
        "outputId": "4e36e65e-fe8f-4bff-c611-2ce72211beeb"
      },
      "id": "-tCwUMDjTsOk",
      "execution_count": null,
      "outputs": [
        {
          "output_type": "stream",
          "name": "stdout",
          "text": [
            "Mounted at /content/drive\n"
          ]
        }
      ]
    },
    {
      "cell_type": "code",
      "execution_count": null,
      "id": "e4c1cab7",
      "metadata": {
        "id": "e4c1cab7"
      },
      "outputs": [],
      "source": [
        "text_file = open(\"/content/drive/My Drive/colab/hdataset.txt\",'r') #Drve File Path\n",
        "ds= text_file.read() \n",
        "text_file.close()"
      ]
    },
    {
      "cell_type": "code",
      "execution_count": null,
      "id": "f8cc3151",
      "metadata": {
        "id": "f8cc3151",
        "outputId": "36d23acd-6c82-43a0-f2a6-84a873ffc61f",
        "colab": {
          "base_uri": "https://localhost:8080/",
          "height": 70
        }
      },
      "outputs": [
        {
          "output_type": "execute_result",
          "data": {
            "text/plain": [
              "'अगर भारत के संदर्भ में बात की जाए तो भारत एक विविध संस्कृति वाला देश है, एक तथ्य कि यहाँ यह बात इसके लोगों, संस्कृति और मौसम में भी प्रमुखता से दिखाई देती है। हिमालय की अनश्वर बर्फ से लेकर दक्षिण के दूर दराज में खेतों तक, पश्चिम के रेगिस्तान से पूर्व के नम डेल्टा तक, सूखी गर्मी से लेकर पहाड़ियों की तराई के मध्य पठार की ठंडक तक, भारतीय जीवनशैलियाँ इसके भूगोल की भव्यता स्पष्ट रूप से दर्शाती है। एक भारतीय के परिधान, योजना और आदतें इसके उद्भव के स्थान के अनुसार अलग-अलग होते हैं।\\nभारती संस्कृति अपनी '"
            ],
            "application/vnd.google.colaboratory.intrinsic+json": {
              "type": "string"
            }
          },
          "metadata": {},
          "execution_count": 11
        }
      ],
      "source": [
        "ds[:500]"
      ]
    },
    {
      "cell_type": "code",
      "execution_count": null,
      "id": "3e53c050",
      "metadata": {
        "id": "3e53c050"
      },
      "outputs": [],
      "source": [
        "import re\n",
        "def text_cleaner(text):\n",
        "    newString = text\n",
        "    #newString = re.sub(r\"‘\",\"\",newString)\n",
        "    # remove punctuations, english words and numbers\n",
        "    newString = re.sub('([-%!#?,.:\"‘’।])', \" \", newString)\n",
        "    newString = re.sub(\"[a-zA-Z]\", \" \", newString)\n",
        "    newString = re.sub(\"[0-9]\", \" \", newString)\n",
        "    long_words=[]\n",
        "    # remove single characters\n",
        "    for i in newString.split():\n",
        "        if len(i)>=1:                  \n",
        "            long_words.append(i)\n",
        "    return (\" \".join(long_words)).strip()"
      ]
    },
    {
      "cell_type": "code",
      "execution_count": null,
      "id": "31b50e27",
      "metadata": {
        "colab": {
          "base_uri": "https://localhost:8080/"
        },
        "id": "31b50e27",
        "outputId": "708507b1-097c-42d0-f601-c599c1d0e89b"
      },
      "outputs": [
        {
          "output_type": "stream",
          "name": "stdout",
          "text": [
            "['अगर', 'भारत', 'के', 'संदर्भ', 'में', 'बात', 'की', 'जाए', 'तो', 'भारत', 'एक', 'विविध', 'संस्कृति', 'वाला', 'देश', 'है', 'एक', 'तथ्य', 'कि', 'यहाँ', 'यह', 'बात', 'इसके', 'लोगों', 'संस्कृति', 'और', 'मौसम', 'में', 'भी', 'प्रमुखता', 'से', 'दिखाई', 'देती', 'है', 'हिमालय', 'की', 'अनश्वर', 'बर्फ', 'से', 'लेकर', 'दक्षिण', 'के', 'दूर', 'दराज', 'में', 'खेतों', 'तक', 'पश्चिम', 'के', 'रेगिस्तान', 'से', 'पूर्व', 'के', 'नम', 'डेल्टा', 'तक', 'सूखी', 'गर्मी', 'से', 'लेकर', 'पहाड़ियों', 'की', 'तराई', 'के', 'मध्य', 'पठार', 'की', 'ठंडक', 'तक', 'भारतीय', 'जीवनशैलियाँ', 'इसके', 'भूगोल', 'की', 'भव्यता', 'स्पष्ट', 'रूप', 'से', 'दर्शाती', 'है', 'एक', 'भारतीय', 'के', 'परिधान', 'योजना', 'और', 'आदतें', 'इसके', 'उद्भव', 'के', 'स्थान', 'के', 'अनुसार', 'अलग', 'अलग', 'होते', 'हैं', 'भारती', 'संस्कृति', 'अपनी']\n",
            "\n",
            "Total number of tokens : 1536\n"
          ]
        }
      ],
      "source": [
        "text = text_cleaner(ds).split()\n",
        "print(text[:100])\n",
        "print('\\nTotal number of tokens :',len(set(text)))"
      ]
    },
    {
      "cell_type": "code",
      "execution_count": null,
      "id": "8e1d68aa",
      "metadata": {
        "id": "8e1d68aa"
      },
      "outputs": [],
      "source": [
        "length = 30 + 1\n",
        "lines =[]\n",
        "\n",
        "for i in range (length,len(text)) :\n",
        "    seq = text[i-length:i]\n",
        "    line = ' '.join(seq)\n",
        "    lines.append(line)\n",
        "    if i >5000:\n",
        "        break\n"
      ]
    },
    {
      "cell_type": "code",
      "execution_count": null,
      "id": "e8857722",
      "metadata": {
        "colab": {
          "base_uri": "https://localhost:8080/",
          "height": 36
        },
        "id": "e8857722",
        "outputId": "1885bda5-e027-43e2-a144-7b27323fa945"
      },
      "outputs": [
        {
          "output_type": "execute_result",
          "data": {
            "text/plain": [
              "'विशाल भौगोलिक स्थिति के समान अलग अलग है यहाँ के लोग अलग अलग भाषाएँ बोलते हैं अलग अलग तरह के कपडे़ पहनते हैं भिन्न भिन्न धर्मों का पालन करते हैं अलग'"
            ],
            "application/vnd.google.colaboratory.intrinsic+json": {
              "type": "string"
            }
          },
          "metadata": {},
          "execution_count": 30
        }
      ],
      "source": [
        "lines[100]"
      ]
    },
    {
      "cell_type": "code",
      "execution_count": null,
      "id": "6147b5e8",
      "metadata": {
        "id": "6147b5e8"
      },
      "outputs": [],
      "source": [
        "## LSMT Model\n",
        "from tensorflow.keras.preprocessing.text import Tokenizer \n",
        "from tensorflow.keras.utils import to_categorical \n",
        "from tensorflow. keras.models import Sequential \n",
        "from tensorflow.keras.layers import Dense, LSTM, Embedding \n",
        "from tensorflow.keras.preprocessing. sequence import pad_sequences"
      ]
    },
    {
      "cell_type": "code",
      "execution_count": null,
      "id": "7c1d3b0b",
      "metadata": {
        "id": "7c1d3b0b"
      },
      "outputs": [],
      "source": [
        "tokenizer = Tokenizer() \n",
        "tokenizer.fit_on_texts(lines) \n",
        "sequences = tokenizer.texts_to_sequences (lines)"
      ]
    },
    {
      "cell_type": "code",
      "execution_count": null,
      "id": "2cf49e1b",
      "metadata": {
        "id": "2cf49e1b"
      },
      "outputs": [],
      "source": [
        "sequences = np.array(sequences)\n",
        "X,y = sequences[:,:-1],sequences[:,-1]"
      ]
    },
    {
      "cell_type": "code",
      "execution_count": null,
      "id": "bede1ad1",
      "metadata": {
        "colab": {
          "base_uri": "https://localhost:8080/"
        },
        "id": "bede1ad1",
        "outputId": "dc7ffc8a-8084-4054-ce80-6a5bf0dedc4a"
      },
      "outputs": [
        {
          "output_type": "execute_result",
          "data": {
            "text/plain": [
              "array([ 78,  24,   2, 131,   3,  75,   4,  60,  27,  24,  17, 798,   5,\n",
              "       796, 128,   1,  17, 794,  16,  59,  20,  75,  52,  77,   5,   9,\n",
              "       791,   3,  13, 789])"
            ]
          },
          "metadata": {},
          "execution_count": 19
        }
      ],
      "source": [
        "X[0]"
      ]
    },
    {
      "cell_type": "code",
      "execution_count": null,
      "id": "da750e63",
      "metadata": {
        "colab": {
          "base_uri": "https://localhost:8080/"
        },
        "id": "da750e63",
        "outputId": "f2df3da1-bf5f-4f7b-d811-4db43841f028"
      },
      "outputs": [
        {
          "output_type": "execute_result",
          "data": {
            "text/plain": [
              "9"
            ]
          },
          "metadata": {},
          "execution_count": 13
        }
      ],
      "source": [
        "y[0]"
      ]
    },
    {
      "cell_type": "code",
      "execution_count": null,
      "id": "7a58dcc0",
      "metadata": {
        "colab": {
          "base_uri": "https://localhost:8080/"
        },
        "id": "7a58dcc0",
        "outputId": "94716f19-51bb-4f21-f2b5-5775d39438bd"
      },
      "outputs": [
        {
          "output_type": "execute_result",
          "data": {
            "text/plain": [
              "800"
            ]
          },
          "metadata": {},
          "execution_count": 20
        }
      ],
      "source": [
        "vocab_size = len(tokenizer.word_index)+1\n",
        "vocab_size"
      ]
    },
    {
      "cell_type": "code",
      "execution_count": null,
      "id": "2ef34a76",
      "metadata": {
        "id": "2ef34a76"
      },
      "outputs": [],
      "source": [
        "y = to_categorical( y , num_classes = vocab_size)"
      ]
    },
    {
      "cell_type": "code",
      "execution_count": null,
      "id": "9edd9cce",
      "metadata": {
        "id": "9edd9cce"
      },
      "outputs": [],
      "source": [
        "X.shape[1]\n",
        "seq_length = X.shape[1]"
      ]
    },
    {
      "cell_type": "code",
      "execution_count": null,
      "id": "2909058b",
      "metadata": {
        "id": "2909058b",
        "outputId": "e058f266-c6db-405c-e5c7-c089471c6a40",
        "colab": {
          "base_uri": "https://localhost:8080/",
          "height": 235
        }
      },
      "outputs": [
        {
          "output_type": "error",
          "ename": "NameError",
          "evalue": "ignored",
          "traceback": [
            "\u001b[0;31m---------------------------------------------------------------------------\u001b[0m",
            "\u001b[0;31mNameError\u001b[0m                                 Traceback (most recent call last)",
            "\u001b[0;32m<ipython-input-1-95d9b241574f>\u001b[0m in \u001b[0;36m<module>\u001b[0;34m\u001b[0m\n\u001b[0;32m----> 1\u001b[0;31m \u001b[0mmodel\u001b[0m \u001b[0;34m=\u001b[0m \u001b[0mSequential\u001b[0m\u001b[0;34m(\u001b[0m\u001b[0;34m)\u001b[0m\u001b[0;34m\u001b[0m\u001b[0;34m\u001b[0m\u001b[0m\n\u001b[0m\u001b[1;32m      2\u001b[0m \u001b[0mmodel\u001b[0m\u001b[0;34m.\u001b[0m\u001b[0madd\u001b[0m\u001b[0;34m(\u001b[0m\u001b[0mEmbedding\u001b[0m\u001b[0;34m(\u001b[0m\u001b[0mvocab_size\u001b[0m\u001b[0;34m,\u001b[0m \u001b[0;36m4\u001b[0m \u001b[0;34m,\u001b[0m \u001b[0minput_length\u001b[0m \u001b[0;34m=\u001b[0m \u001b[0mseq_length\u001b[0m\u001b[0;34m)\u001b[0m\u001b[0;34m)\u001b[0m\u001b[0;34m\u001b[0m\u001b[0;34m\u001b[0m\u001b[0m\n\u001b[1;32m      3\u001b[0m \u001b[0mmodel\u001b[0m\u001b[0;34m.\u001b[0m\u001b[0madd\u001b[0m\u001b[0;34m(\u001b[0m\u001b[0mLSTM\u001b[0m\u001b[0;34m(\u001b[0m\u001b[0;36m100\u001b[0m \u001b[0;34m,\u001b[0m \u001b[0mreturn_sequences\u001b[0m\u001b[0;34m=\u001b[0m\u001b[0;32mTrue\u001b[0m\u001b[0;34m)\u001b[0m\u001b[0;34m)\u001b[0m\u001b[0;34m\u001b[0m\u001b[0;34m\u001b[0m\u001b[0m\n\u001b[1;32m      4\u001b[0m \u001b[0mmodel\u001b[0m\u001b[0;34m.\u001b[0m\u001b[0madd\u001b[0m\u001b[0;34m(\u001b[0m\u001b[0mLSTM\u001b[0m\u001b[0;34m(\u001b[0m\u001b[0;36m100\u001b[0m\u001b[0;34m)\u001b[0m\u001b[0;34m)\u001b[0m\u001b[0;34m\u001b[0m\u001b[0;34m\u001b[0m\u001b[0m\n\u001b[1;32m      5\u001b[0m \u001b[0mmodel\u001b[0m\u001b[0;34m.\u001b[0m\u001b[0madd\u001b[0m\u001b[0;34m(\u001b[0m\u001b[0mDense\u001b[0m\u001b[0;34m(\u001b[0m\u001b[0;36m100\u001b[0m \u001b[0;34m,\u001b[0m \u001b[0mactivation\u001b[0m \u001b[0;34m=\u001b[0m \u001b[0;34m'relu'\u001b[0m\u001b[0;34m)\u001b[0m\u001b[0;34m)\u001b[0m\u001b[0;34m\u001b[0m\u001b[0;34m\u001b[0m\u001b[0m\n",
            "\u001b[0;31mNameError\u001b[0m: name 'Sequential' is not defined"
          ]
        }
      ],
      "source": [
        "model = Sequential()\n",
        "model.add(Embedding(vocab_size, 30 , input_length = seq_length))\n",
        "model.add(LSTM(100 , return_sequences=True))\n",
        "model.add(LSTM(100))\n",
        "model.add(Dense(100 , activation = 'relu'))\n",
        "model.add(Dense (vocab_size , activation = 'softmax'))\n"
      ]
    },
    {
      "cell_type": "code",
      "execution_count": null,
      "id": "c2c4cdbc",
      "metadata": {
        "colab": {
          "base_uri": "https://localhost:8080/"
        },
        "id": "c2c4cdbc",
        "outputId": "1b7694d6-216d-40f8-ca5a-5cbf2839f9f2"
      },
      "outputs": [
        {
          "output_type": "stream",
          "name": "stdout",
          "text": [
            "Model: \"sequential\"\n",
            "_________________________________________________________________\n",
            " Layer (type)                Output Shape              Param #   \n",
            "=================================================================\n",
            " embedding (Embedding)       (None, 30, 30)            14370     \n",
            "                                                                 \n",
            " lstm (LSTM)                 (None, 30, 100)           52400     \n",
            "                                                                 \n",
            " lstm_1 (LSTM)               (None, 100)               80400     \n",
            "                                                                 \n",
            " dense (Dense)               (None, 100)               10100     \n",
            "                                                                 \n",
            " dense_1 (Dense)             (None, 479)               48379     \n",
            "                                                                 \n",
            "=================================================================\n",
            "Total params: 205,649\n",
            "Trainable params: 205,649\n",
            "Non-trainable params: 0\n",
            "_________________________________________________________________\n"
          ]
        }
      ],
      "source": [
        "model.summary()"
      ]
    },
    {
      "cell_type": "code",
      "execution_count": null,
      "id": "8f6b7840",
      "metadata": {
        "id": "8f6b7840"
      },
      "outputs": [],
      "source": [
        "model.compile(loss = 'categorical_crossentropy' , optimizer = 'adam' , metrics = ['accuracy'])"
      ]
    },
    {
      "cell_type": "code",
      "execution_count": null,
      "id": "927cbb70",
      "metadata": {
        "colab": {
          "base_uri": "https://localhost:8080/"
        },
        "id": "927cbb70",
        "outputId": "929e801f-4b55-4c6c-decf-7e498a3ce98a"
      },
      "outputs": [
        {
          "output_type": "stream",
          "name": "stdout",
          "text": [
            "Epoch 1/100\n",
            "31/31 [==============================] - 8s 103ms/step - loss: 6.4545 - accuracy: 0.0238\n",
            "Epoch 2/100\n",
            "31/31 [==============================] - 3s 103ms/step - loss: 5.9490 - accuracy: 0.0492\n",
            "Epoch 3/100\n",
            "31/31 [==============================] - 3s 102ms/step - loss: 5.8575 - accuracy: 0.0492\n",
            "Epoch 4/100\n",
            "31/31 [==============================] - 3s 101ms/step - loss: 5.8400 - accuracy: 0.0492\n",
            "Epoch 5/100\n",
            "31/31 [==============================] - 3s 101ms/step - loss: 5.8257 - accuracy: 0.0492\n",
            "Epoch 6/100\n",
            "31/31 [==============================] - 3s 100ms/step - loss: 5.8211 - accuracy: 0.0492\n",
            "Epoch 7/100\n",
            "31/31 [==============================] - 3s 102ms/step - loss: 5.8183 - accuracy: 0.0436\n",
            "Epoch 8/100\n",
            "31/31 [==============================] - 3s 100ms/step - loss: 5.7803 - accuracy: 0.0492\n",
            "Epoch 9/100\n",
            "31/31 [==============================] - 3s 100ms/step - loss: 5.6693 - accuracy: 0.0492\n",
            "Epoch 10/100\n",
            "31/31 [==============================] - 3s 100ms/step - loss: 5.5270 - accuracy: 0.0446\n",
            "Epoch 11/100\n",
            "31/31 [==============================] - 3s 101ms/step - loss: 5.4431 - accuracy: 0.0487\n",
            "Epoch 12/100\n",
            "31/31 [==============================] - 3s 101ms/step - loss: 5.3689 - accuracy: 0.0487\n",
            "Epoch 13/100\n",
            "31/31 [==============================] - 3s 112ms/step - loss: 5.2852 - accuracy: 0.0492\n",
            "Epoch 14/100\n",
            "31/31 [==============================] - 5s 161ms/step - loss: 5.2075 - accuracy: 0.0609\n",
            "Epoch 15/100\n",
            "31/31 [==============================] - 3s 99ms/step - loss: 5.1360 - accuracy: 0.0604\n",
            "Epoch 16/100\n",
            "31/31 [==============================] - 3s 100ms/step - loss: 5.0766 - accuracy: 0.0629\n",
            "Epoch 17/100\n",
            "31/31 [==============================] - 3s 100ms/step - loss: 5.0190 - accuracy: 0.0624\n",
            "Epoch 18/100\n",
            "31/31 [==============================] - 3s 101ms/step - loss: 4.9349 - accuracy: 0.0695\n",
            "Epoch 19/100\n",
            "31/31 [==============================] - 3s 101ms/step - loss: 4.8481 - accuracy: 0.0715\n",
            "Epoch 20/100\n",
            "31/31 [==============================] - 3s 102ms/step - loss: 4.7678 - accuracy: 0.0771\n",
            "Epoch 21/100\n",
            "31/31 [==============================] - 3s 102ms/step - loss: 4.6925 - accuracy: 0.0827\n",
            "Epoch 22/100\n",
            "31/31 [==============================] - 3s 101ms/step - loss: 4.6201 - accuracy: 0.0802\n",
            "Epoch 23/100\n",
            "31/31 [==============================] - 3s 103ms/step - loss: 4.5575 - accuracy: 0.0807\n",
            "Epoch 24/100\n",
            "31/31 [==============================] - 3s 102ms/step - loss: 4.5044 - accuracy: 0.0857\n",
            "Epoch 25/100\n",
            "31/31 [==============================] - 3s 101ms/step - loss: 4.4495 - accuracy: 0.0883\n",
            "Epoch 26/100\n",
            "31/31 [==============================] - 3s 101ms/step - loss: 4.4004 - accuracy: 0.0918\n",
            "Epoch 27/100\n",
            "31/31 [==============================] - 3s 100ms/step - loss: 4.3433 - accuracy: 0.0989\n",
            "Epoch 28/100\n",
            "31/31 [==============================] - 3s 100ms/step - loss: 4.2957 - accuracy: 0.1020\n",
            "Epoch 29/100\n",
            "31/31 [==============================] - 3s 101ms/step - loss: 4.2416 - accuracy: 0.1111\n",
            "Epoch 30/100\n",
            "31/31 [==============================] - 3s 101ms/step - loss: 4.2000 - accuracy: 0.1111\n",
            "Epoch 31/100\n",
            "31/31 [==============================] - 3s 101ms/step - loss: 4.1494 - accuracy: 0.1126\n",
            "Epoch 32/100\n",
            "31/31 [==============================] - 3s 100ms/step - loss: 4.0991 - accuracy: 0.1167\n",
            "Epoch 33/100\n",
            "31/31 [==============================] - 3s 100ms/step - loss: 4.0505 - accuracy: 0.1162\n",
            "Epoch 34/100\n",
            "31/31 [==============================] - 3s 100ms/step - loss: 4.0037 - accuracy: 0.1248\n",
            "Epoch 35/100\n",
            "31/31 [==============================] - 3s 101ms/step - loss: 3.9666 - accuracy: 0.1233\n",
            "Epoch 36/100\n",
            "31/31 [==============================] - 3s 99ms/step - loss: 3.9059 - accuracy: 0.1243\n",
            "Epoch 37/100\n",
            "31/31 [==============================] - 3s 103ms/step - loss: 3.8501 - accuracy: 0.1304\n",
            "Epoch 38/100\n",
            "31/31 [==============================] - 3s 100ms/step - loss: 3.8019 - accuracy: 0.1289\n",
            "Epoch 39/100\n",
            "31/31 [==============================] - 3s 101ms/step - loss: 3.7545 - accuracy: 0.1329\n",
            "Epoch 40/100\n",
            "31/31 [==============================] - 3s 100ms/step - loss: 3.7079 - accuracy: 0.1405\n",
            "Epoch 41/100\n",
            "31/31 [==============================] - 3s 100ms/step - loss: 3.6558 - accuracy: 0.1532\n",
            "Epoch 42/100\n",
            "31/31 [==============================] - 3s 99ms/step - loss: 3.6144 - accuracy: 0.1558\n",
            "Epoch 43/100\n",
            "31/31 [==============================] - 3s 100ms/step - loss: 3.5681 - accuracy: 0.1639\n",
            "Epoch 44/100\n",
            "31/31 [==============================] - 3s 100ms/step - loss: 3.5325 - accuracy: 0.1583\n",
            "Epoch 45/100\n",
            "31/31 [==============================] - 3s 99ms/step - loss: 3.4872 - accuracy: 0.1674\n",
            "Epoch 46/100\n",
            "31/31 [==============================] - 3s 100ms/step - loss: 3.4497 - accuracy: 0.1502\n",
            "Epoch 47/100\n",
            "31/31 [==============================] - 3s 102ms/step - loss: 3.4051 - accuracy: 0.1755\n",
            "Epoch 48/100\n",
            "31/31 [==============================] - 3s 101ms/step - loss: 3.5176 - accuracy: 0.1649\n",
            "Epoch 49/100\n",
            "31/31 [==============================] - 3s 102ms/step - loss: 3.5160 - accuracy: 0.1689\n",
            "Epoch 50/100\n",
            "31/31 [==============================] - 3s 101ms/step - loss: 3.3969 - accuracy: 0.1786\n",
            "Epoch 51/100\n",
            "31/31 [==============================] - 3s 100ms/step - loss: 3.3543 - accuracy: 0.1867\n",
            "Epoch 52/100\n",
            "31/31 [==============================] - 3s 100ms/step - loss: 3.2824 - accuracy: 0.1908\n",
            "Epoch 53/100\n",
            "31/31 [==============================] - 3s 100ms/step - loss: 3.2146 - accuracy: 0.1999\n",
            "Epoch 54/100\n",
            "31/31 [==============================] - 3s 100ms/step - loss: 3.1598 - accuracy: 0.2085\n",
            "Epoch 55/100\n",
            "31/31 [==============================] - 3s 100ms/step - loss: 3.1073 - accuracy: 0.2232\n",
            "Epoch 56/100\n",
            "31/31 [==============================] - 3s 100ms/step - loss: 3.1513 - accuracy: 0.2151\n",
            "Epoch 57/100\n",
            "31/31 [==============================] - 3s 99ms/step - loss: 3.0976 - accuracy: 0.2207\n",
            "Epoch 58/100\n",
            "31/31 [==============================] - 3s 101ms/step - loss: 3.0273 - accuracy: 0.2380\n",
            "Epoch 59/100\n",
            "31/31 [==============================] - 3s 101ms/step - loss: 3.1067 - accuracy: 0.2248\n",
            "Epoch 60/100\n",
            "31/31 [==============================] - 3s 100ms/step - loss: 3.0125 - accuracy: 0.2461\n",
            "Epoch 61/100\n",
            "31/31 [==============================] - 3s 100ms/step - loss: 2.9200 - accuracy: 0.2471\n",
            "Epoch 62/100\n",
            "31/31 [==============================] - 3s 100ms/step - loss: 2.8523 - accuracy: 0.2557\n",
            "Epoch 63/100\n",
            "31/31 [==============================] - 3s 100ms/step - loss: 2.9015 - accuracy: 0.2486\n",
            "Epoch 64/100\n",
            "31/31 [==============================] - 3s 100ms/step - loss: 2.8155 - accuracy: 0.2750\n",
            "Epoch 65/100\n",
            "31/31 [==============================] - 5s 170ms/step - loss: 2.7151 - accuracy: 0.2831\n",
            "Epoch 66/100\n",
            "31/31 [==============================] - 3s 102ms/step - loss: 2.6729 - accuracy: 0.2887\n",
            "Epoch 67/100\n",
            "31/31 [==============================] - 3s 100ms/step - loss: 2.6286 - accuracy: 0.3019\n",
            "Epoch 68/100\n",
            "31/31 [==============================] - 3s 99ms/step - loss: 2.5715 - accuracy: 0.3100\n",
            "Epoch 69/100\n",
            "31/31 [==============================] - 3s 100ms/step - loss: 2.5294 - accuracy: 0.3247\n",
            "Epoch 70/100\n",
            "31/31 [==============================] - 3s 100ms/step - loss: 2.4901 - accuracy: 0.3338\n",
            "Epoch 71/100\n",
            "31/31 [==============================] - 3s 99ms/step - loss: 2.4352 - accuracy: 0.3399\n",
            "Epoch 72/100\n",
            "31/31 [==============================] - 3s 99ms/step - loss: 2.4034 - accuracy: 0.3506\n",
            "Epoch 73/100\n",
            "31/31 [==============================] - 3s 100ms/step - loss: 2.3854 - accuracy: 0.3551\n",
            "Epoch 74/100\n",
            "31/31 [==============================] - 3s 101ms/step - loss: 2.3448 - accuracy: 0.3648\n",
            "Epoch 75/100\n",
            "31/31 [==============================] - 3s 101ms/step - loss: 2.3025 - accuracy: 0.3724\n",
            "Epoch 76/100\n",
            "31/31 [==============================] - 3s 100ms/step - loss: 2.2711 - accuracy: 0.3861\n",
            "Epoch 77/100\n",
            "31/31 [==============================] - 3s 102ms/step - loss: 2.2581 - accuracy: 0.3907\n",
            "Epoch 78/100\n",
            "31/31 [==============================] - 3s 100ms/step - loss: 2.1824 - accuracy: 0.3947\n",
            "Epoch 79/100\n",
            "31/31 [==============================] - 3s 100ms/step - loss: 2.1766 - accuracy: 0.4176\n",
            "Epoch 80/100\n",
            "31/31 [==============================] - 3s 100ms/step - loss: 2.2355 - accuracy: 0.3968\n",
            "Epoch 81/100\n",
            "31/31 [==============================] - 3s 101ms/step - loss: 2.1441 - accuracy: 0.4267\n",
            "Epoch 82/100\n",
            "31/31 [==============================] - 3s 99ms/step - loss: 2.1540 - accuracy: 0.4272\n",
            "Epoch 83/100\n",
            "31/31 [==============================] - 3s 99ms/step - loss: 2.0475 - accuracy: 0.4460\n",
            "Epoch 84/100\n",
            "31/31 [==============================] - 3s 100ms/step - loss: 1.9854 - accuracy: 0.4632\n",
            "Epoch 85/100\n",
            "31/31 [==============================] - 3s 102ms/step - loss: 2.0300 - accuracy: 0.4607\n",
            "Epoch 86/100\n",
            "31/31 [==============================] - 3s 101ms/step - loss: 2.0599 - accuracy: 0.4394\n",
            "Epoch 87/100\n",
            "31/31 [==============================] - 3s 104ms/step - loss: 1.9982 - accuracy: 0.4647\n",
            "Epoch 88/100\n",
            "31/31 [==============================] - 3s 101ms/step - loss: 1.9427 - accuracy: 0.4688\n",
            "Epoch 89/100\n",
            "31/31 [==============================] - 3s 100ms/step - loss: 1.9015 - accuracy: 0.4830\n",
            "Epoch 90/100\n",
            "31/31 [==============================] - 3s 100ms/step - loss: 1.8535 - accuracy: 0.5195\n",
            "Epoch 91/100\n",
            "31/31 [==============================] - 3s 100ms/step - loss: 1.8305 - accuracy: 0.5084\n",
            "Epoch 92/100\n",
            "31/31 [==============================] - 3s 101ms/step - loss: 1.8153 - accuracy: 0.5109\n",
            "Epoch 93/100\n",
            "31/31 [==============================] - 3s 100ms/step - loss: 1.7689 - accuracy: 0.5261\n",
            "Epoch 94/100\n",
            "31/31 [==============================] - 3s 101ms/step - loss: 1.7263 - accuracy: 0.5388\n",
            "Epoch 95/100\n",
            "31/31 [==============================] - 3s 100ms/step - loss: 1.7115 - accuracy: 0.5444\n",
            "Epoch 96/100\n",
            "31/31 [==============================] - 3s 101ms/step - loss: 1.6788 - accuracy: 0.5515\n",
            "Epoch 97/100\n",
            "31/31 [==============================] - 3s 101ms/step - loss: 1.7620 - accuracy: 0.5424\n",
            "Epoch 98/100\n",
            "31/31 [==============================] - 3s 103ms/step - loss: 1.9742 - accuracy: 0.5063\n",
            "Epoch 99/100\n",
            "31/31 [==============================] - 3s 102ms/step - loss: 1.8641 - accuracy: 0.5266\n",
            "Epoch 100/100\n",
            "31/31 [==============================] - 3s 101ms/step - loss: 1.8673 - accuracy: 0.5317\n"
          ]
        },
        {
          "output_type": "execute_result",
          "data": {
            "text/plain": [
              "<keras.callbacks.History at 0x7f1af59aec50>"
            ]
          },
          "metadata": {},
          "execution_count": 25
        }
      ],
      "source": [
        "model.fit (X , y , batch_size =64 , epochs = 100)"
      ]
    },
    {
      "cell_type": "code",
      "execution_count": null,
      "id": "e4e6c5d8",
      "metadata": {
        "id": "e4e6c5d8"
      },
      "outputs": [],
      "source": [
        "def generate_text_sequence(model,tokenizer, text_seq_length , seed_text , n_words) :\n",
        "    gtext =[]\n",
        "    for _ in range(n_words):\n",
        "        encoded = tokenizer.texts_to_sequences([seed_text])[0]\n",
        "        encoded = pad_sequences([encoded], maxlen = text_seq_length , truncating = 'pre')\n",
        "        predict_y=model.predict(encoded) \n",
        "        classes_y=np.argmax(predict_y,axis=1) \n",
        "        #y_predict = model.predict_classes(encoded)\n",
        "        #print(y_predict)\n",
        "        predicted_word = ' '\n",
        "        for word , index in tokenizer.word_index.items():\n",
        "            if index == classes_y:\n",
        "                predicted_word = word\n",
        "                break\n",
        "        seed_text = seed_text + ' ' + predicted_word\n",
        "        gtext.append(predicted_word)\n",
        "    \n",
        "    return ' ' .join(gtext)"
      ]
    },
    {
      "cell_type": "code",
      "execution_count": null,
      "id": "f9da8049",
      "metadata": {
        "id": "f9da8049",
        "colab": {
          "base_uri": "https://localhost:8080/"
        },
        "outputId": "e8bf2305-d81d-4141-d90b-0cf6adf410e5"
      },
      "outputs": [
        {
          "output_type": "stream",
          "name": "stdout",
          "text": [
            "1/1 [==============================] - 1s 838ms/step\n",
            "1/1 [==============================] - 0s 22ms/step\n",
            "1/1 [==============================] - 0s 21ms/step\n",
            "1/1 [==============================] - 0s 28ms/step\n",
            "1/1 [==============================] - 0s 20ms/step\n",
            "1/1 [==============================] - 0s 20ms/step\n"
          ]
        }
      ],
      "source": [
        "seed_text='यह बात'\n",
        "x= generate_text_sequence(model, tokenizer, seq_length , seed_text , 6)"
      ]
    },
    {
      "cell_type": "code",
      "execution_count": null,
      "id": "c6178cad",
      "metadata": {
        "id": "c6178cad"
      },
      "outputs": [],
      "source": []
    },
    {
      "cell_type": "code",
      "execution_count": null,
      "id": "9564571b",
      "metadata": {
        "colab": {
          "base_uri": "https://localhost:8080/",
          "height": 174
        },
        "id": "9564571b",
        "outputId": "90b8c7eb-7adc-491d-d047-a99572cbeb39"
      },
      "outputs": [
        {
          "output_type": "stream",
          "name": "stdout",
          "text": [
            "1/1 [==============================] - 0s 21ms/step\n",
            "1/1 [==============================] - 0s 21ms/step\n",
            "1/1 [==============================] - 0s 21ms/step\n",
            "1/1 [==============================] - 0s 21ms/step\n",
            "1/1 [==============================] - 0s 23ms/step\n",
            "1/1 [==============================] - 0s 22ms/step\n",
            "1/1 [==============================] - 0s 26ms/step\n",
            "1/1 [==============================] - 0s 25ms/step\n"
          ]
        },
        {
          "output_type": "execute_result",
          "data": {
            "text/plain": [
              "'अलग अलग भाषाएँ बोलते हैं जो उसके माला स्वयं सामने आएँ इत्यादि को'"
            ],
            "application/vnd.google.colaboratory.intrinsic+json": {
              "type": "string"
            }
          },
          "metadata": {},
          "execution_count": 32
        }
      ],
      "source": [
        "seed_text='अलग अलग भाषाएँ बोलते हैं'\n",
        "x= generate_text_sequence(model, tokenizer, seq_length , seed_text , 8)\n",
        "seed_text+ \" \" + x"
      ]
    },
    {
      "cell_type": "code",
      "source": [
        "seedt = 'भारत के'"
      ],
      "metadata": {
        "id": "2aS8dB96N_rT"
      },
      "id": "2aS8dB96N_rT",
      "execution_count": null,
      "outputs": []
    },
    {
      "cell_type": "code",
      "source": [
        "x1 = seedt + ' ' + generate_text_sequence(model, tokenizer, seq_length , seedt , 6)\n",
        "x1"
      ],
      "metadata": {
        "colab": {
          "base_uri": "https://localhost:8080/",
          "height": 35
        },
        "id": "SyYPPVaENkVH",
        "outputId": "2b80beff-8421-4fe7-b858-84fad977f42b"
      },
      "id": "SyYPPVaENkVH",
      "execution_count": null,
      "outputs": [
        {
          "output_type": "execute_result",
          "data": {
            "text/plain": [
              "'भारत के इतिहास का उपासना पशुपतिनाथ में भी'"
            ],
            "application/vnd.google.colaboratory.intrinsic+json": {
              "type": "string"
            }
          },
          "metadata": {},
          "execution_count": 30
        }
      ]
    },
    {
      "cell_type": "code",
      "source": [
        "from tensorflow.keras.models import Model\n",
        "from tensorflow.keras.models import load_model\n",
        "\n",
        "model.save('/content/drive/My Drive/colab/lstm.h5')\n",
        "print('Model Saved!')\n",
        " \n",
        "savedlstm=load_model('lstm.h5')\n",
        "savedlstm.summary()\n"
      ],
      "metadata": {
        "id": "PKPVztGNdKI9",
        "outputId": "e8fe21b8-e91a-4927-da81-9cfa9c0fa289",
        "colab": {
          "base_uri": "https://localhost:8080/"
        }
      },
      "id": "PKPVztGNdKI9",
      "execution_count": null,
      "outputs": [
        {
          "output_type": "stream",
          "name": "stdout",
          "text": [
            "Model Saved!\n"
          ]
        }
      ]
    },
    {
      "cell_type": "code",
      "source": [
        "def gen_sent(savedlstm,tokenizer, text_seq_length , seed_text , n_words) :\n",
        "    gtext =[]\n",
        "    for _ in range(n_words):\n",
        "        encoded = tokenizer.texts_to_sequences([seed_text])[0]\n",
        "        encoded = pad_sequences([encoded], maxlen = text_seq_length , truncating = 'pre')\n",
        "        predict_y=savedlstm.predict(encoded) \n",
        "        classes_y=np.argmax(predict_y,axis=1) \n",
        "        #y_predict = model.predict_classes(encoded)\n",
        "        #print(y_predict)\n",
        "        predicted_word = ' '\n",
        "        for word , index in tokenizer.word_index.items():\n",
        "            if index == classes_y:\n",
        "                predicted_word = word\n",
        "                break\n",
        "        seed_text = seed_text + ' ' + predicted_word\n",
        "        gtext.append(predicted_word)\n",
        "    \n",
        "    return ' ' .join(gtext)"
      ],
      "metadata": {
        "id": "CyXepM2mf5YV"
      },
      "id": "CyXepM2mf5YV",
      "execution_count": null,
      "outputs": []
    },
    {
      "cell_type": "code",
      "source": [
        "xnew = seedt + ' ' + generate_text_sequence(model, tokenizer, seq_length , seedt , 20)\n",
        "xnew"
      ],
      "metadata": {
        "id": "bmBmjskEg5rB",
        "outputId": "304f1c7e-ee7c-493f-84cf-33b0660481a0",
        "colab": {
          "base_uri": "https://localhost:8080/",
          "height": 36
        }
      },
      "id": "bmBmjskEg5rB",
      "execution_count": null,
      "outputs": [
        {
          "output_type": "execute_result",
          "data": {
            "text/plain": [
              "'उनके व्यक्तित्व में सबसे प्रणाली है व्यथा में वही अलौकिक स्फूर्ति है जो एक अटलांटिक बोली में सबसे प्रणाली में अनुसार ब्राजील'"
            ],
            "application/vnd.google.colaboratory.intrinsic+json": {
              "type": "string"
            }
          },
          "metadata": {},
          "execution_count": 30
        }
      ]
    },
    {
      "cell_type": "code",
      "source": [],
      "metadata": {
        "id": "TKjgQhaWg_Xj"
      },
      "id": "TKjgQhaWg_Xj",
      "execution_count": null,
      "outputs": []
    },
    {
      "cell_type": "markdown",
      "source": [],
      "metadata": {
        "id": "lH875-txhLAy"
      },
      "id": "lH875-txhLAy"
    }
  ],
  "metadata": {
    "kernelspec": {
      "display_name": "Python 3",
      "language": "python",
      "name": "python3"
    },
    "language_info": {
      "codemirror_mode": {
        "name": "ipython",
        "version": 3
      },
      "file_extension": ".py",
      "mimetype": "text/x-python",
      "name": "python",
      "nbconvert_exporter": "python",
      "pygments_lexer": "ipython3",
      "version": "3.8.8"
    },
    "colab": {
      "provenance": [],
      "include_colab_link": true
    }
  },
  "nbformat": 4,
  "nbformat_minor": 5
}