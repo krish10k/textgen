{
  "nbformat": 4,
  "nbformat_minor": 0,
  "metadata": {
    "colab": {
      "name": "docx to text",
      "provenance": [],
      "authorship_tag": "ABX9TyO0tRD1cADhdxxIEMFdo1lM"
    },
    "kernelspec": {
      "name": "python3",
      "display_name": "Python 3"
    },
    "language_info": {
      "name": "python"
    }
  },
  "cells": [
    {
      "cell_type": "code",
      "source": [
        "from google.colab import drive\n",
        "drive.mount('/content/drive')"
      ],
      "metadata": {
        "colab": {
          "base_uri": "https://localhost:8080/"
        },
        "id": "5H_BfoFxEgHN",
        "outputId": "887af9b7-b00f-45e0-f0b7-6029eeb24958"
      },
      "execution_count": 6,
      "outputs": [
        {
          "output_type": "stream",
          "name": "stdout",
          "text": [
            "Drive already mounted at /content/drive; to attempt to forcibly remount, call drive.mount(\"/content/drive\", force_remount=True).\n"
          ]
        }
      ]
    },
    {
      "cell_type": "code",
      "source": [
        "! sudo apt install tesseract-ocr\n",
        "! sudo apt-get install tesseract-ocr-hin"
      ],
      "metadata": {
        "colab": {
          "base_uri": "https://localhost:8080/"
        },
        "id": "ClngnphCl_61",
        "outputId": "9b3a19d6-9a76-47bc-f98a-5c4e72dfd6da"
      },
      "execution_count": 10,
      "outputs": [
        {
          "output_type": "stream",
          "name": "stdout",
          "text": [
            "Reading package lists... Done\n",
            "Building dependency tree       \n",
            "Reading state information... Done\n",
            "tesseract-ocr is already the newest version (4.00~git2288-10f4998a-2).\n",
            "0 upgraded, 0 newly installed, 0 to remove and 39 not upgraded.\n",
            "Reading package lists... Done\n",
            "Building dependency tree       \n",
            "Reading state information... Done\n",
            "tesseract-ocr-hin is already the newest version (4.00~git24-0e00fe6-1.2).\n",
            "0 upgraded, 0 newly installed, 0 to remove and 39 not upgraded.\n"
          ]
        }
      ]
    },
    {
      "cell_type": "code",
      "source": [
        "##! pip install Pillow==9.0.0\n",
        "! pip install pytesseract\n",
        "! pip install tesseract\n",
        "! pip install docx2txt"
      ],
      "metadata": {
        "id": "ubqTyQppG_cQ",
        "colab": {
          "base_uri": "https://localhost:8080/"
        },
        "outputId": "4e7868e4-9638-4fb1-bb5b-20a8095c0ddc"
      },
      "execution_count": 9,
      "outputs": [
        {
          "output_type": "stream",
          "name": "stdout",
          "text": [
            "Requirement already satisfied: pytesseract in /usr/local/lib/python3.7/dist-packages (0.3.9)\n",
            "Requirement already satisfied: Pillow>=8.0.0 in /usr/local/lib/python3.7/dist-packages (from pytesseract) (9.1.0)\n",
            "Requirement already satisfied: packaging>=21.3 in /usr/local/lib/python3.7/dist-packages (from pytesseract) (21.3)\n",
            "Requirement already satisfied: pyparsing!=3.0.5,>=2.0.2 in /usr/local/lib/python3.7/dist-packages (from packaging>=21.3->pytesseract) (3.0.8)\n",
            "Requirement already satisfied: tesseract in /usr/local/lib/python3.7/dist-packages (0.1.3)\n",
            "Requirement already satisfied: docx2txt in /usr/local/lib/python3.7/dist-packages (0.8)\n"
          ]
        }
      ]
    },
    {
      "cell_type": "code",
      "execution_count": 14,
      "metadata": {
        "id": "-FFatHjf8PQJ"
      },
      "outputs": [],
      "source": [
        "#Image to text\n",
        "from PIL import Image\n",
        "import pytesseract\n",
        "import os\n",
        "import docx2txt"
      ]
    },
    {
      "cell_type": "code",
      "source": [
        "files = []\n",
        "path = '/content/drive/My Drive/colab/'\n",
        "savepath = '/content/drive/My Drive/colab/genimg/'\n",
        "\n",
        "for file in os.listdir(path):\n",
        "    if file.endswith('.docx'):\n",
        "        files.append(file) \n",
        "print(files)\n",
        "\n",
        "for i in range(len(files)):\n",
        "     text_from_docx = docx2txt.process(path + files[i], savepath)"
      ],
      "metadata": {
        "colab": {
          "base_uri": "https://localhost:8080/"
        },
        "id": "Oa_vJjKJnjST",
        "outputId": "00494735-2489-44cf-aca0-0ae0dc184927"
      },
      "execution_count": 27,
      "outputs": [
        {
          "output_type": "stream",
          "name": "stdout",
          "text": [
            "['document.docx']\n"
          ]
        }
      ]
    },
    {
      "cell_type": "code",
      "source": [
        "image = savepath + 'image1.jpg'\n",
        "text_from_image = pytesseract.image_to_string(Image.open(image), lang=\"hin\")\n",
        "text_from_image"
      ],
      "metadata": {
        "colab": {
          "base_uri": "https://localhost:8080/",
          "height": 36
        },
        "id": "ehWiuiUV8TAS",
        "outputId": "3e73101e-5f12-465b-85c8-631a94718387"
      },
      "execution_count": 31,
      "outputs": [
        {
          "output_type": "execute_result",
          "data": {
            "text/plain": [
              "'   \\n\\nअक्सर अकेलेपन से\\nवहीं गुजरता है जो\\nज़िंदगी में सही फैंसलों को\\nचुनता है...\\n\\n \\n\\x0c'"
            ],
            "application/vnd.google.colaboratory.intrinsic+json": {
              "type": "string"
            }
          },
          "metadata": {},
          "execution_count": 31
        }
      ]
    },
    {
      "cell_type": "code",
      "source": [
        "##processing text generated from image\n",
        "x = text_from_image.splitlines()\n",
        "test_list = list(filter(None, x))\n",
        "test_listnew = [x for x in test_list if x not in ['   ',' ']]\n",
        "test_listnew"
      ],
      "metadata": {
        "colab": {
          "base_uri": "https://localhost:8080/"
        },
        "id": "UHwqsSicxLSo",
        "outputId": "0ab43513-86b8-4121-ffac-789f8977bc9d"
      },
      "execution_count": 44,
      "outputs": [
        {
          "output_type": "execute_result",
          "data": {
            "text/plain": [
              "['अक्सर अकेलेपन से',\n",
              " 'वहीं गुजरता है जो',\n",
              " 'ज़िंदगी में सही फैंसलों को',\n",
              " 'चुनता है...']"
            ]
          },
          "metadata": {},
          "execution_count": 44
        }
      ]
    }
  ]
}