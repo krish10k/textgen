{
  "cells": [
    {
      "cell_type": "code",
      "execution_count": null,
      "id": "171ab265",
      "metadata": {
        "id": "171ab265"
      },
      "outputs": [],
      "source": [
        "ds= list()\n",
        "def filetolist(txtfilelist) : \n",
        "    for txt_file in txtfilelist:\n",
        "        with open(txt_fileencoding=\"utf8\") as f:\n",
        "            txt = f\n",
        "            ds.append(txt)\n",
        "    \n",
        "filetolist(txt_files)\n",
        "txtds=''.join(ds)       \n",
        "print(len(txtds))"
      ]
    },
    {
      "cell_type": "code",
      "execution_count": null,
      "id": "220ab7d4",
      "metadata": {
        "id": "220ab7d4"
      },
      "outputs": [],
      "source": [
        "import glob\n",
        "txt_files= glob.glob(\"train/*.txt\")\n",
        "print(f\"Total articles: {(txt_files[:10])}\")"
      ]
    },
    {
      "cell_type": "code",
      "execution_count": null,
      "id": "bdf27eb9",
      "metadata": {
        "id": "bdf27eb9"
      },
      "outputs": [],
      "source": [
        "import glob\n",
        "\n",
        "def read_first_line(file):\n",
        "    \"\"\"Gets the first line from a file.\n",
        "\n",
        "    Returns\n",
        "    -------\n",
        "    str\n",
        "        the first line text of the input file\n",
        "    \"\"\"\n",
        "    with open(file, encoding=\"utf8\") as fd:\n",
        "        first_line = fd.readline()\n",
        "    return first_line\n",
        "\n",
        "def merge_per_folder(folder_path, output_filename):\n",
        "    \"\"\"Merges first lines of text files in one folder, and\n",
        "    writes combined lines into new output file\n",
        "\n",
        "    Parameters\n",
        "    ----------\n",
        "    folder_path : str\n",
        "        String representation of the folder path containing the text files.\n",
        "    output_filename : str\n",
        "        Name of the output file the merged lines will be written to.\n",
        "    \"\"\"\n",
        "    # make sure there's a slash to the folder path \n",
        "    folder_path += \"\" if folder_path[-1] == \"/\" else \"/\"\n",
        "    # get all text files\n",
        "    txt_files = glob.glob(folder_path + \"*.txt\")\n",
        "    # get first lines; map to each text file (sorted)\n",
        "    output_strings = map(read_first_line, sorted(txt_files))\n",
        "    output_content = \"\".join(output_strings)\n",
        "    # write to file\n",
        "    with open(folder_path + output_filename, 'wt') as outfile:\n",
        "        outfile.write(output_content)"
      ]
    },
    {
      "cell_type": "code",
      "execution_count": null,
      "id": "93d125c4",
      "metadata": {
        "id": "93d125c4"
      },
      "outputs": [],
      "source": [
        "merge_per_folder('testdata/', 'wikidata.txt')"
      ]
    },
    {
      "cell_type": "code",
      "execution_count": null,
      "id": "6928f097",
      "metadata": {
        "id": "6928f097",
        "outputId": "6762bdbb-b67b-4c5f-9e95-395baa58d87b"
      },
      "outputs": [
        {
          "name": "stdout",
          "output_type": "stream",
          "text": [
            "<_io.TextIOWrapper name='C:/Users/Dell/Documents/MiNi-PrOjEcT/train\\\\10.txt' mode='r' encoding='cp1252'>\n"
          ]
        }
      ],
      "source": [
        "print(ds[1])"
      ]
    },
    {
      "cell_type": "markdown",
      "source": [
        "# Code for Colab"
      ],
      "metadata": {
        "id": "jVHhZtUdSWxM"
      },
      "id": "jVHhZtUdSWxM"
    },
    {
      "cell_type": "code",
      "execution_count": null,
      "id": "895e78ed",
      "metadata": {
        "id": "895e78ed"
      },
      "outputs": [],
      "source": [
        "%tensorflow_version 2.x\n",
        "import tensorflow as tf\n",
        "import string\n",
        "import requests\n",
        "import numpy as np\n",
        "import os\n",
        "import time"
      ]
    },
    {
      "cell_type": "code",
      "source": [
        "from google.colab import drive\n",
        "drive.mount('/content/drive')"
      ],
      "metadata": {
        "colab": {
          "base_uri": "https://localhost:8080/"
        },
        "id": "-tCwUMDjTsOk",
        "outputId": "35f63a15-d7c2-45f4-a6e4-620228f78f11"
      },
      "id": "-tCwUMDjTsOk",
      "execution_count": null,
      "outputs": [
        {
          "output_type": "stream",
          "name": "stdout",
          "text": [
            "Mounted at /content/drive\n"
          ]
        }
      ]
    },
    {
      "cell_type": "code",
      "execution_count": null,
      "id": "e4c1cab7",
      "metadata": {
        "id": "e4c1cab7"
      },
      "outputs": [],
      "source": [
        "text_file = open(\"/content/drive/My Drive/colab/wikidata2.txt\",'r') #Drve File Path\n",
        "ds= text_file.read() \n",
        "text_file.close()"
      ]
    },
    {
      "cell_type": "code",
      "execution_count": null,
      "id": "f8cc3151",
      "metadata": {
        "id": "f8cc3151",
        "outputId": "37c26860-f7e2-43c5-8609-4418e948ed02",
        "colab": {
          "base_uri": "https://localhost:8080/",
          "height": 73
        }
      },
      "outputs": [
        {
          "output_type": "execute_result",
          "data": {
            "text/plain": [
              "'सिकन्दरापुर मुंगेर मुंगेर बिहार स्थित एक गाँव है\\n\\nप्रियप्रवास अयोध्यासिंह हरिऔध की हिन्दी काव्य रचना है\\nहरिऔध जी को काव्यप्रतिष्ठा प्रियप्रवास से मिली\\nइसका रचनाकाल सन् से सन् है\\nप्रियप्रवास विरहकाव्य है\\n]काव्य की परंपरा में होते हुए भी उससे भिन्न है\\nहरिऔध जी ने कहा है मैंने श्री कृष्णचंद्र को इस ग्रंथ में एक महापुरुष की भाँति अंकित किया है ब्रह्म करके नहीं\\nकृष्णचरित को इस प्रकार अंकित किया है जिससे आधुनिक लोग भी सहमत हो सकें\\nमहापुरुष के रूप में अंकित होते हुए भी प्रियप्रवास के कृष्ण में वही अलौक'"
            ],
            "application/vnd.google.colaboratory.intrinsic+json": {
              "type": "string"
            }
          },
          "metadata": {},
          "execution_count": 4
        }
      ],
      "source": [
        "ds[:500]"
      ]
    },
    {
      "cell_type": "code",
      "execution_count": null,
      "id": "3e53c050",
      "metadata": {
        "id": "3e53c050"
      },
      "outputs": [],
      "source": [
        "import re\n",
        "def text_cleaner(text):\n",
        "    newString = text\n",
        "    #newString = re.sub(r\"‘\",\"\",newString)\n",
        "    # remove punctuations, english words and numbers\n",
        "    newString = re.sub('([-%!#?,.:\"‘’।])', \" \", newString)\n",
        "    newString = re.sub(\"[a-zA-Z]\", \" \", newString)\n",
        "    newString = re.sub(\"[0-9]\", \" \", newString)\n",
        "    long_words=[]\n",
        "    # remove single characters\n",
        "    for i in newString.split():\n",
        "        if len(i)>=1:                  \n",
        "            long_words.append(i)\n",
        "    return (\" \".join(long_words)).strip()"
      ]
    },
    {
      "cell_type": "code",
      "execution_count": null,
      "id": "31b50e27",
      "metadata": {
        "colab": {
          "base_uri": "https://localhost:8080/"
        },
        "id": "31b50e27",
        "outputId": "14c45cf0-80bb-4d00-cfdb-6f0d0cbd6d33"
      },
      "outputs": [
        {
          "output_type": "stream",
          "name": "stdout",
          "text": [
            "['सिकन्दरापुर', 'मुंगेर', 'मुंगेर', 'बिहार', 'स्थित', 'एक', 'गाँव', 'है', 'प्रियप्रवास', 'अयोध्यासिंह', 'हरिऔध', 'की', 'हिन्दी', 'काव्य', 'रचना', 'है', 'हरिऔध', 'जी', 'को', 'काव्यप्रतिष्ठा', 'प्रियप्रवास', 'से', 'मिली', 'इसका', 'रचनाकाल', 'सन्', 'से', 'सन्', 'है', 'प्रियप्रवास', 'विरहकाव्य', 'है', ']काव्य', 'की', 'परंपरा', 'में', 'होते', 'हुए', 'भी', 'उससे', 'भिन्न', 'है', 'हरिऔध', 'जी', 'ने', 'कहा', 'है', 'मैंने', 'श्री', 'कृष्णचंद्र', 'को', 'इस', 'ग्रंथ', 'में', 'एक', 'महापुरुष', 'की', 'भाँति', 'अंकित', 'किया', 'है', 'ब्रह्म', 'करके', 'नहीं', 'कृष्णचरित', 'को', 'इस', 'प्रकार', 'अंकित', 'किया', 'है', 'जिससे', 'आधुनिक', 'लोग', 'भी', 'सहमत', 'हो', 'सकें', 'महापुरुष', 'के', 'रूप', 'में', 'अंकित', 'होते', 'हुए', 'भी', 'प्रियप्रवास', 'के', 'कृष्ण', 'में', 'वही', 'अलौकिक', 'स्फूर्ति', 'है', 'जो', 'अवतारी', 'ब्रह्मपुरुष', 'में', 'कवि', 'ने']\n",
            "\n",
            "Total number of tokens : 287669\n"
          ]
        }
      ],
      "source": [
        "text = text_cleaner(ds).split()\n",
        "print(text[:100])\n",
        "print('\\nTotal number of tokens :',len(set(text)))"
      ]
    },
    {
      "cell_type": "code",
      "execution_count": null,
      "id": "8e1d68aa",
      "metadata": {
        "id": "8e1d68aa"
      },
      "outputs": [],
      "source": [
        "length = 30 + 1\n",
        "lines =[]\n",
        "\n",
        "for i in range (length,len(text)) :\n",
        "    seq = text[i-length:i]\n",
        "    line = ' '.join(seq)\n",
        "    lines.append(line)\n",
        "    if i >1100:\n",
        "        break\n"
      ]
    },
    {
      "cell_type": "code",
      "execution_count": null,
      "id": "e8857722",
      "metadata": {
        "colab": {
          "base_uri": "https://localhost:8080/",
          "height": 36
        },
        "id": "e8857722",
        "outputId": "37b279ad-d58d-48bd-9f76-6467f5ae5cac"
      },
      "outputs": [
        {
          "output_type": "execute_result",
          "data": {
            "text/plain": [
              "'कृष्ण का चरित्रचित्रण मनोवैज्ञानिक दृष्टि से किया है उनके व्यक्तित्व में सहानुभूति व्युत्पन्नमतित्व और कर्मकौशल है कृष्ण के चरित्र की तरह प्रियप्रवास की राधा के चरित्र में भी नवीनता है उसमें'"
            ],
            "application/vnd.google.colaboratory.intrinsic+json": {
              "type": "string"
            }
          },
          "metadata": {},
          "execution_count": 68
        }
      ],
      "source": [
        "lines[100]"
      ]
    },
    {
      "cell_type": "code",
      "execution_count": null,
      "id": "6147b5e8",
      "metadata": {
        "id": "6147b5e8"
      },
      "outputs": [],
      "source": [
        "## LSMT Model\n",
        "from tensorflow.keras.preprocessing.text import Tokenizer \n",
        "from tensorflow.keras.utils import to_categorical \n",
        "from tensorflow. keras.models import Sequential \n",
        "from tensorflow.keras.layers import Dense, LSTM, Embedding \n",
        "from tensorflow.keras.preprocessing. sequence import pad_sequences"
      ]
    },
    {
      "cell_type": "code",
      "execution_count": null,
      "id": "7c1d3b0b",
      "metadata": {
        "id": "7c1d3b0b"
      },
      "outputs": [],
      "source": [
        "tokenizer = Tokenizer() \n",
        "tokenizer.fit_on_texts(lines) \n",
        "sequences = tokenizer.texts_to_sequences (lines)"
      ]
    },
    {
      "cell_type": "code",
      "execution_count": null,
      "id": "2cf49e1b",
      "metadata": {
        "id": "2cf49e1b"
      },
      "outputs": [],
      "source": [
        "sequences = np.array(sequences)\n",
        "X,y = sequences[:,:-1],sequences[:,-1]"
      ]
    },
    {
      "cell_type": "code",
      "execution_count": null,
      "id": "bede1ad1",
      "metadata": {
        "colab": {
          "base_uri": "https://localhost:8080/"
        },
        "id": "bede1ad1",
        "outputId": "1c585f90-0d3f-4492-dba5-81f54d976c07"
      },
      "outputs": [
        {
          "output_type": "execute_result",
          "data": {
            "text/plain": [
              "array([478, 475, 475, 476,  41,  13, 474,   1,  11, 470,  81,   5, 469,\n",
              "        86, 467,   1,  81,  85,  16, 465,  11,   7, 464,  83, 463,  84,\n",
              "         7,  84,   1,  11])"
            ]
          },
          "metadata": {},
          "execution_count": 50
        }
      ],
      "source": [
        "X[0]"
      ]
    },
    {
      "cell_type": "code",
      "execution_count": null,
      "id": "da750e63",
      "metadata": {
        "colab": {
          "base_uri": "https://localhost:8080/"
        },
        "id": "da750e63",
        "outputId": "f5374bf2-e910-439f-dde3-a6a654c27a49"
      },
      "outputs": [
        {
          "output_type": "execute_result",
          "data": {
            "text/plain": [
              "146"
            ]
          },
          "metadata": {},
          "execution_count": 51
        }
      ],
      "source": [
        "y[0]"
      ]
    },
    {
      "cell_type": "code",
      "execution_count": null,
      "id": "7a58dcc0",
      "metadata": {
        "colab": {
          "base_uri": "https://localhost:8080/"
        },
        "id": "7a58dcc0",
        "outputId": "b03fce73-36d7-4017-aff0-f769d089e3b6"
      },
      "outputs": [
        {
          "output_type": "execute_result",
          "data": {
            "text/plain": [
              "479"
            ]
          },
          "metadata": {},
          "execution_count": 52
        }
      ],
      "source": [
        "vocab_size = len(tokenizer.word_index)+1\n",
        "vocab_size"
      ]
    },
    {
      "cell_type": "code",
      "execution_count": null,
      "id": "2ef34a76",
      "metadata": {
        "id": "2ef34a76"
      },
      "outputs": [],
      "source": [
        "y = to_categorical( y , num_classes = vocab_size)"
      ]
    },
    {
      "cell_type": "code",
      "execution_count": null,
      "id": "9edd9cce",
      "metadata": {
        "id": "9edd9cce"
      },
      "outputs": [],
      "source": [
        "X.shape[1]\n",
        "seq_length = X.shape[1]"
      ]
    },
    {
      "cell_type": "code",
      "execution_count": null,
      "id": "2909058b",
      "metadata": {
        "id": "2909058b"
      },
      "outputs": [],
      "source": [
        "model = Sequential()\n",
        "model.add(Embedding(vocab_size, 30 , input_length = seq_length))\n",
        "model.add(LSTM(100 , return_sequences=True))\n",
        "model.add(LSTM(100))\n",
        "model.add(Dense(100 , activation = 'relu'))\n",
        "model.add(Dense (vocab_size , activation = 'softmax'))\n"
      ]
    },
    {
      "cell_type": "code",
      "execution_count": null,
      "id": "c2c4cdbc",
      "metadata": {
        "colab": {
          "base_uri": "https://localhost:8080/"
        },
        "id": "c2c4cdbc",
        "outputId": "c7d12956-a679-4480-e71c-dc0b7cbb1ae8"
      },
      "outputs": [
        {
          "output_type": "stream",
          "name": "stdout",
          "text": [
            "Model: \"sequential_3\"\n",
            "_________________________________________________________________\n",
            " Layer (type)                Output Shape              Param #   \n",
            "=================================================================\n",
            " embedding_3 (Embedding)     (None, 30, 30)            14370     \n",
            "                                                                 \n",
            " lstm_6 (LSTM)               (None, 30, 100)           52400     \n",
            "                                                                 \n",
            " lstm_7 (LSTM)               (None, 100)               80400     \n",
            "                                                                 \n",
            " dense_6 (Dense)             (None, 100)               10100     \n",
            "                                                                 \n",
            " dense_7 (Dense)             (None, 479)               48379     \n",
            "                                                                 \n",
            "=================================================================\n",
            "Total params: 205,649\n",
            "Trainable params: 205,649\n",
            "Non-trainable params: 0\n",
            "_________________________________________________________________\n"
          ]
        }
      ],
      "source": [
        "model.summary()"
      ]
    },
    {
      "cell_type": "code",
      "execution_count": null,
      "id": "8f6b7840",
      "metadata": {
        "id": "8f6b7840"
      },
      "outputs": [],
      "source": [
        "model.compile(loss = 'categorical_crossentropy' , optimizer = 'adam' , metrics = ['accuracy'])"
      ]
    },
    {
      "cell_type": "code",
      "execution_count": null,
      "id": "927cbb70",
      "metadata": {
        "colab": {
          "base_uri": "https://localhost:8080/"
        },
        "id": "927cbb70",
        "outputId": "4e6772e8-4280-40d1-b94d-9b0886b4d276"
      },
      "outputs": [
        {
          "output_type": "stream",
          "name": "stdout",
          "text": [
            "Epoch 1/100\n",
            "17/17 [==============================] - 6s 85ms/step - loss: 6.1235 - accuracy: 0.0317\n",
            "Epoch 2/100\n",
            "17/17 [==============================] - 1s 86ms/step - loss: 5.6877 - accuracy: 0.0598\n",
            "Epoch 3/100\n",
            "17/17 [==============================] - 1s 86ms/step - loss: 5.5268 - accuracy: 0.0598\n",
            "Epoch 4/100\n",
            "17/17 [==============================] - 1s 85ms/step - loss: 5.4913 - accuracy: 0.0598\n",
            "Epoch 5/100\n",
            "17/17 [==============================] - 1s 86ms/step - loss: 5.4852 - accuracy: 0.0598\n",
            "Epoch 6/100\n",
            "17/17 [==============================] - 1s 85ms/step - loss: 5.4681 - accuracy: 0.0598\n",
            "Epoch 7/100\n",
            "17/17 [==============================] - 1s 86ms/step - loss: 5.4691 - accuracy: 0.0598\n",
            "Epoch 8/100\n",
            "17/17 [==============================] - 2s 94ms/step - loss: 5.4679 - accuracy: 0.0476\n",
            "Epoch 9/100\n",
            "17/17 [==============================] - 1s 86ms/step - loss: 5.4662 - accuracy: 0.0598\n",
            "Epoch 10/100\n",
            "17/17 [==============================] - 1s 86ms/step - loss: 5.4637 - accuracy: 0.0598\n",
            "Epoch 11/100\n",
            "17/17 [==============================] - 1s 85ms/step - loss: 5.4603 - accuracy: 0.0598\n",
            "Epoch 12/100\n",
            "17/17 [==============================] - 2s 88ms/step - loss: 5.4600 - accuracy: 0.0598\n",
            "Epoch 13/100\n",
            "17/17 [==============================] - 1s 86ms/step - loss: 5.4522 - accuracy: 0.0598\n",
            "Epoch 14/100\n",
            "17/17 [==============================] - 1s 86ms/step - loss: 5.4407 - accuracy: 0.0598\n",
            "Epoch 15/100\n",
            "17/17 [==============================] - 1s 85ms/step - loss: 5.4121 - accuracy: 0.0598\n",
            "Epoch 16/100\n",
            "17/17 [==============================] - 1s 85ms/step - loss: 5.3440 - accuracy: 0.0598\n",
            "Epoch 17/100\n",
            "17/17 [==============================] - 1s 86ms/step - loss: 5.2490 - accuracy: 0.0598\n",
            "Epoch 18/100\n",
            "17/17 [==============================] - 1s 86ms/step - loss: 5.1646 - accuracy: 0.0598\n",
            "Epoch 19/100\n",
            "17/17 [==============================] - 1s 85ms/step - loss: 5.1096 - accuracy: 0.0588\n",
            "Epoch 20/100\n",
            "17/17 [==============================] - 1s 84ms/step - loss: 5.0734 - accuracy: 0.0598\n",
            "Epoch 21/100\n",
            "17/17 [==============================] - 1s 87ms/step - loss: 5.0371 - accuracy: 0.0598\n",
            "Epoch 22/100\n",
            "17/17 [==============================] - 1s 85ms/step - loss: 4.9918 - accuracy: 0.0607\n",
            "Epoch 23/100\n",
            "17/17 [==============================] - 1s 86ms/step - loss: 4.9406 - accuracy: 0.0607\n",
            "Epoch 24/100\n",
            "17/17 [==============================] - 1s 86ms/step - loss: 4.8760 - accuracy: 0.0448\n",
            "Epoch 25/100\n",
            "17/17 [==============================] - 1s 85ms/step - loss: 4.8073 - accuracy: 0.0626\n",
            "Epoch 26/100\n",
            "17/17 [==============================] - 1s 86ms/step - loss: 4.7337 - accuracy: 0.0691\n",
            "Epoch 27/100\n",
            "17/17 [==============================] - 1s 86ms/step - loss: 4.6611 - accuracy: 0.0682\n",
            "Epoch 28/100\n",
            "17/17 [==============================] - 1s 87ms/step - loss: 4.5477 - accuracy: 0.0859\n",
            "Epoch 29/100\n",
            "17/17 [==============================] - 1s 88ms/step - loss: 4.4576 - accuracy: 0.0784\n",
            "Epoch 30/100\n",
            "17/17 [==============================] - 2s 89ms/step - loss: 4.3777 - accuracy: 0.0794\n",
            "Epoch 31/100\n",
            "17/17 [==============================] - 1s 86ms/step - loss: 4.3020 - accuracy: 0.0962\n",
            "Epoch 32/100\n",
            "17/17 [==============================] - 1s 86ms/step - loss: 4.2373 - accuracy: 0.0850\n",
            "Epoch 33/100\n",
            "17/17 [==============================] - 1s 86ms/step - loss: 4.1544 - accuracy: 0.1008\n",
            "Epoch 34/100\n",
            "17/17 [==============================] - 1s 86ms/step - loss: 4.0576 - accuracy: 0.1018\n",
            "Epoch 35/100\n",
            "17/17 [==============================] - 1s 88ms/step - loss: 3.9872 - accuracy: 0.1074\n",
            "Epoch 36/100\n",
            "17/17 [==============================] - 1s 87ms/step - loss: 3.9099 - accuracy: 0.0999\n",
            "Epoch 37/100\n",
            "17/17 [==============================] - 1s 88ms/step - loss: 3.8252 - accuracy: 0.1261\n",
            "Epoch 38/100\n",
            "17/17 [==============================] - 1s 86ms/step - loss: 3.7428 - accuracy: 0.1298\n",
            "Epoch 39/100\n",
            "17/17 [==============================] - 1s 86ms/step - loss: 3.6810 - accuracy: 0.1457\n",
            "Epoch 40/100\n",
            "17/17 [==============================] - 1s 87ms/step - loss: 3.6079 - accuracy: 0.1335\n",
            "Epoch 41/100\n",
            "17/17 [==============================] - 1s 87ms/step - loss: 3.5332 - accuracy: 0.1475\n",
            "Epoch 42/100\n",
            "17/17 [==============================] - 2s 89ms/step - loss: 3.4780 - accuracy: 0.1550\n",
            "Epoch 43/100\n",
            "17/17 [==============================] - 1s 85ms/step - loss: 3.4034 - accuracy: 0.1671\n",
            "Epoch 44/100\n",
            "17/17 [==============================] - 2s 89ms/step - loss: 3.3153 - accuracy: 0.1774\n",
            "Epoch 45/100\n",
            "17/17 [==============================] - 1s 86ms/step - loss: 3.2700 - accuracy: 0.1811\n",
            "Epoch 46/100\n",
            "17/17 [==============================] - 1s 87ms/step - loss: 3.2039 - accuracy: 0.1961\n",
            "Epoch 47/100\n",
            "17/17 [==============================] - 1s 86ms/step - loss: 3.1475 - accuracy: 0.2026\n",
            "Epoch 48/100\n",
            "17/17 [==============================] - 1s 86ms/step - loss: 3.0845 - accuracy: 0.2176\n",
            "Epoch 49/100\n",
            "17/17 [==============================] - 1s 86ms/step - loss: 3.0171 - accuracy: 0.2185\n",
            "Epoch 50/100\n",
            "17/17 [==============================] - 1s 86ms/step - loss: 2.9562 - accuracy: 0.2250\n",
            "Epoch 51/100\n",
            "17/17 [==============================] - 1s 86ms/step - loss: 2.9040 - accuracy: 0.2493\n",
            "Epoch 52/100\n",
            "17/17 [==============================] - 1s 87ms/step - loss: 2.8557 - accuracy: 0.2521\n",
            "Epoch 53/100\n",
            "17/17 [==============================] - 1s 87ms/step - loss: 2.7898 - accuracy: 0.2726\n",
            "Epoch 54/100\n",
            "17/17 [==============================] - 1s 86ms/step - loss: 2.7383 - accuracy: 0.2951\n",
            "Epoch 55/100\n",
            "17/17 [==============================] - 1s 85ms/step - loss: 2.7023 - accuracy: 0.2894\n",
            "Epoch 56/100\n",
            "17/17 [==============================] - 1s 86ms/step - loss: 2.6662 - accuracy: 0.3137\n",
            "Epoch 57/100\n",
            "17/17 [==============================] - 1s 86ms/step - loss: 2.6300 - accuracy: 0.3035\n",
            "Epoch 58/100\n",
            "17/17 [==============================] - 1s 87ms/step - loss: 2.5807 - accuracy: 0.3091\n",
            "Epoch 59/100\n",
            "17/17 [==============================] - 1s 87ms/step - loss: 2.5452 - accuracy: 0.3128\n",
            "Epoch 60/100\n",
            "17/17 [==============================] - 1s 87ms/step - loss: 2.5122 - accuracy: 0.3277\n",
            "Epoch 61/100\n",
            "17/17 [==============================] - 1s 87ms/step - loss: 2.4571 - accuracy: 0.3371\n",
            "Epoch 62/100\n",
            "17/17 [==============================] - 1s 87ms/step - loss: 2.4352 - accuracy: 0.3501\n",
            "Epoch 63/100\n",
            "17/17 [==============================] - 1s 87ms/step - loss: 2.3925 - accuracy: 0.3632\n",
            "Epoch 64/100\n",
            "17/17 [==============================] - 1s 86ms/step - loss: 2.3425 - accuracy: 0.3632\n",
            "Epoch 65/100\n",
            "17/17 [==============================] - 1s 87ms/step - loss: 2.2977 - accuracy: 0.3940\n",
            "Epoch 66/100\n",
            "17/17 [==============================] - 1s 86ms/step - loss: 2.2932 - accuracy: 0.3968\n",
            "Epoch 67/100\n",
            "17/17 [==============================] - 1s 87ms/step - loss: 2.2306 - accuracy: 0.4052\n",
            "Epoch 68/100\n",
            "17/17 [==============================] - 1s 87ms/step - loss: 2.1835 - accuracy: 0.4183\n",
            "Epoch 69/100\n",
            "17/17 [==============================] - 1s 86ms/step - loss: 2.1649 - accuracy: 0.4174\n",
            "Epoch 70/100\n",
            "17/17 [==============================] - 1s 87ms/step - loss: 2.1334 - accuracy: 0.4351\n",
            "Epoch 71/100\n",
            "17/17 [==============================] - 1s 86ms/step - loss: 2.0763 - accuracy: 0.4631\n",
            "Epoch 72/100\n",
            "17/17 [==============================] - 1s 85ms/step - loss: 2.0433 - accuracy: 0.4594\n",
            "Epoch 73/100\n",
            "17/17 [==============================] - 2s 89ms/step - loss: 2.0267 - accuracy: 0.4678\n",
            "Epoch 74/100\n",
            "17/17 [==============================] - 1s 87ms/step - loss: 2.0323 - accuracy: 0.4528\n",
            "Epoch 75/100\n",
            "17/17 [==============================] - 2s 89ms/step - loss: 1.9606 - accuracy: 0.4893\n",
            "Epoch 76/100\n",
            "17/17 [==============================] - 2s 89ms/step - loss: 1.9182 - accuracy: 0.4967\n",
            "Epoch 77/100\n",
            "17/17 [==============================] - 1s 87ms/step - loss: 1.8784 - accuracy: 0.5322\n",
            "Epoch 78/100\n",
            "17/17 [==============================] - 1s 86ms/step - loss: 1.8733 - accuracy: 0.5145\n",
            "Epoch 79/100\n",
            "17/17 [==============================] - 1s 87ms/step - loss: 1.8248 - accuracy: 0.5331\n",
            "Epoch 80/100\n",
            "17/17 [==============================] - 1s 88ms/step - loss: 1.7950 - accuracy: 0.5444\n",
            "Epoch 81/100\n",
            "17/17 [==============================] - 1s 87ms/step - loss: 1.7614 - accuracy: 0.5546\n",
            "Epoch 82/100\n",
            "17/17 [==============================] - 1s 87ms/step - loss: 1.7442 - accuracy: 0.5462\n",
            "Epoch 83/100\n",
            "17/17 [==============================] - 2s 88ms/step - loss: 1.7045 - accuracy: 0.5472\n",
            "Epoch 84/100\n",
            "17/17 [==============================] - 1s 87ms/step - loss: 1.6626 - accuracy: 0.5742\n",
            "Epoch 85/100\n",
            "17/17 [==============================] - 1s 86ms/step - loss: 1.6546 - accuracy: 0.5761\n",
            "Epoch 86/100\n",
            "17/17 [==============================] - 1s 87ms/step - loss: 1.6153 - accuracy: 0.5929\n",
            "Epoch 87/100\n",
            "17/17 [==============================] - 2s 89ms/step - loss: 1.5842 - accuracy: 0.5873\n",
            "Epoch 88/100\n",
            "17/17 [==============================] - 1s 88ms/step - loss: 1.5531 - accuracy: 0.6172\n",
            "Epoch 89/100\n",
            "17/17 [==============================] - 2s 89ms/step - loss: 1.5223 - accuracy: 0.6172\n",
            "Epoch 90/100\n",
            "17/17 [==============================] - 1s 88ms/step - loss: 1.5004 - accuracy: 0.6153\n",
            "Epoch 91/100\n",
            "17/17 [==============================] - 1s 88ms/step - loss: 1.4737 - accuracy: 0.6275\n",
            "Epoch 92/100\n",
            "17/17 [==============================] - 1s 86ms/step - loss: 1.4437 - accuracy: 0.6461\n",
            "Epoch 93/100\n",
            "17/17 [==============================] - 1s 88ms/step - loss: 1.4188 - accuracy: 0.6564\n",
            "Epoch 94/100\n",
            "17/17 [==============================] - 2s 89ms/step - loss: 1.3787 - accuracy: 0.6443\n",
            "Epoch 95/100\n",
            "17/17 [==============================] - 1s 85ms/step - loss: 1.3603 - accuracy: 0.6564\n",
            "Epoch 96/100\n",
            "17/17 [==============================] - 1s 87ms/step - loss: 1.3256 - accuracy: 0.6779\n",
            "Epoch 97/100\n",
            "17/17 [==============================] - 1s 87ms/step - loss: 1.3008 - accuracy: 0.6909\n",
            "Epoch 98/100\n",
            "17/17 [==============================] - 1s 87ms/step - loss: 1.3029 - accuracy: 0.6704\n",
            "Epoch 99/100\n",
            "17/17 [==============================] - 1s 87ms/step - loss: 1.2602 - accuracy: 0.6928\n",
            "Epoch 100/100\n",
            "17/17 [==============================] - 1s 88ms/step - loss: 1.2322 - accuracy: 0.6975\n"
          ]
        },
        {
          "output_type": "execute_result",
          "data": {
            "text/plain": [
              "<keras.callbacks.History at 0x7fb62bd28cd0>"
            ]
          },
          "metadata": {},
          "execution_count": 58
        }
      ],
      "source": [
        "model.fit (X , y , batch_size =64 , epochs = 100)"
      ]
    },
    {
      "cell_type": "code",
      "execution_count": null,
      "id": "f9da8049",
      "metadata": {
        "id": "f9da8049"
      },
      "outputs": [],
      "source": [
        "seed_text='जिससे आधुनिक'"
      ]
    },
    {
      "cell_type": "code",
      "execution_count": null,
      "id": "e4e6c5d8",
      "metadata": {
        "id": "e4e6c5d8"
      },
      "outputs": [],
      "source": [
        "def generate_text_sequence(model,tokenizer, text_seq_length , seed_text , n_words) :\n",
        "    gtext =[]\n",
        "    for _ in range(n_words):\n",
        "        encoded = tokenizer.texts_to_sequences([seed_text])[0]\n",
        "        encoded = pad_sequences([encoded], maxlen = text_seq_length , truncating = 'pre')\n",
        "        predict_y=model.predict(encoded) \n",
        "        classes_y=np.argmax(predict_y,axis=1) \n",
        "        #y_predict = model.predict_classes(encoded)\n",
        "        #print(y_predict)\n",
        "        predicted_word = ' '\n",
        "        for word , index in tokenizer.word_index.items():\n",
        "            if index == classes_y:\n",
        "                predicted_word = word\n",
        "                break\n",
        "        seed_text = seed_text + ' ' + predicted_word\n",
        "        gtext.append(predicted_word)\n",
        "    \n",
        "    return ' ' .join(gtext)"
      ]
    },
    {
      "cell_type": "code",
      "execution_count": null,
      "id": "c6178cad",
      "metadata": {
        "id": "c6178cad"
      },
      "outputs": [],
      "source": [
        "x= generate_text_sequence(model, tokenizer, seq_length , seed_text , 20)"
      ]
    },
    {
      "cell_type": "code",
      "execution_count": null,
      "id": "9564571b",
      "metadata": {
        "colab": {
          "base_uri": "https://localhost:8080/",
          "height": 36
        },
        "id": "9564571b",
        "outputId": "70c34227-7c70-48fa-f7f7-39e0d8b7b0f2"
      },
      "outputs": [
        {
          "output_type": "execute_result",
          "data": {
            "text/plain": [
              "'जिससे आधुनिक कालों के कम अलौकिक तथा बहुत विविध अवांतर हैं है खड़ी दक्षिण कविता की भूवैज्ञानिक प्रणाली पश्चिम की सबसे बड़ी'"
            ],
            "application/vnd.google.colaboratory.intrinsic+json": {
              "type": "string"
            }
          },
          "metadata": {},
          "execution_count": 64
        }
      ],
      "source": [
        "seed_text+ \" \" + x"
      ]
    },
    {
      "cell_type": "code",
      "source": [
        "seedt = 'उनके व्यक्तित्व'"
      ],
      "metadata": {
        "id": "2aS8dB96N_rT"
      },
      "id": "2aS8dB96N_rT",
      "execution_count": null,
      "outputs": []
    },
    {
      "cell_type": "code",
      "source": [
        "x1 = seedt + ' ' + generate_text_sequence(model, tokenizer, seq_length , seedt , 20)\n",
        "x1"
      ],
      "metadata": {
        "colab": {
          "base_uri": "https://localhost:8080/",
          "height": 36
        },
        "id": "SyYPPVaENkVH",
        "outputId": "b141a29f-56e4-4f3d-9273-b371d2ea4243"
      },
      "id": "SyYPPVaENkVH",
      "execution_count": null,
      "outputs": [
        {
          "output_type": "execute_result",
          "data": {
            "text/plain": [
              "'उनके व्यक्तित्व में सहानुभूति नया संविधान क्षेत्र हैं है खड़ी दक्षिण है खड़ी दक्षिण कविता की भूवैज्ञानिक आरंभ हुए ब्राजीलवुड के भाँति'"
            ],
            "application/vnd.google.colaboratory.intrinsic+json": {
              "type": "string"
            }
          },
          "metadata": {},
          "execution_count": 74
        }
      ]
    }
  ],
  "metadata": {
    "kernelspec": {
      "display_name": "Python 3",
      "language": "python",
      "name": "python3"
    },
    "language_info": {
      "codemirror_mode": {
        "name": "ipython",
        "version": 3
      },
      "file_extension": ".py",
      "mimetype": "text/x-python",
      "name": "python",
      "nbconvert_exporter": "python",
      "pygments_lexer": "ipython3",
      "version": "3.8.8"
    },
    "colab": {
      "name": "LSTM.ipynb",
      "provenance": []
    }
  },
  "nbformat": 4,
  "nbformat_minor": 5
}