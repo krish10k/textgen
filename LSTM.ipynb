{
  "cells": [
    {
      "cell_type": "markdown",
      "metadata": {
        "id": "view-in-github",
        "colab_type": "text"
      },
      "source": [
        "<a href=\"https://colab.research.google.com/github/teju1001/textgen/blob/main/LSTM.ipynb\" target=\"_parent\"><img src=\"https://colab.research.google.com/assets/colab-badge.svg\" alt=\"Open In Colab\"/></a>"
      ]
    },
    {
      "cell_type": "code",
      "execution_count": null,
      "id": "171ab265",
      "metadata": {
        "id": "171ab265"
      },
      "outputs": [],
      "source": [
        "ds= list()\n",
        "def filetolist(txtfilelist) : \n",
        "    for txt_file in txtfilelist:\n",
        "        with open(txt_fileencoding=\"utf8\") as f:\n",
        "            txt = f\n",
        "            ds.append(txt)\n",
        "    \n",
        "filetolist(txt_files)\n",
        "txtds=''.join(ds)       \n",
        "print(len(txtds))"
      ]
    },
    {
      "cell_type": "code",
      "execution_count": null,
      "id": "220ab7d4",
      "metadata": {
        "id": "220ab7d4"
      },
      "outputs": [],
      "source": [
        "import glob\n",
        "txt_files= glob.glob(\"train/*.txt\")\n",
        "print(f\"Total articles: {(txt_files[:10])}\")"
      ]
    },
    {
      "cell_type": "code",
      "execution_count": null,
      "id": "bdf27eb9",
      "metadata": {
        "id": "bdf27eb9"
      },
      "outputs": [],
      "source": [
        "import glob\n",
        "\n",
        "def read_first_line(file):\n",
        "    \"\"\"Gets the first line from a file.\n",
        "\n",
        "    Returns\n",
        "    -------\n",
        "    str\n",
        "        the first line text of the input file\n",
        "    \"\"\"\n",
        "    with open(file, encoding=\"utf8\") as fd:\n",
        "        first_line = fd.readline()\n",
        "    return first_line\n",
        "\n",
        "def merge_per_folder(folder_path, output_filename):\n",
        "    \"\"\"Merges first lines of text files in one folder, and\n",
        "    writes combined lines into new output file\n",
        "\n",
        "    Parameters\n",
        "    ----------\n",
        "    folder_path : str\n",
        "        String representation of the folder path containing the text files.\n",
        "    output_filename : str\n",
        "        Name of the output file the merged lines will be written to.\n",
        "    \"\"\"\n",
        "    # make sure there's a slash to the folder path \n",
        "    folder_path += \"\" if folder_path[-1] == \"/\" else \"/\"\n",
        "    # get all text files\n",
        "    txt_files = glob.glob(folder_path + \"*.txt\")\n",
        "    # get first lines; map to each text file (sorted)\n",
        "    output_strings = map(read_first_line, sorted(txt_files))\n",
        "    output_content = \"\".join(output_strings)\n",
        "    # write to file\n",
        "    with open(folder_path + output_filename, 'wt') as outfile:\n",
        "        outfile.write(output_content)"
      ]
    },
    {
      "cell_type": "code",
      "execution_count": null,
      "id": "93d125c4",
      "metadata": {
        "id": "93d125c4"
      },
      "outputs": [],
      "source": [
        "merge_per_folder('testdata/', 'wikidata.txt')"
      ]
    },
    {
      "cell_type": "code",
      "execution_count": null,
      "id": "6928f097",
      "metadata": {
        "id": "6928f097",
        "outputId": "6762bdbb-b67b-4c5f-9e95-395baa58d87b"
      },
      "outputs": [
        {
          "name": "stdout",
          "output_type": "stream",
          "text": [
            "<_io.TextIOWrapper name='C:/Users/Dell/Documents/MiNi-PrOjEcT/train\\\\10.txt' mode='r' encoding='cp1252'>\n"
          ]
        }
      ],
      "source": [
        "print(ds[1])"
      ]
    },
    {
      "cell_type": "markdown",
      "source": [
        "# Code for Colab"
      ],
      "metadata": {
        "id": "jVHhZtUdSWxM"
      },
      "id": "jVHhZtUdSWxM"
    },
    {
      "cell_type": "code",
      "execution_count": 1,
      "id": "895e78ed",
      "metadata": {
        "id": "895e78ed"
      },
      "outputs": [],
      "source": [
        "%tensorflow_version 2.x\n",
        "import tensorflow as tf\n",
        "import string\n",
        "import requests\n",
        "import numpy as np\n",
        "import os\n",
        "import time"
      ]
    },
    {
      "cell_type": "code",
      "source": [
        "from google.colab import drive\n",
        "drive.mount('/content/drive')"
      ],
      "metadata": {
        "id": "-tCwUMDjTsOk",
        "colab": {
          "base_uri": "https://localhost:8080/"
        },
        "outputId": "a375f795-d675-42b3-e093-75245f96eaf3"
      },
      "id": "-tCwUMDjTsOk",
      "execution_count": 2,
      "outputs": [
        {
          "output_type": "stream",
          "name": "stdout",
          "text": [
            "Mounted at /content/drive\n"
          ]
        }
      ]
    },
    {
      "cell_type": "code",
      "execution_count": 3,
      "id": "e4c1cab7",
      "metadata": {
        "id": "e4c1cab7"
      },
      "outputs": [],
      "source": [
        "text_file = open(\"/content/drive/My Drive/colab/wikidata2.txt\",'r') #Drve File Path\n",
        "ds= text_file.read() \n",
        "text_file.close()"
      ]
    },
    {
      "cell_type": "code",
      "execution_count": 4,
      "id": "f8cc3151",
      "metadata": {
        "id": "f8cc3151",
        "colab": {
          "base_uri": "https://localhost:8080/",
          "height": 73
        },
        "outputId": "3e5a86ba-06e8-4003-cb68-af6d906895d3"
      },
      "outputs": [
        {
          "output_type": "execute_result",
          "data": {
            "text/plain": [
              "'सिकन्दरापुर मुंगेर मुंगेर बिहार स्थित एक गाँव है\\n\\nप्रियप्रवास अयोध्यासिंह हरिऔध की हिन्दी काव्य रचना है\\nहरिऔध जी को काव्यप्रतिष्ठा प्रियप्रवास से मिली\\nइसका रचनाकाल सन् से सन् है\\nप्रियप्रवास विरहकाव्य है\\n]काव्य की परंपरा में होते हुए भी उससे भिन्न है\\nहरिऔध जी ने कहा है मैंने श्री कृष्णचंद्र को इस ग्रंथ में एक महापुरुष की भाँति अंकित किया है ब्रह्म करके नहीं\\nकृष्णचरित को इस प्रकार अंकित किया है जिससे आधुनिक लोग भी सहमत हो सकें\\nमहापुरुष के रूप में अंकित होते हुए भी प्रियप्रवास के कृष्ण में वही अलौक'"
            ],
            "application/vnd.google.colaboratory.intrinsic+json": {
              "type": "string"
            }
          },
          "metadata": {},
          "execution_count": 4
        }
      ],
      "source": [
        "ds[:500]"
      ]
    },
    {
      "cell_type": "code",
      "execution_count": 5,
      "id": "3e53c050",
      "metadata": {
        "id": "3e53c050"
      },
      "outputs": [],
      "source": [
        "import re\n",
        "def text_cleaner(text):\n",
        "    newString = text\n",
        "    #newString = re.sub(r\"‘\",\"\",newString)\n",
        "    # remove punctuations, english words and numbers\n",
        "    newString = re.sub('([-%!#?,.:\"‘’।])', \" \", newString)\n",
        "    newString = re.sub(\"[a-zA-Z]\", \" \", newString)\n",
        "    newString = re.sub(\"[0-9]\", \" \", newString)\n",
        "    long_words=[]\n",
        "    # remove single characters\n",
        "    for i in newString.split():\n",
        "        if len(i)>=1:                  \n",
        "            long_words.append(i)\n",
        "    return (\" \".join(long_words)).strip()"
      ]
    },
    {
      "cell_type": "code",
      "execution_count": 6,
      "id": "31b50e27",
      "metadata": {
        "id": "31b50e27",
        "colab": {
          "base_uri": "https://localhost:8080/"
        },
        "outputId": "ceac771a-7bd8-43d6-dc45-3a3b84eb779e"
      },
      "outputs": [
        {
          "output_type": "stream",
          "name": "stdout",
          "text": [
            "['सिकन्दरापुर', 'मुंगेर', 'मुंगेर', 'बिहार', 'स्थित', 'एक', 'गाँव', 'है', 'प्रियप्रवास', 'अयोध्यासिंह', 'हरिऔध', 'की', 'हिन्दी', 'काव्य', 'रचना', 'है', 'हरिऔध', 'जी', 'को', 'काव्यप्रतिष्ठा', 'प्रियप्रवास', 'से', 'मिली', 'इसका', 'रचनाकाल', 'सन्', 'से', 'सन्', 'है', 'प्रियप्रवास', 'विरहकाव्य', 'है', ']काव्य', 'की', 'परंपरा', 'में', 'होते', 'हुए', 'भी', 'उससे', 'भिन्न', 'है', 'हरिऔध', 'जी', 'ने', 'कहा', 'है', 'मैंने', 'श्री', 'कृष्णचंद्र', 'को', 'इस', 'ग्रंथ', 'में', 'एक', 'महापुरुष', 'की', 'भाँति', 'अंकित', 'किया', 'है', 'ब्रह्म', 'करके', 'नहीं', 'कृष्णचरित', 'को', 'इस', 'प्रकार', 'अंकित', 'किया', 'है', 'जिससे', 'आधुनिक', 'लोग', 'भी', 'सहमत', 'हो', 'सकें', 'महापुरुष', 'के', 'रूप', 'में', 'अंकित', 'होते', 'हुए', 'भी', 'प्रियप्रवास', 'के', 'कृष्ण', 'में', 'वही', 'अलौकिक', 'स्फूर्ति', 'है', 'जो', 'अवतारी', 'ब्रह्मपुरुष', 'में', 'कवि', 'ने']\n",
            "\n",
            "Total number of tokens : 287669\n"
          ]
        }
      ],
      "source": [
        "text = text_cleaner(ds).split()\n",
        "print(text[:100])\n",
        "print('\\nTotal number of tokens :',len(set(text)))"
      ]
    },
    {
      "cell_type": "code",
      "execution_count": 7,
      "id": "8e1d68aa",
      "metadata": {
        "id": "8e1d68aa"
      },
      "outputs": [],
      "source": [
        "length = 30 + 1\n",
        "lines =[]\n",
        "\n",
        "for i in range (length,len(text)) :\n",
        "    seq = text[i-length:i]\n",
        "    line = ' '.join(seq)\n",
        "    lines.append(line)\n",
        "    if i >1100:\n",
        "        break\n"
      ]
    },
    {
      "cell_type": "code",
      "execution_count": 8,
      "id": "e8857722",
      "metadata": {
        "colab": {
          "base_uri": "https://localhost:8080/",
          "height": 36
        },
        "id": "e8857722",
        "outputId": "99f01a21-0593-46b0-f3c3-817c33407cf3"
      },
      "outputs": [
        {
          "output_type": "execute_result",
          "data": {
            "text/plain": [
              "'कृष्ण का चरित्रचित्रण मनोवैज्ञानिक दृष्टि से किया है उनके व्यक्तित्व में सहानुभूति व्युत्पन्नमतित्व और कर्मकौशल है कृष्ण के चरित्र की तरह प्रियप्रवास की राधा के चरित्र में भी नवीनता है उसमें'"
            ],
            "application/vnd.google.colaboratory.intrinsic+json": {
              "type": "string"
            }
          },
          "metadata": {},
          "execution_count": 8
        }
      ],
      "source": [
        "lines[100]"
      ]
    },
    {
      "cell_type": "code",
      "execution_count": 9,
      "id": "6147b5e8",
      "metadata": {
        "id": "6147b5e8"
      },
      "outputs": [],
      "source": [
        "## LSMT Model\n",
        "from tensorflow.keras.preprocessing.text import Tokenizer \n",
        "from tensorflow.keras.utils import to_categorical \n",
        "from tensorflow. keras.models import Sequential \n",
        "from tensorflow.keras.layers import Dense, LSTM, Embedding \n",
        "from tensorflow.keras.preprocessing. sequence import pad_sequences"
      ]
    },
    {
      "cell_type": "code",
      "execution_count": 10,
      "id": "7c1d3b0b",
      "metadata": {
        "id": "7c1d3b0b"
      },
      "outputs": [],
      "source": [
        "tokenizer = Tokenizer() \n",
        "tokenizer.fit_on_texts(lines) \n",
        "sequences = tokenizer.texts_to_sequences (lines)"
      ]
    },
    {
      "cell_type": "code",
      "execution_count": 11,
      "id": "2cf49e1b",
      "metadata": {
        "id": "2cf49e1b"
      },
      "outputs": [],
      "source": [
        "sequences = np.array(sequences)\n",
        "X,y = sequences[:,:-1],sequences[:,-1]"
      ]
    },
    {
      "cell_type": "code",
      "execution_count": 12,
      "id": "bede1ad1",
      "metadata": {
        "colab": {
          "base_uri": "https://localhost:8080/"
        },
        "id": "bede1ad1",
        "outputId": "aff35dfa-f458-4e25-b286-3000ccc6c5e9"
      },
      "outputs": [
        {
          "output_type": "execute_result",
          "data": {
            "text/plain": [
              "array([478, 475, 475, 476,  41,  13, 474,   1,  11, 470,  81,   5, 469,\n",
              "        86, 467,   1,  81,  85,  16, 465,  11,   7, 464,  83, 463,  84,\n",
              "         7,  84,   1,  11])"
            ]
          },
          "metadata": {},
          "execution_count": 12
        }
      ],
      "source": [
        "X[0]"
      ]
    },
    {
      "cell_type": "code",
      "execution_count": 13,
      "id": "da750e63",
      "metadata": {
        "colab": {
          "base_uri": "https://localhost:8080/"
        },
        "id": "da750e63",
        "outputId": "53287e7e-6871-4b4f-ea12-981c3ee1f051"
      },
      "outputs": [
        {
          "output_type": "execute_result",
          "data": {
            "text/plain": [
              "146"
            ]
          },
          "metadata": {},
          "execution_count": 13
        }
      ],
      "source": [
        "y[0]"
      ]
    },
    {
      "cell_type": "code",
      "execution_count": 14,
      "id": "7a58dcc0",
      "metadata": {
        "colab": {
          "base_uri": "https://localhost:8080/"
        },
        "id": "7a58dcc0",
        "outputId": "bd804178-976c-4b2d-aebf-9713763532e5"
      },
      "outputs": [
        {
          "output_type": "execute_result",
          "data": {
            "text/plain": [
              "479"
            ]
          },
          "metadata": {},
          "execution_count": 14
        }
      ],
      "source": [
        "vocab_size = len(tokenizer.word_index)+1\n",
        "vocab_size"
      ]
    },
    {
      "cell_type": "code",
      "execution_count": 15,
      "id": "2ef34a76",
      "metadata": {
        "id": "2ef34a76"
      },
      "outputs": [],
      "source": [
        "y = to_categorical( y , num_classes = vocab_size)"
      ]
    },
    {
      "cell_type": "code",
      "execution_count": 16,
      "id": "9edd9cce",
      "metadata": {
        "id": "9edd9cce"
      },
      "outputs": [],
      "source": [
        "X.shape[1]\n",
        "seq_length = X.shape[1]"
      ]
    },
    {
      "cell_type": "code",
      "execution_count": 17,
      "id": "2909058b",
      "metadata": {
        "id": "2909058b"
      },
      "outputs": [],
      "source": [
        "model = Sequential()\n",
        "model.add(Embedding(vocab_size, 30 , input_length = seq_length))\n",
        "model.add(LSTM(100 , return_sequences=True))\n",
        "model.add(LSTM(100))\n",
        "model.add(Dense(100 , activation = 'relu'))\n",
        "model.add(Dense (vocab_size , activation = 'softmax'))\n"
      ]
    },
    {
      "cell_type": "code",
      "execution_count": 18,
      "id": "c2c4cdbc",
      "metadata": {
        "colab": {
          "base_uri": "https://localhost:8080/"
        },
        "id": "c2c4cdbc",
        "outputId": "2e058237-60f9-421d-8f1e-2d47dd52178c"
      },
      "outputs": [
        {
          "output_type": "stream",
          "name": "stdout",
          "text": [
            "Model: \"sequential\"\n",
            "_________________________________________________________________\n",
            " Layer (type)                Output Shape              Param #   \n",
            "=================================================================\n",
            " embedding (Embedding)       (None, 30, 30)            14370     \n",
            "                                                                 \n",
            " lstm (LSTM)                 (None, 30, 100)           52400     \n",
            "                                                                 \n",
            " lstm_1 (LSTM)               (None, 100)               80400     \n",
            "                                                                 \n",
            " dense (Dense)               (None, 100)               10100     \n",
            "                                                                 \n",
            " dense_1 (Dense)             (None, 479)               48379     \n",
            "                                                                 \n",
            "=================================================================\n",
            "Total params: 205,649\n",
            "Trainable params: 205,649\n",
            "Non-trainable params: 0\n",
            "_________________________________________________________________\n"
          ]
        }
      ],
      "source": [
        "model.summary()"
      ]
    },
    {
      "cell_type": "code",
      "execution_count": 19,
      "id": "8f6b7840",
      "metadata": {
        "id": "8f6b7840"
      },
      "outputs": [],
      "source": [
        "model.compile(loss = 'categorical_crossentropy' , optimizer = 'adam' , metrics = ['accuracy'])"
      ]
    },
    {
      "cell_type": "code",
      "execution_count": 20,
      "id": "927cbb70",
      "metadata": {
        "colab": {
          "base_uri": "https://localhost:8080/"
        },
        "id": "927cbb70",
        "outputId": "0c954ec0-59c6-4f7e-ff10-f959e88327e4"
      },
      "outputs": [
        {
          "output_type": "stream",
          "name": "stdout",
          "text": [
            "Epoch 1/100\n",
            "17/17 [==============================] - 6s 91ms/step - loss: 6.1384 - accuracy: 0.0308\n",
            "Epoch 2/100\n",
            "17/17 [==============================] - 1s 77ms/step - loss: 5.7397 - accuracy: 0.0420\n",
            "Epoch 3/100\n",
            "17/17 [==============================] - 1s 75ms/step - loss: 5.5405 - accuracy: 0.0598\n",
            "Epoch 4/100\n",
            "17/17 [==============================] - 1s 84ms/step - loss: 5.4940 - accuracy: 0.0598\n",
            "Epoch 5/100\n",
            "17/17 [==============================] - 1s 77ms/step - loss: 5.4777 - accuracy: 0.0598\n",
            "Epoch 6/100\n",
            "17/17 [==============================] - 1s 76ms/step - loss: 5.4717 - accuracy: 0.0598\n",
            "Epoch 7/100\n",
            "17/17 [==============================] - 1s 76ms/step - loss: 5.4718 - accuracy: 0.0598\n",
            "Epoch 8/100\n",
            "17/17 [==============================] - 1s 76ms/step - loss: 5.4695 - accuracy: 0.0598\n",
            "Epoch 9/100\n",
            "17/17 [==============================] - 1s 82ms/step - loss: 5.4658 - accuracy: 0.0598\n",
            "Epoch 10/100\n",
            "17/17 [==============================] - 1s 80ms/step - loss: 5.4627 - accuracy: 0.0598\n",
            "Epoch 11/100\n",
            "17/17 [==============================] - 2s 109ms/step - loss: 5.4590 - accuracy: 0.0598\n",
            "Epoch 12/100\n",
            "17/17 [==============================] - 2s 88ms/step - loss: 5.4532 - accuracy: 0.0598\n",
            "Epoch 13/100\n",
            "17/17 [==============================] - 1s 81ms/step - loss: 5.4409 - accuracy: 0.0598\n",
            "Epoch 14/100\n",
            "17/17 [==============================] - 1s 75ms/step - loss: 5.4140 - accuracy: 0.0598\n",
            "Epoch 15/100\n",
            "17/17 [==============================] - 2s 123ms/step - loss: 5.3365 - accuracy: 0.0523\n",
            "Epoch 16/100\n",
            "17/17 [==============================] - 2s 114ms/step - loss: 5.2293 - accuracy: 0.0598\n",
            "Epoch 17/100\n",
            "17/17 [==============================] - 1s 79ms/step - loss: 5.1502 - accuracy: 0.0598\n",
            "Epoch 18/100\n",
            "17/17 [==============================] - 1s 76ms/step - loss: 5.0929 - accuracy: 0.0486\n",
            "Epoch 19/100\n",
            "17/17 [==============================] - 1s 74ms/step - loss: 5.0488 - accuracy: 0.0588\n",
            "Epoch 20/100\n",
            "17/17 [==============================] - 1s 75ms/step - loss: 4.9963 - accuracy: 0.0551\n",
            "Epoch 21/100\n",
            "17/17 [==============================] - 1s 78ms/step - loss: 4.9372 - accuracy: 0.0635\n",
            "Epoch 22/100\n",
            "17/17 [==============================] - 1s 82ms/step - loss: 4.8736 - accuracy: 0.0644\n",
            "Epoch 23/100\n",
            "17/17 [==============================] - 1s 77ms/step - loss: 4.8116 - accuracy: 0.0607\n",
            "Epoch 24/100\n",
            "17/17 [==============================] - 1s 84ms/step - loss: 4.7413 - accuracy: 0.0588\n",
            "Epoch 25/100\n",
            "17/17 [==============================] - 1s 83ms/step - loss: 4.6817 - accuracy: 0.0672\n",
            "Epoch 26/100\n",
            "17/17 [==============================] - 2s 108ms/step - loss: 4.6203 - accuracy: 0.0794\n",
            "Epoch 27/100\n",
            "17/17 [==============================] - 1s 76ms/step - loss: 4.5331 - accuracy: 0.0747\n",
            "Epoch 28/100\n",
            "17/17 [==============================] - 1s 80ms/step - loss: 4.4692 - accuracy: 0.0812\n",
            "Epoch 29/100\n",
            "17/17 [==============================] - 1s 77ms/step - loss: 4.4062 - accuracy: 0.0822\n",
            "Epoch 30/100\n",
            "17/17 [==============================] - 1s 76ms/step - loss: 4.3541 - accuracy: 0.0971\n",
            "Epoch 31/100\n",
            "17/17 [==============================] - 1s 75ms/step - loss: 4.3018 - accuracy: 0.0934\n",
            "Epoch 32/100\n",
            "17/17 [==============================] - 1s 82ms/step - loss: 4.2404 - accuracy: 0.1102\n",
            "Epoch 33/100\n",
            "17/17 [==============================] - 2s 91ms/step - loss: 4.1774 - accuracy: 0.0980\n",
            "Epoch 34/100\n",
            "17/17 [==============================] - 1s 76ms/step - loss: 4.1284 - accuracy: 0.1111\n",
            "Epoch 35/100\n",
            "17/17 [==============================] - 1s 74ms/step - loss: 4.0792 - accuracy: 0.1186\n",
            "Epoch 36/100\n",
            "17/17 [==============================] - 1s 77ms/step - loss: 4.0231 - accuracy: 0.1130\n",
            "Epoch 37/100\n",
            "17/17 [==============================] - 1s 83ms/step - loss: 3.9751 - accuracy: 0.1092\n",
            "Epoch 38/100\n",
            "17/17 [==============================] - 1s 84ms/step - loss: 3.9333 - accuracy: 0.1083\n",
            "Epoch 39/100\n",
            "17/17 [==============================] - 1s 82ms/step - loss: 3.8771 - accuracy: 0.1167\n",
            "Epoch 40/100\n",
            "17/17 [==============================] - 1s 75ms/step - loss: 3.8251 - accuracy: 0.1298\n",
            "Epoch 41/100\n",
            "17/17 [==============================] - 1s 75ms/step - loss: 3.7712 - accuracy: 0.1391\n",
            "Epoch 42/100\n",
            "17/17 [==============================] - 1s 75ms/step - loss: 3.7086 - accuracy: 0.1345\n",
            "Epoch 43/100\n",
            "17/17 [==============================] - 1s 76ms/step - loss: 3.6664 - accuracy: 0.1429\n",
            "Epoch 44/100\n",
            "17/17 [==============================] - 1s 80ms/step - loss: 3.6201 - accuracy: 0.1457\n",
            "Epoch 45/100\n",
            "17/17 [==============================] - 1s 86ms/step - loss: 3.5651 - accuracy: 0.1475\n",
            "Epoch 46/100\n",
            "17/17 [==============================] - 1s 74ms/step - loss: 3.5066 - accuracy: 0.1485\n",
            "Epoch 47/100\n",
            "17/17 [==============================] - 1s 76ms/step - loss: 3.4608 - accuracy: 0.1718\n",
            "Epoch 48/100\n",
            "17/17 [==============================] - 1s 75ms/step - loss: 3.4151 - accuracy: 0.1671\n",
            "Epoch 49/100\n",
            "17/17 [==============================] - 1s 76ms/step - loss: 3.3677 - accuracy: 0.1690\n",
            "Epoch 50/100\n",
            "17/17 [==============================] - 1s 78ms/step - loss: 3.3269 - accuracy: 0.1727\n",
            "Epoch 51/100\n",
            "17/17 [==============================] - 1s 86ms/step - loss: 3.2743 - accuracy: 0.1718\n",
            "Epoch 52/100\n",
            "17/17 [==============================] - 1s 82ms/step - loss: 3.2437 - accuracy: 0.1690\n",
            "Epoch 53/100\n",
            "17/17 [==============================] - 1s 74ms/step - loss: 3.2006 - accuracy: 0.1877\n",
            "Epoch 54/100\n",
            "17/17 [==============================] - 1s 76ms/step - loss: 3.1878 - accuracy: 0.1998\n",
            "Epoch 55/100\n",
            "17/17 [==============================] - 1s 75ms/step - loss: 3.1364 - accuracy: 0.1923\n",
            "Epoch 56/100\n",
            "17/17 [==============================] - 1s 78ms/step - loss: 3.1028 - accuracy: 0.2073\n",
            "Epoch 57/100\n",
            "17/17 [==============================] - 1s 85ms/step - loss: 3.0721 - accuracy: 0.2073\n",
            "Epoch 58/100\n",
            "17/17 [==============================] - 1s 85ms/step - loss: 3.0222 - accuracy: 0.2213\n",
            "Epoch 59/100\n",
            "17/17 [==============================] - 1s 80ms/step - loss: 2.9738 - accuracy: 0.2120\n",
            "Epoch 60/100\n",
            "17/17 [==============================] - 1s 75ms/step - loss: 2.9228 - accuracy: 0.2437\n",
            "Epoch 61/100\n",
            "17/17 [==============================] - 1s 77ms/step - loss: 2.8869 - accuracy: 0.2568\n",
            "Epoch 62/100\n",
            "17/17 [==============================] - 1s 76ms/step - loss: 2.8379 - accuracy: 0.2586\n",
            "Epoch 63/100\n",
            "17/17 [==============================] - 1s 76ms/step - loss: 2.8145 - accuracy: 0.2474\n",
            "Epoch 64/100\n",
            "17/17 [==============================] - 1s 76ms/step - loss: 2.7775 - accuracy: 0.2838\n",
            "Epoch 65/100\n",
            "17/17 [==============================] - 1s 84ms/step - loss: 2.7762 - accuracy: 0.2568\n",
            "Epoch 66/100\n",
            "17/17 [==============================] - 1s 79ms/step - loss: 2.7256 - accuracy: 0.2866\n",
            "Epoch 67/100\n",
            "17/17 [==============================] - 1s 87ms/step - loss: 2.6800 - accuracy: 0.2876\n",
            "Epoch 68/100\n",
            "17/17 [==============================] - 1s 75ms/step - loss: 2.6461 - accuracy: 0.2876\n",
            "Epoch 69/100\n",
            "17/17 [==============================] - 1s 75ms/step - loss: 2.6131 - accuracy: 0.3072\n",
            "Epoch 70/100\n",
            "17/17 [==============================] - 1s 74ms/step - loss: 2.5791 - accuracy: 0.3128\n",
            "Epoch 71/100\n",
            "17/17 [==============================] - 2s 103ms/step - loss: 2.5503 - accuracy: 0.3165\n",
            "Epoch 72/100\n",
            "17/17 [==============================] - 1s 79ms/step - loss: 2.4910 - accuracy: 0.3296\n",
            "Epoch 73/100\n",
            "17/17 [==============================] - 1s 84ms/step - loss: 2.4666 - accuracy: 0.3445\n",
            "Epoch 74/100\n",
            "17/17 [==============================] - 1s 75ms/step - loss: 2.4235 - accuracy: 0.3501\n",
            "Epoch 75/100\n",
            "17/17 [==============================] - 1s 82ms/step - loss: 2.3929 - accuracy: 0.3567\n",
            "Epoch 76/100\n",
            "17/17 [==============================] - 1s 78ms/step - loss: 2.3595 - accuracy: 0.3791\n",
            "Epoch 77/100\n",
            "17/17 [==============================] - 1s 83ms/step - loss: 2.3116 - accuracy: 0.3968\n",
            "Epoch 78/100\n",
            "17/17 [==============================] - 1s 76ms/step - loss: 2.2966 - accuracy: 0.3940\n",
            "Epoch 79/100\n",
            "17/17 [==============================] - 1s 76ms/step - loss: 2.2692 - accuracy: 0.4015\n",
            "Epoch 80/100\n",
            "17/17 [==============================] - 2s 93ms/step - loss: 2.2124 - accuracy: 0.4183\n",
            "Epoch 81/100\n",
            "17/17 [==============================] - 1s 78ms/step - loss: 2.1906 - accuracy: 0.4183\n",
            "Epoch 82/100\n",
            "17/17 [==============================] - 1s 76ms/step - loss: 2.1496 - accuracy: 0.4435\n",
            "Epoch 83/100\n",
            "17/17 [==============================] - 1s 76ms/step - loss: 2.1312 - accuracy: 0.4379\n",
            "Epoch 84/100\n",
            "17/17 [==============================] - 1s 76ms/step - loss: 2.0859 - accuracy: 0.4482\n",
            "Epoch 85/100\n",
            "17/17 [==============================] - 1s 83ms/step - loss: 2.0390 - accuracy: 0.4771\n",
            "Epoch 86/100\n",
            "17/17 [==============================] - 1s 76ms/step - loss: 2.0093 - accuracy: 0.4799\n",
            "Epoch 87/100\n",
            "17/17 [==============================] - 1s 79ms/step - loss: 1.9648 - accuracy: 0.5070\n",
            "Epoch 88/100\n",
            "17/17 [==============================] - 1s 85ms/step - loss: 1.9325 - accuracy: 0.4986\n",
            "Epoch 89/100\n",
            "17/17 [==============================] - 1s 87ms/step - loss: 1.9210 - accuracy: 0.5201\n",
            "Epoch 90/100\n",
            "17/17 [==============================] - 1s 82ms/step - loss: 1.8808 - accuracy: 0.5303\n",
            "Epoch 91/100\n",
            "17/17 [==============================] - 1s 76ms/step - loss: 1.8480 - accuracy: 0.5500\n",
            "Epoch 92/100\n",
            "17/17 [==============================] - 2s 95ms/step - loss: 1.8129 - accuracy: 0.5444\n",
            "Epoch 93/100\n",
            "17/17 [==============================] - 1s 86ms/step - loss: 1.8012 - accuracy: 0.5500\n",
            "Epoch 94/100\n",
            "17/17 [==============================] - 2s 108ms/step - loss: 1.7535 - accuracy: 0.5612\n",
            "Epoch 95/100\n",
            "17/17 [==============================] - 1s 85ms/step - loss: 1.7180 - accuracy: 0.5789\n",
            "Epoch 96/100\n",
            "17/17 [==============================] - 1s 79ms/step - loss: 1.6839 - accuracy: 0.5826\n",
            "Epoch 97/100\n",
            "17/17 [==============================] - 1s 77ms/step - loss: 1.6582 - accuracy: 0.5910\n",
            "Epoch 98/100\n",
            "17/17 [==============================] - 1s 83ms/step - loss: 1.6272 - accuracy: 0.5882\n",
            "Epoch 99/100\n",
            "17/17 [==============================] - 1s 81ms/step - loss: 1.6125 - accuracy: 0.6013\n",
            "Epoch 100/100\n",
            "17/17 [==============================] - 2s 104ms/step - loss: 1.5663 - accuracy: 0.6209\n"
          ]
        },
        {
          "output_type": "execute_result",
          "data": {
            "text/plain": [
              "<keras.callbacks.History at 0x7f6e0c1fff90>"
            ]
          },
          "metadata": {},
          "execution_count": 20
        }
      ],
      "source": [
        "model.fit (X , y , batch_size =64 , epochs = 100)"
      ]
    },
    {
      "cell_type": "code",
      "execution_count": 32,
      "id": "f9da8049",
      "metadata": {
        "id": "f9da8049"
      },
      "outputs": [],
      "source": [
        "seed_text='लेकिन जो एक'"
      ]
    },
    {
      "cell_type": "code",
      "execution_count": 22,
      "id": "e4e6c5d8",
      "metadata": {
        "id": "e4e6c5d8"
      },
      "outputs": [],
      "source": [
        "def generate_text_sequence(model,tokenizer, text_seq_length , seed_text , n_words) :\n",
        "    gtext =[]\n",
        "    for _ in range(n_words):\n",
        "        encoded = tokenizer.texts_to_sequences([seed_text])[0]\n",
        "        encoded = pad_sequences([encoded], maxlen = text_seq_length , truncating = 'pre')\n",
        "        predict_y=model.predict(encoded) \n",
        "        classes_y=np.argmax(predict_y,axis=1) \n",
        "        #y_predict = model.predict_classes(encoded)\n",
        "        #print(y_predict)\n",
        "        predicted_word = ' '\n",
        "        for word , index in tokenizer.word_index.items():\n",
        "            if index == classes_y:\n",
        "                predicted_word = word\n",
        "                break\n",
        "        seed_text = seed_text + ' ' + predicted_word\n",
        "        gtext.append(predicted_word)\n",
        "    \n",
        "    return ' ' .join(gtext)"
      ]
    },
    {
      "cell_type": "code",
      "execution_count": 33,
      "id": "c6178cad",
      "metadata": {
        "id": "c6178cad",
        "colab": {
          "base_uri": "https://localhost:8080/",
          "height": 36
        },
        "outputId": "cbbf0de6-68fa-485e-cc3a-0b347d240479"
      },
      "outputs": [
        {
          "output_type": "execute_result",
          "data": {
            "text/plain": [
              "'लेकिन जो एक युग बीत इसका मुहाना प्रमुख जलवायु हैं अपने दक्षिण में समशीतोष्ण शंकुधारी जंगलों और मध्य ब्राजील में ब्रजभाषा है भाषा'"
            ],
            "application/vnd.google.colaboratory.intrinsic+json": {
              "type": "string"
            }
          },
          "metadata": {},
          "execution_count": 33
        }
      ],
      "source": [
        "x= generate_text_sequence(model, tokenizer, seq_length , seed_text , 20)\n",
        "seed_text+ \" \" + x"
      ]
    },
    {
      "cell_type": "code",
      "source": [
        "seedt = 'उनके व्यक्तित्व'"
      ],
      "metadata": {
        "id": "2aS8dB96N_rT"
      },
      "id": "2aS8dB96N_rT",
      "execution_count": 24,
      "outputs": []
    },
    {
      "cell_type": "code",
      "source": [
        "x1 = seedt + ' ' + generate_text_sequence(model, tokenizer, seq_length , seedt , 20)\n",
        "x1"
      ],
      "metadata": {
        "colab": {
          "base_uri": "https://localhost:8080/",
          "height": 36
        },
        "id": "SyYPPVaENkVH",
        "outputId": "22b5d8ef-1006-4a57-d11a-a3aab5fb9f89"
      },
      "id": "SyYPPVaENkVH",
      "execution_count": 25,
      "outputs": [
        {
          "output_type": "execute_result",
          "data": {
            "text/plain": [
              "'उनके व्यक्तित्व में किंतु एक युग बीत जाने में जाने में जाने में पिंडोरमा हो गई है जन्तुओं में प्रियप्रवास की संस्कृतबहुल'"
            ],
            "application/vnd.google.colaboratory.intrinsic+json": {
              "type": "string"
            }
          },
          "metadata": {},
          "execution_count": 25
        }
      ]
    },
    {
      "cell_type": "code",
      "source": [
        "from tensorflow.keras.models import Model\n",
        "from tensorflow.keras.models import load_model\n",
        "\n",
        "model.save('/content/drive/My Drive/colab/lstm.h5')\n",
        "print('Model Saved!')\n",
        " \n",
        "\n",
        "savedlstm=load_model('/content/drive/My Drive/colab/lstm.h5')\n",
        "savedlstm.summary()"
      ],
      "metadata": {
        "colab": {
          "base_uri": "https://localhost:8080/"
        },
        "id": "PKPVztGNdKI9",
        "outputId": "c57606f7-0477-47cc-f793-46157bdb79ea"
      },
      "execution_count": 29,
      "outputs": [
        {
          "output_type": "stream",
          "name": "stdout",
          "text": [
            "Model Saved!\n",
            "Model: \"sequential\"\n",
            "_________________________________________________________________\n",
            " Layer (type)                Output Shape              Param #   \n",
            "=================================================================\n",
            " embedding (Embedding)       (None, 30, 30)            14370     \n",
            "                                                                 \n",
            " lstm (LSTM)                 (None, 30, 100)           52400     \n",
            "                                                                 \n",
            " lstm_1 (LSTM)               (None, 100)               80400     \n",
            "                                                                 \n",
            " dense (Dense)               (None, 100)               10100     \n",
            "                                                                 \n",
            " dense_1 (Dense)             (None, 479)               48379     \n",
            "                                                                 \n",
            "=================================================================\n",
            "Total params: 205,649\n",
            "Trainable params: 205,649\n",
            "Non-trainable params: 0\n",
            "_________________________________________________________________\n"
          ]
        }
      ],
      "id": "PKPVztGNdKI9"
    },
    {
      "cell_type": "code",
      "source": [
        "def gen_sent(savedlstm,tokenizer, text_seq_length , seed_text , n_words) :\n",
        "    gtext =[]\n",
        "    for _ in range(n_words):\n",
        "        encoded = tokenizer.texts_to_sequences([seed_text])[0]\n",
        "        encoded = pad_sequences([encoded], maxlen = text_seq_length , truncating = 'pre')\n",
        "        predict_y=savedlstm.predict(encoded) \n",
        "        classes_y=np.argmax(predict_y,axis=1) \n",
        "        #y_predict = model.predict_classes(encoded)\n",
        "        #print(y_predict)\n",
        "        predicted_word = ' '\n",
        "        for word , index in tokenizer.word_index.items():\n",
        "            if index == classes_y:\n",
        "                predicted_word = word\n",
        "                break\n",
        "        seed_text = seed_text + ' ' + predicted_word\n",
        "        gtext.append(predicted_word)\n",
        "    \n",
        "    return ' ' .join(gtext)"
      ],
      "metadata": {
        "id": "CyXepM2mf5YV"
      },
      "execution_count": 27,
      "outputs": [],
      "id": "CyXepM2mf5YV"
    },
    {
      "cell_type": "code",
      "source": [
        "xnew = seedt + ' ' + generate_text_sequence(model, tokenizer, seq_length , seedt , 20)\n",
        "xnew"
      ],
      "metadata": {
        "colab": {
          "base_uri": "https://localhost:8080/",
          "height": 36
        },
        "id": "bmBmjskEg5rB",
        "outputId": "c9603001-951e-499e-93e9-09bbfda4b071"
      },
      "execution_count": 28,
      "outputs": [
        {
          "output_type": "execute_result",
          "data": {
            "text/plain": [
              "'उनके व्यक्तित्व में किंतु एक युग बीत जाने में जाने में जाने में पिंडोरमा हो गई है जन्तुओं में प्रियप्रवास की संस्कृतबहुल'"
            ],
            "application/vnd.google.colaboratory.intrinsic+json": {
              "type": "string"
            }
          },
          "metadata": {},
          "execution_count": 28
        }
      ],
      "id": "bmBmjskEg5rB"
    },
    {
      "cell_type": "code",
      "source": [
        ""
      ],
      "metadata": {
        "id": "-1YaOSSvnbRJ"
      },
      "id": "-1YaOSSvnbRJ",
      "execution_count": null,
      "outputs": []
    }
  ],
  "metadata": {
    "kernelspec": {
      "display_name": "Python 3",
      "language": "python",
      "name": "python3"
    },
    "language_info": {
      "codemirror_mode": {
        "name": "ipython",
        "version": 3
      },
      "file_extension": ".py",
      "mimetype": "text/x-python",
      "name": "python",
      "nbconvert_exporter": "python",
      "pygments_lexer": "ipython3",
      "version": "3.8.8"
    },
    "colab": {
      "name": "LSTM.ipynb",
      "provenance": [],
      "collapsed_sections": [],
      "include_colab_link": true
    }
  },
  "nbformat": 4,
  "nbformat_minor": 5
}