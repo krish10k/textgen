{
  "nbformat": 4,
  "nbformat_minor": 0,
  "metadata": {
    "colab": {
      "provenance": [],
      "collapsed_sections": [],
      "mount_file_id": "16D338v2ZyXk4DoXCAplAI62EEsd2_tp1",
      "authorship_tag": "ABX9TyNROhZuqBihaQvgdsX0U2LE",
      "include_colab_link": true
    },
    "kernelspec": {
      "name": "python3",
      "display_name": "Python 3"
    },
    "language_info": {
      "name": "python"
    },
    "widgets": {
      "application/vnd.jupyter.widget-state+json": {
        "5fa129b382794de8b612dfc839d83308": {
          "model_module": "@jupyter-widgets/controls",
          "model_name": "HBoxModel",
          "model_module_version": "1.5.0",
          "state": {
            "_dom_classes": [],
            "_model_module": "@jupyter-widgets/controls",
            "_model_module_version": "1.5.0",
            "_model_name": "HBoxModel",
            "_view_count": null,
            "_view_module": "@jupyter-widgets/controls",
            "_view_module_version": "1.5.0",
            "_view_name": "HBoxView",
            "box_style": "",
            "children": [
              "IPY_MODEL_2911f2caccd24aa3b7d128669a4baf8c",
              "IPY_MODEL_18f97899b0d5422eab2816908e21cfd8",
              "IPY_MODEL_0ca4f8e63ffb46f7b038b52fb7e0935e"
            ],
            "layout": "IPY_MODEL_1cb3da594cbd45158bd24f2c4a3e4a10"
          }
        },
        "2911f2caccd24aa3b7d128669a4baf8c": {
          "model_module": "@jupyter-widgets/controls",
          "model_name": "HTMLModel",
          "model_module_version": "1.5.0",
          "state": {
            "_dom_classes": [],
            "_model_module": "@jupyter-widgets/controls",
            "_model_module_version": "1.5.0",
            "_model_name": "HTMLModel",
            "_view_count": null,
            "_view_module": "@jupyter-widgets/controls",
            "_view_module_version": "1.5.0",
            "_view_name": "HTMLView",
            "description": "",
            "description_tooltip": null,
            "layout": "IPY_MODEL_aef479d1db1b4e379db2beadeb0cf6ae",
            "placeholder": "​",
            "style": "IPY_MODEL_024b0ff434cb40e7b359a30ee6c5c24c",
            "value": "Downloading https://raw.githubusercontent.com/stanfordnlp/stanza-resources/main/resources_1.4.1.json: "
          }
        },
        "18f97899b0d5422eab2816908e21cfd8": {
          "model_module": "@jupyter-widgets/controls",
          "model_name": "FloatProgressModel",
          "model_module_version": "1.5.0",
          "state": {
            "_dom_classes": [],
            "_model_module": "@jupyter-widgets/controls",
            "_model_module_version": "1.5.0",
            "_model_name": "FloatProgressModel",
            "_view_count": null,
            "_view_module": "@jupyter-widgets/controls",
            "_view_module_version": "1.5.0",
            "_view_name": "ProgressView",
            "bar_style": "success",
            "description": "",
            "description_tooltip": null,
            "layout": "IPY_MODEL_647bbdfa798e406ba32799fd1b16c2a2",
            "max": 28918,
            "min": 0,
            "orientation": "horizontal",
            "style": "IPY_MODEL_ba1b4f3cb6b24e40bf779d33d68ef347",
            "value": 28918
          }
        },
        "0ca4f8e63ffb46f7b038b52fb7e0935e": {
          "model_module": "@jupyter-widgets/controls",
          "model_name": "HTMLModel",
          "model_module_version": "1.5.0",
          "state": {
            "_dom_classes": [],
            "_model_module": "@jupyter-widgets/controls",
            "_model_module_version": "1.5.0",
            "_model_name": "HTMLModel",
            "_view_count": null,
            "_view_module": "@jupyter-widgets/controls",
            "_view_module_version": "1.5.0",
            "_view_name": "HTMLView",
            "description": "",
            "description_tooltip": null,
            "layout": "IPY_MODEL_62d2bdaaa2694ccc893ef303d06b9906",
            "placeholder": "​",
            "style": "IPY_MODEL_0117da3d157f46ea95424184f443a4a1",
            "value": " 193k/? [00:00&lt;00:00, 1.43MB/s]"
          }
        },
        "1cb3da594cbd45158bd24f2c4a3e4a10": {
          "model_module": "@jupyter-widgets/base",
          "model_name": "LayoutModel",
          "model_module_version": "1.2.0",
          "state": {
            "_model_module": "@jupyter-widgets/base",
            "_model_module_version": "1.2.0",
            "_model_name": "LayoutModel",
            "_view_count": null,
            "_view_module": "@jupyter-widgets/base",
            "_view_module_version": "1.2.0",
            "_view_name": "LayoutView",
            "align_content": null,
            "align_items": null,
            "align_self": null,
            "border": null,
            "bottom": null,
            "display": null,
            "flex": null,
            "flex_flow": null,
            "grid_area": null,
            "grid_auto_columns": null,
            "grid_auto_flow": null,
            "grid_auto_rows": null,
            "grid_column": null,
            "grid_gap": null,
            "grid_row": null,
            "grid_template_areas": null,
            "grid_template_columns": null,
            "grid_template_rows": null,
            "height": null,
            "justify_content": null,
            "justify_items": null,
            "left": null,
            "margin": null,
            "max_height": null,
            "max_width": null,
            "min_height": null,
            "min_width": null,
            "object_fit": null,
            "object_position": null,
            "order": null,
            "overflow": null,
            "overflow_x": null,
            "overflow_y": null,
            "padding": null,
            "right": null,
            "top": null,
            "visibility": null,
            "width": null
          }
        },
        "aef479d1db1b4e379db2beadeb0cf6ae": {
          "model_module": "@jupyter-widgets/base",
          "model_name": "LayoutModel",
          "model_module_version": "1.2.0",
          "state": {
            "_model_module": "@jupyter-widgets/base",
            "_model_module_version": "1.2.0",
            "_model_name": "LayoutModel",
            "_view_count": null,
            "_view_module": "@jupyter-widgets/base",
            "_view_module_version": "1.2.0",
            "_view_name": "LayoutView",
            "align_content": null,
            "align_items": null,
            "align_self": null,
            "border": null,
            "bottom": null,
            "display": null,
            "flex": null,
            "flex_flow": null,
            "grid_area": null,
            "grid_auto_columns": null,
            "grid_auto_flow": null,
            "grid_auto_rows": null,
            "grid_column": null,
            "grid_gap": null,
            "grid_row": null,
            "grid_template_areas": null,
            "grid_template_columns": null,
            "grid_template_rows": null,
            "height": null,
            "justify_content": null,
            "justify_items": null,
            "left": null,
            "margin": null,
            "max_height": null,
            "max_width": null,
            "min_height": null,
            "min_width": null,
            "object_fit": null,
            "object_position": null,
            "order": null,
            "overflow": null,
            "overflow_x": null,
            "overflow_y": null,
            "padding": null,
            "right": null,
            "top": null,
            "visibility": null,
            "width": null
          }
        },
        "024b0ff434cb40e7b359a30ee6c5c24c": {
          "model_module": "@jupyter-widgets/controls",
          "model_name": "DescriptionStyleModel",
          "model_module_version": "1.5.0",
          "state": {
            "_model_module": "@jupyter-widgets/controls",
            "_model_module_version": "1.5.0",
            "_model_name": "DescriptionStyleModel",
            "_view_count": null,
            "_view_module": "@jupyter-widgets/base",
            "_view_module_version": "1.2.0",
            "_view_name": "StyleView",
            "description_width": ""
          }
        },
        "647bbdfa798e406ba32799fd1b16c2a2": {
          "model_module": "@jupyter-widgets/base",
          "model_name": "LayoutModel",
          "model_module_version": "1.2.0",
          "state": {
            "_model_module": "@jupyter-widgets/base",
            "_model_module_version": "1.2.0",
            "_model_name": "LayoutModel",
            "_view_count": null,
            "_view_module": "@jupyter-widgets/base",
            "_view_module_version": "1.2.0",
            "_view_name": "LayoutView",
            "align_content": null,
            "align_items": null,
            "align_self": null,
            "border": null,
            "bottom": null,
            "display": null,
            "flex": null,
            "flex_flow": null,
            "grid_area": null,
            "grid_auto_columns": null,
            "grid_auto_flow": null,
            "grid_auto_rows": null,
            "grid_column": null,
            "grid_gap": null,
            "grid_row": null,
            "grid_template_areas": null,
            "grid_template_columns": null,
            "grid_template_rows": null,
            "height": null,
            "justify_content": null,
            "justify_items": null,
            "left": null,
            "margin": null,
            "max_height": null,
            "max_width": null,
            "min_height": null,
            "min_width": null,
            "object_fit": null,
            "object_position": null,
            "order": null,
            "overflow": null,
            "overflow_x": null,
            "overflow_y": null,
            "padding": null,
            "right": null,
            "top": null,
            "visibility": null,
            "width": null
          }
        },
        "ba1b4f3cb6b24e40bf779d33d68ef347": {
          "model_module": "@jupyter-widgets/controls",
          "model_name": "ProgressStyleModel",
          "model_module_version": "1.5.0",
          "state": {
            "_model_module": "@jupyter-widgets/controls",
            "_model_module_version": "1.5.0",
            "_model_name": "ProgressStyleModel",
            "_view_count": null,
            "_view_module": "@jupyter-widgets/base",
            "_view_module_version": "1.2.0",
            "_view_name": "StyleView",
            "bar_color": null,
            "description_width": ""
          }
        },
        "62d2bdaaa2694ccc893ef303d06b9906": {
          "model_module": "@jupyter-widgets/base",
          "model_name": "LayoutModel",
          "model_module_version": "1.2.0",
          "state": {
            "_model_module": "@jupyter-widgets/base",
            "_model_module_version": "1.2.0",
            "_model_name": "LayoutModel",
            "_view_count": null,
            "_view_module": "@jupyter-widgets/base",
            "_view_module_version": "1.2.0",
            "_view_name": "LayoutView",
            "align_content": null,
            "align_items": null,
            "align_self": null,
            "border": null,
            "bottom": null,
            "display": null,
            "flex": null,
            "flex_flow": null,
            "grid_area": null,
            "grid_auto_columns": null,
            "grid_auto_flow": null,
            "grid_auto_rows": null,
            "grid_column": null,
            "grid_gap": null,
            "grid_row": null,
            "grid_template_areas": null,
            "grid_template_columns": null,
            "grid_template_rows": null,
            "height": null,
            "justify_content": null,
            "justify_items": null,
            "left": null,
            "margin": null,
            "max_height": null,
            "max_width": null,
            "min_height": null,
            "min_width": null,
            "object_fit": null,
            "object_position": null,
            "order": null,
            "overflow": null,
            "overflow_x": null,
            "overflow_y": null,
            "padding": null,
            "right": null,
            "top": null,
            "visibility": null,
            "width": null
          }
        },
        "0117da3d157f46ea95424184f443a4a1": {
          "model_module": "@jupyter-widgets/controls",
          "model_name": "DescriptionStyleModel",
          "model_module_version": "1.5.0",
          "state": {
            "_model_module": "@jupyter-widgets/controls",
            "_model_module_version": "1.5.0",
            "_model_name": "DescriptionStyleModel",
            "_view_count": null,
            "_view_module": "@jupyter-widgets/base",
            "_view_module_version": "1.2.0",
            "_view_name": "StyleView",
            "description_width": ""
          }
        },
        "ed128ef21f6a47e88ee8fd59781ae643": {
          "model_module": "@jupyter-widgets/controls",
          "model_name": "HBoxModel",
          "model_module_version": "1.5.0",
          "state": {
            "_dom_classes": [],
            "_model_module": "@jupyter-widgets/controls",
            "_model_module_version": "1.5.0",
            "_model_name": "HBoxModel",
            "_view_count": null,
            "_view_module": "@jupyter-widgets/controls",
            "_view_module_version": "1.5.0",
            "_view_name": "HBoxView",
            "box_style": "",
            "children": [
              "IPY_MODEL_61bd364f7bbf463c94fd1c48c049dd69",
              "IPY_MODEL_4c3a340949044c7ca8d35de9a5ac318b",
              "IPY_MODEL_5bd46dbb59554cfaa6361d07027617d7"
            ],
            "layout": "IPY_MODEL_46cab7d280834e29a0518b016c9a5a97"
          }
        },
        "61bd364f7bbf463c94fd1c48c049dd69": {
          "model_module": "@jupyter-widgets/controls",
          "model_name": "HTMLModel",
          "model_module_version": "1.5.0",
          "state": {
            "_dom_classes": [],
            "_model_module": "@jupyter-widgets/controls",
            "_model_module_version": "1.5.0",
            "_model_name": "HTMLModel",
            "_view_count": null,
            "_view_module": "@jupyter-widgets/controls",
            "_view_module_version": "1.5.0",
            "_view_name": "HTMLView",
            "description": "",
            "description_tooltip": null,
            "layout": "IPY_MODEL_3c958a2a918c4e6ebb5d227ac65d1660",
            "placeholder": "​",
            "style": "IPY_MODEL_b0a154072686479695c3c76aecf8ed35",
            "value": "Downloading https://huggingface.co/stanfordnlp/stanza-hi/resolve/v1.4.1/models/default.zip: 100%"
          }
        },
        "4c3a340949044c7ca8d35de9a5ac318b": {
          "model_module": "@jupyter-widgets/controls",
          "model_name": "FloatProgressModel",
          "model_module_version": "1.5.0",
          "state": {
            "_dom_classes": [],
            "_model_module": "@jupyter-widgets/controls",
            "_model_module_version": "1.5.0",
            "_model_name": "FloatProgressModel",
            "_view_count": null,
            "_view_module": "@jupyter-widgets/controls",
            "_view_module_version": "1.5.0",
            "_view_name": "ProgressView",
            "bar_style": "success",
            "description": "",
            "description_tooltip": null,
            "layout": "IPY_MODEL_a36f372224f34d3180972f0dca04f190",
            "max": 244781170,
            "min": 0,
            "orientation": "horizontal",
            "style": "IPY_MODEL_5b603eb1954e485a960a6c99c818dde8",
            "value": 244781170
          }
        },
        "5bd46dbb59554cfaa6361d07027617d7": {
          "model_module": "@jupyter-widgets/controls",
          "model_name": "HTMLModel",
          "model_module_version": "1.5.0",
          "state": {
            "_dom_classes": [],
            "_model_module": "@jupyter-widgets/controls",
            "_model_module_version": "1.5.0",
            "_model_name": "HTMLModel",
            "_view_count": null,
            "_view_module": "@jupyter-widgets/controls",
            "_view_module_version": "1.5.0",
            "_view_name": "HTMLView",
            "description": "",
            "description_tooltip": null,
            "layout": "IPY_MODEL_57f6c974b0c54268a51feacc3b4a33cf",
            "placeholder": "​",
            "style": "IPY_MODEL_f1c41e17cfdf424b9761897bfd8a3df4",
            "value": " 245M/245M [00:02&lt;00:00, 125MB/s]"
          }
        },
        "46cab7d280834e29a0518b016c9a5a97": {
          "model_module": "@jupyter-widgets/base",
          "model_name": "LayoutModel",
          "model_module_version": "1.2.0",
          "state": {
            "_model_module": "@jupyter-widgets/base",
            "_model_module_version": "1.2.0",
            "_model_name": "LayoutModel",
            "_view_count": null,
            "_view_module": "@jupyter-widgets/base",
            "_view_module_version": "1.2.0",
            "_view_name": "LayoutView",
            "align_content": null,
            "align_items": null,
            "align_self": null,
            "border": null,
            "bottom": null,
            "display": null,
            "flex": null,
            "flex_flow": null,
            "grid_area": null,
            "grid_auto_columns": null,
            "grid_auto_flow": null,
            "grid_auto_rows": null,
            "grid_column": null,
            "grid_gap": null,
            "grid_row": null,
            "grid_template_areas": null,
            "grid_template_columns": null,
            "grid_template_rows": null,
            "height": null,
            "justify_content": null,
            "justify_items": null,
            "left": null,
            "margin": null,
            "max_height": null,
            "max_width": null,
            "min_height": null,
            "min_width": null,
            "object_fit": null,
            "object_position": null,
            "order": null,
            "overflow": null,
            "overflow_x": null,
            "overflow_y": null,
            "padding": null,
            "right": null,
            "top": null,
            "visibility": null,
            "width": null
          }
        },
        "3c958a2a918c4e6ebb5d227ac65d1660": {
          "model_module": "@jupyter-widgets/base",
          "model_name": "LayoutModel",
          "model_module_version": "1.2.0",
          "state": {
            "_model_module": "@jupyter-widgets/base",
            "_model_module_version": "1.2.0",
            "_model_name": "LayoutModel",
            "_view_count": null,
            "_view_module": "@jupyter-widgets/base",
            "_view_module_version": "1.2.0",
            "_view_name": "LayoutView",
            "align_content": null,
            "align_items": null,
            "align_self": null,
            "border": null,
            "bottom": null,
            "display": null,
            "flex": null,
            "flex_flow": null,
            "grid_area": null,
            "grid_auto_columns": null,
            "grid_auto_flow": null,
            "grid_auto_rows": null,
            "grid_column": null,
            "grid_gap": null,
            "grid_row": null,
            "grid_template_areas": null,
            "grid_template_columns": null,
            "grid_template_rows": null,
            "height": null,
            "justify_content": null,
            "justify_items": null,
            "left": null,
            "margin": null,
            "max_height": null,
            "max_width": null,
            "min_height": null,
            "min_width": null,
            "object_fit": null,
            "object_position": null,
            "order": null,
            "overflow": null,
            "overflow_x": null,
            "overflow_y": null,
            "padding": null,
            "right": null,
            "top": null,
            "visibility": null,
            "width": null
          }
        },
        "b0a154072686479695c3c76aecf8ed35": {
          "model_module": "@jupyter-widgets/controls",
          "model_name": "DescriptionStyleModel",
          "model_module_version": "1.5.0",
          "state": {
            "_model_module": "@jupyter-widgets/controls",
            "_model_module_version": "1.5.0",
            "_model_name": "DescriptionStyleModel",
            "_view_count": null,
            "_view_module": "@jupyter-widgets/base",
            "_view_module_version": "1.2.0",
            "_view_name": "StyleView",
            "description_width": ""
          }
        },
        "a36f372224f34d3180972f0dca04f190": {
          "model_module": "@jupyter-widgets/base",
          "model_name": "LayoutModel",
          "model_module_version": "1.2.0",
          "state": {
            "_model_module": "@jupyter-widgets/base",
            "_model_module_version": "1.2.0",
            "_model_name": "LayoutModel",
            "_view_count": null,
            "_view_module": "@jupyter-widgets/base",
            "_view_module_version": "1.2.0",
            "_view_name": "LayoutView",
            "align_content": null,
            "align_items": null,
            "align_self": null,
            "border": null,
            "bottom": null,
            "display": null,
            "flex": null,
            "flex_flow": null,
            "grid_area": null,
            "grid_auto_columns": null,
            "grid_auto_flow": null,
            "grid_auto_rows": null,
            "grid_column": null,
            "grid_gap": null,
            "grid_row": null,
            "grid_template_areas": null,
            "grid_template_columns": null,
            "grid_template_rows": null,
            "height": null,
            "justify_content": null,
            "justify_items": null,
            "left": null,
            "margin": null,
            "max_height": null,
            "max_width": null,
            "min_height": null,
            "min_width": null,
            "object_fit": null,
            "object_position": null,
            "order": null,
            "overflow": null,
            "overflow_x": null,
            "overflow_y": null,
            "padding": null,
            "right": null,
            "top": null,
            "visibility": null,
            "width": null
          }
        },
        "5b603eb1954e485a960a6c99c818dde8": {
          "model_module": "@jupyter-widgets/controls",
          "model_name": "ProgressStyleModel",
          "model_module_version": "1.5.0",
          "state": {
            "_model_module": "@jupyter-widgets/controls",
            "_model_module_version": "1.5.0",
            "_model_name": "ProgressStyleModel",
            "_view_count": null,
            "_view_module": "@jupyter-widgets/base",
            "_view_module_version": "1.2.0",
            "_view_name": "StyleView",
            "bar_color": null,
            "description_width": ""
          }
        },
        "57f6c974b0c54268a51feacc3b4a33cf": {
          "model_module": "@jupyter-widgets/base",
          "model_name": "LayoutModel",
          "model_module_version": "1.2.0",
          "state": {
            "_model_module": "@jupyter-widgets/base",
            "_model_module_version": "1.2.0",
            "_model_name": "LayoutModel",
            "_view_count": null,
            "_view_module": "@jupyter-widgets/base",
            "_view_module_version": "1.2.0",
            "_view_name": "LayoutView",
            "align_content": null,
            "align_items": null,
            "align_self": null,
            "border": null,
            "bottom": null,
            "display": null,
            "flex": null,
            "flex_flow": null,
            "grid_area": null,
            "grid_auto_columns": null,
            "grid_auto_flow": null,
            "grid_auto_rows": null,
            "grid_column": null,
            "grid_gap": null,
            "grid_row": null,
            "grid_template_areas": null,
            "grid_template_columns": null,
            "grid_template_rows": null,
            "height": null,
            "justify_content": null,
            "justify_items": null,
            "left": null,
            "margin": null,
            "max_height": null,
            "max_width": null,
            "min_height": null,
            "min_width": null,
            "object_fit": null,
            "object_position": null,
            "order": null,
            "overflow": null,
            "overflow_x": null,
            "overflow_y": null,
            "padding": null,
            "right": null,
            "top": null,
            "visibility": null,
            "width": null
          }
        },
        "f1c41e17cfdf424b9761897bfd8a3df4": {
          "model_module": "@jupyter-widgets/controls",
          "model_name": "DescriptionStyleModel",
          "model_module_version": "1.5.0",
          "state": {
            "_model_module": "@jupyter-widgets/controls",
            "_model_module_version": "1.5.0",
            "_model_name": "DescriptionStyleModel",
            "_view_count": null,
            "_view_module": "@jupyter-widgets/base",
            "_view_module_version": "1.2.0",
            "_view_name": "StyleView",
            "description_width": ""
          }
        },
        "759a3de320254be19f4b2ce51cf88e3b": {
          "model_module": "@jupyter-widgets/controls",
          "model_name": "HBoxModel",
          "model_module_version": "1.5.0",
          "state": {
            "_dom_classes": [],
            "_model_module": "@jupyter-widgets/controls",
            "_model_module_version": "1.5.0",
            "_model_name": "HBoxModel",
            "_view_count": null,
            "_view_module": "@jupyter-widgets/controls",
            "_view_module_version": "1.5.0",
            "_view_name": "HBoxView",
            "box_style": "",
            "children": [
              "IPY_MODEL_18ba57383dd343b5b7bfe89ec000d6a7",
              "IPY_MODEL_5b6ca7cfa4a242a4899740d99710eb37",
              "IPY_MODEL_4b3efe1111a14902a66fe03e60347857"
            ],
            "layout": "IPY_MODEL_0653dcf6cfb7462cab09436c26b610a9"
          }
        },
        "18ba57383dd343b5b7bfe89ec000d6a7": {
          "model_module": "@jupyter-widgets/controls",
          "model_name": "HTMLModel",
          "model_module_version": "1.5.0",
          "state": {
            "_dom_classes": [],
            "_model_module": "@jupyter-widgets/controls",
            "_model_module_version": "1.5.0",
            "_model_name": "HTMLModel",
            "_view_count": null,
            "_view_module": "@jupyter-widgets/controls",
            "_view_module_version": "1.5.0",
            "_view_name": "HTMLView",
            "description": "",
            "description_tooltip": null,
            "layout": "IPY_MODEL_f41fc059b0674c1b8a3b685ecd2abf56",
            "placeholder": "​",
            "style": "IPY_MODEL_beb5c3933d5549d492fdeada0e4dbe73",
            "value": "Downloading https://raw.githubusercontent.com/stanfordnlp/stanza-resources/main/resources_1.4.1.json: "
          }
        },
        "5b6ca7cfa4a242a4899740d99710eb37": {
          "model_module": "@jupyter-widgets/controls",
          "model_name": "FloatProgressModel",
          "model_module_version": "1.5.0",
          "state": {
            "_dom_classes": [],
            "_model_module": "@jupyter-widgets/controls",
            "_model_module_version": "1.5.0",
            "_model_name": "FloatProgressModel",
            "_view_count": null,
            "_view_module": "@jupyter-widgets/controls",
            "_view_module_version": "1.5.0",
            "_view_name": "ProgressView",
            "bar_style": "success",
            "description": "",
            "description_tooltip": null,
            "layout": "IPY_MODEL_b72f77b9dd7c466ea2ec8ce2b3e41af4",
            "max": 28918,
            "min": 0,
            "orientation": "horizontal",
            "style": "IPY_MODEL_5b51674e257e41dbb7e1bed3565435e8",
            "value": 28918
          }
        },
        "4b3efe1111a14902a66fe03e60347857": {
          "model_module": "@jupyter-widgets/controls",
          "model_name": "HTMLModel",
          "model_module_version": "1.5.0",
          "state": {
            "_dom_classes": [],
            "_model_module": "@jupyter-widgets/controls",
            "_model_module_version": "1.5.0",
            "_model_name": "HTMLModel",
            "_view_count": null,
            "_view_module": "@jupyter-widgets/controls",
            "_view_module_version": "1.5.0",
            "_view_name": "HTMLView",
            "description": "",
            "description_tooltip": null,
            "layout": "IPY_MODEL_bb3c487b05a249eaa3d55c077e3d78ab",
            "placeholder": "​",
            "style": "IPY_MODEL_cf6556a3e8bb4ae39517f86e64084b98",
            "value": " 193k/? [00:00&lt;00:00, 1.63MB/s]"
          }
        },
        "0653dcf6cfb7462cab09436c26b610a9": {
          "model_module": "@jupyter-widgets/base",
          "model_name": "LayoutModel",
          "model_module_version": "1.2.0",
          "state": {
            "_model_module": "@jupyter-widgets/base",
            "_model_module_version": "1.2.0",
            "_model_name": "LayoutModel",
            "_view_count": null,
            "_view_module": "@jupyter-widgets/base",
            "_view_module_version": "1.2.0",
            "_view_name": "LayoutView",
            "align_content": null,
            "align_items": null,
            "align_self": null,
            "border": null,
            "bottom": null,
            "display": null,
            "flex": null,
            "flex_flow": null,
            "grid_area": null,
            "grid_auto_columns": null,
            "grid_auto_flow": null,
            "grid_auto_rows": null,
            "grid_column": null,
            "grid_gap": null,
            "grid_row": null,
            "grid_template_areas": null,
            "grid_template_columns": null,
            "grid_template_rows": null,
            "height": null,
            "justify_content": null,
            "justify_items": null,
            "left": null,
            "margin": null,
            "max_height": null,
            "max_width": null,
            "min_height": null,
            "min_width": null,
            "object_fit": null,
            "object_position": null,
            "order": null,
            "overflow": null,
            "overflow_x": null,
            "overflow_y": null,
            "padding": null,
            "right": null,
            "top": null,
            "visibility": null,
            "width": null
          }
        },
        "f41fc059b0674c1b8a3b685ecd2abf56": {
          "model_module": "@jupyter-widgets/base",
          "model_name": "LayoutModel",
          "model_module_version": "1.2.0",
          "state": {
            "_model_module": "@jupyter-widgets/base",
            "_model_module_version": "1.2.0",
            "_model_name": "LayoutModel",
            "_view_count": null,
            "_view_module": "@jupyter-widgets/base",
            "_view_module_version": "1.2.0",
            "_view_name": "LayoutView",
            "align_content": null,
            "align_items": null,
            "align_self": null,
            "border": null,
            "bottom": null,
            "display": null,
            "flex": null,
            "flex_flow": null,
            "grid_area": null,
            "grid_auto_columns": null,
            "grid_auto_flow": null,
            "grid_auto_rows": null,
            "grid_column": null,
            "grid_gap": null,
            "grid_row": null,
            "grid_template_areas": null,
            "grid_template_columns": null,
            "grid_template_rows": null,
            "height": null,
            "justify_content": null,
            "justify_items": null,
            "left": null,
            "margin": null,
            "max_height": null,
            "max_width": null,
            "min_height": null,
            "min_width": null,
            "object_fit": null,
            "object_position": null,
            "order": null,
            "overflow": null,
            "overflow_x": null,
            "overflow_y": null,
            "padding": null,
            "right": null,
            "top": null,
            "visibility": null,
            "width": null
          }
        },
        "beb5c3933d5549d492fdeada0e4dbe73": {
          "model_module": "@jupyter-widgets/controls",
          "model_name": "DescriptionStyleModel",
          "model_module_version": "1.5.0",
          "state": {
            "_model_module": "@jupyter-widgets/controls",
            "_model_module_version": "1.5.0",
            "_model_name": "DescriptionStyleModel",
            "_view_count": null,
            "_view_module": "@jupyter-widgets/base",
            "_view_module_version": "1.2.0",
            "_view_name": "StyleView",
            "description_width": ""
          }
        },
        "b72f77b9dd7c466ea2ec8ce2b3e41af4": {
          "model_module": "@jupyter-widgets/base",
          "model_name": "LayoutModel",
          "model_module_version": "1.2.0",
          "state": {
            "_model_module": "@jupyter-widgets/base",
            "_model_module_version": "1.2.0",
            "_model_name": "LayoutModel",
            "_view_count": null,
            "_view_module": "@jupyter-widgets/base",
            "_view_module_version": "1.2.0",
            "_view_name": "LayoutView",
            "align_content": null,
            "align_items": null,
            "align_self": null,
            "border": null,
            "bottom": null,
            "display": null,
            "flex": null,
            "flex_flow": null,
            "grid_area": null,
            "grid_auto_columns": null,
            "grid_auto_flow": null,
            "grid_auto_rows": null,
            "grid_column": null,
            "grid_gap": null,
            "grid_row": null,
            "grid_template_areas": null,
            "grid_template_columns": null,
            "grid_template_rows": null,
            "height": null,
            "justify_content": null,
            "justify_items": null,
            "left": null,
            "margin": null,
            "max_height": null,
            "max_width": null,
            "min_height": null,
            "min_width": null,
            "object_fit": null,
            "object_position": null,
            "order": null,
            "overflow": null,
            "overflow_x": null,
            "overflow_y": null,
            "padding": null,
            "right": null,
            "top": null,
            "visibility": null,
            "width": null
          }
        },
        "5b51674e257e41dbb7e1bed3565435e8": {
          "model_module": "@jupyter-widgets/controls",
          "model_name": "ProgressStyleModel",
          "model_module_version": "1.5.0",
          "state": {
            "_model_module": "@jupyter-widgets/controls",
            "_model_module_version": "1.5.0",
            "_model_name": "ProgressStyleModel",
            "_view_count": null,
            "_view_module": "@jupyter-widgets/base",
            "_view_module_version": "1.2.0",
            "_view_name": "StyleView",
            "bar_color": null,
            "description_width": ""
          }
        },
        "bb3c487b05a249eaa3d55c077e3d78ab": {
          "model_module": "@jupyter-widgets/base",
          "model_name": "LayoutModel",
          "model_module_version": "1.2.0",
          "state": {
            "_model_module": "@jupyter-widgets/base",
            "_model_module_version": "1.2.0",
            "_model_name": "LayoutModel",
            "_view_count": null,
            "_view_module": "@jupyter-widgets/base",
            "_view_module_version": "1.2.0",
            "_view_name": "LayoutView",
            "align_content": null,
            "align_items": null,
            "align_self": null,
            "border": null,
            "bottom": null,
            "display": null,
            "flex": null,
            "flex_flow": null,
            "grid_area": null,
            "grid_auto_columns": null,
            "grid_auto_flow": null,
            "grid_auto_rows": null,
            "grid_column": null,
            "grid_gap": null,
            "grid_row": null,
            "grid_template_areas": null,
            "grid_template_columns": null,
            "grid_template_rows": null,
            "height": null,
            "justify_content": null,
            "justify_items": null,
            "left": null,
            "margin": null,
            "max_height": null,
            "max_width": null,
            "min_height": null,
            "min_width": null,
            "object_fit": null,
            "object_position": null,
            "order": null,
            "overflow": null,
            "overflow_x": null,
            "overflow_y": null,
            "padding": null,
            "right": null,
            "top": null,
            "visibility": null,
            "width": null
          }
        },
        "cf6556a3e8bb4ae39517f86e64084b98": {
          "model_module": "@jupyter-widgets/controls",
          "model_name": "DescriptionStyleModel",
          "model_module_version": "1.5.0",
          "state": {
            "_model_module": "@jupyter-widgets/controls",
            "_model_module_version": "1.5.0",
            "_model_name": "DescriptionStyleModel",
            "_view_count": null,
            "_view_module": "@jupyter-widgets/base",
            "_view_module_version": "1.2.0",
            "_view_name": "StyleView",
            "description_width": ""
          }
        }
      }
    }
  },
  "cells": [
    {
      "cell_type": "markdown",
      "metadata": {
        "id": "view-in-github",
        "colab_type": "text"
      },
      "source": [
        "<a href=\"https://colab.research.google.com/github/teju1001/textgen/blob/main/Model.ipynb\" target=\"_parent\"><img src=\"https://colab.research.google.com/assets/colab-badge.svg\" alt=\"Open In Colab\"/></a>"
      ]
    },
    {
      "cell_type": "code",
      "source": [
        "import nltk\n",
        "nltk.download('indian')\n",
        "nltk.download('stopwords')\n",
        "nltk.download('punkt')\n",
        "\n",
        "! pip install stanza\n",
        "import stanza\n",
        "stanza.download('hi')\n",
        "nlp = stanza.Pipeline('hi')"
      ],
      "metadata": {
        "colab": {
          "base_uri": "https://localhost:8080/",
          "height": 1000,
          "referenced_widgets": [
            "5fa129b382794de8b612dfc839d83308",
            "2911f2caccd24aa3b7d128669a4baf8c",
            "18f97899b0d5422eab2816908e21cfd8",
            "0ca4f8e63ffb46f7b038b52fb7e0935e",
            "1cb3da594cbd45158bd24f2c4a3e4a10",
            "aef479d1db1b4e379db2beadeb0cf6ae",
            "024b0ff434cb40e7b359a30ee6c5c24c",
            "647bbdfa798e406ba32799fd1b16c2a2",
            "ba1b4f3cb6b24e40bf779d33d68ef347",
            "62d2bdaaa2694ccc893ef303d06b9906",
            "0117da3d157f46ea95424184f443a4a1",
            "ed128ef21f6a47e88ee8fd59781ae643",
            "61bd364f7bbf463c94fd1c48c049dd69",
            "4c3a340949044c7ca8d35de9a5ac318b",
            "5bd46dbb59554cfaa6361d07027617d7",
            "46cab7d280834e29a0518b016c9a5a97",
            "3c958a2a918c4e6ebb5d227ac65d1660",
            "b0a154072686479695c3c76aecf8ed35",
            "a36f372224f34d3180972f0dca04f190",
            "5b603eb1954e485a960a6c99c818dde8",
            "57f6c974b0c54268a51feacc3b4a33cf",
            "f1c41e17cfdf424b9761897bfd8a3df4",
            "759a3de320254be19f4b2ce51cf88e3b",
            "18ba57383dd343b5b7bfe89ec000d6a7",
            "5b6ca7cfa4a242a4899740d99710eb37",
            "4b3efe1111a14902a66fe03e60347857",
            "0653dcf6cfb7462cab09436c26b610a9",
            "f41fc059b0674c1b8a3b685ecd2abf56",
            "beb5c3933d5549d492fdeada0e4dbe73",
            "b72f77b9dd7c466ea2ec8ce2b3e41af4",
            "5b51674e257e41dbb7e1bed3565435e8",
            "bb3c487b05a249eaa3d55c077e3d78ab",
            "cf6556a3e8bb4ae39517f86e64084b98"
          ]
        },
        "id": "WtXDIfu6I3-g",
        "outputId": "83dd9e48-c792-4bf8-de24-b7dfbc72ac60"
      },
      "execution_count": null,
      "outputs": [
        {
          "output_type": "stream",
          "name": "stderr",
          "text": [
            "[nltk_data] Downloading package indian to /root/nltk_data...\n",
            "[nltk_data]   Unzipping corpora/indian.zip.\n",
            "[nltk_data] Downloading package stopwords to /root/nltk_data...\n",
            "[nltk_data]   Unzipping corpora/stopwords.zip.\n",
            "[nltk_data] Downloading package punkt to /root/nltk_data...\n",
            "[nltk_data]   Unzipping tokenizers/punkt.zip.\n"
          ]
        },
        {
          "output_type": "stream",
          "name": "stdout",
          "text": [
            "Looking in indexes: https://pypi.org/simple, https://us-python.pkg.dev/colab-wheels/public/simple/\n",
            "Collecting stanza\n",
            "  Downloading stanza-1.4.2-py3-none-any.whl (691 kB)\n",
            "\u001b[K     |████████████████████████████████| 691 kB 5.5 MB/s \n",
            "\u001b[?25hRequirement already satisfied: protobuf in /usr/local/lib/python3.7/dist-packages (from stanza) (3.19.6)\n",
            "Requirement already satisfied: requests in /usr/local/lib/python3.7/dist-packages (from stanza) (2.23.0)\n",
            "Requirement already satisfied: torch>=1.3.0 in /usr/local/lib/python3.7/dist-packages (from stanza) (1.12.1+cu113)\n",
            "Requirement already satisfied: six in /usr/local/lib/python3.7/dist-packages (from stanza) (1.15.0)\n",
            "Requirement already satisfied: tqdm in /usr/local/lib/python3.7/dist-packages (from stanza) (4.64.1)\n",
            "Collecting emoji\n",
            "  Downloading emoji-2.2.0.tar.gz (240 kB)\n",
            "\u001b[K     |████████████████████████████████| 240 kB 52.8 MB/s \n",
            "\u001b[?25hRequirement already satisfied: numpy in /usr/local/lib/python3.7/dist-packages (from stanza) (1.21.6)\n",
            "Requirement already satisfied: typing-extensions in /usr/local/lib/python3.7/dist-packages (from torch>=1.3.0->stanza) (4.1.1)\n",
            "Requirement already satisfied: urllib3!=1.25.0,!=1.25.1,<1.26,>=1.21.1 in /usr/local/lib/python3.7/dist-packages (from requests->stanza) (1.24.3)\n",
            "Requirement already satisfied: certifi>=2017.4.17 in /usr/local/lib/python3.7/dist-packages (from requests->stanza) (2022.9.24)\n",
            "Requirement already satisfied: chardet<4,>=3.0.2 in /usr/local/lib/python3.7/dist-packages (from requests->stanza) (3.0.4)\n",
            "Requirement already satisfied: idna<3,>=2.5 in /usr/local/lib/python3.7/dist-packages (from requests->stanza) (2.10)\n",
            "Building wheels for collected packages: emoji\n",
            "  Building wheel for emoji (setup.py) ... \u001b[?25l\u001b[?25hdone\n",
            "  Created wheel for emoji: filename=emoji-2.2.0-py3-none-any.whl size=234927 sha256=0d8ffa6dd579ab6c11ed88f1f883d8d6258776db878224e109cda70d683ca42d\n",
            "  Stored in directory: /root/.cache/pip/wheels/f3/e3/f2/1de1c2e3ed742e1df73e0f15d58864e50c7e64f607b548d6cf\n",
            "Successfully built emoji\n",
            "Installing collected packages: emoji, stanza\n",
            "Successfully installed emoji-2.2.0 stanza-1.4.2\n"
          ]
        },
        {
          "output_type": "display_data",
          "data": {
            "text/plain": [
              "Downloading https://raw.githubusercontent.com/stanfordnlp/stanza-resources/main/resources_1.4.1.json:   0%|   …"
            ],
            "application/vnd.jupyter.widget-view+json": {
              "version_major": 2,
              "version_minor": 0,
              "model_id": "5fa129b382794de8b612dfc839d83308"
            }
          },
          "metadata": {}
        },
        {
          "output_type": "stream",
          "name": "stderr",
          "text": [
            "INFO:stanza:Downloading default packages for language: hi (Hindi) ...\n"
          ]
        },
        {
          "output_type": "display_data",
          "data": {
            "text/plain": [
              "Downloading https://huggingface.co/stanfordnlp/stanza-hi/resolve/v1.4.1/models/default.zip:   0%|          | 0…"
            ],
            "application/vnd.jupyter.widget-view+json": {
              "version_major": 2,
              "version_minor": 0,
              "model_id": "ed128ef21f6a47e88ee8fd59781ae643"
            }
          },
          "metadata": {}
        },
        {
          "output_type": "stream",
          "name": "stderr",
          "text": [
            "INFO:stanza:Finished downloading models and saved to /root/stanza_resources.\n",
            "INFO:stanza:Checking for updates to resources.json in case models have been updated.  Note: this behavior can be turned off with download_method=None or download_method=DownloadMethod.REUSE_RESOURCES\n"
          ]
        },
        {
          "output_type": "display_data",
          "data": {
            "text/plain": [
              "Downloading https://raw.githubusercontent.com/stanfordnlp/stanza-resources/main/resources_1.4.1.json:   0%|   …"
            ],
            "application/vnd.jupyter.widget-view+json": {
              "version_major": 2,
              "version_minor": 0,
              "model_id": "759a3de320254be19f4b2ce51cf88e3b"
            }
          },
          "metadata": {}
        },
        {
          "output_type": "stream",
          "name": "stderr",
          "text": [
            "INFO:stanza:Loading these models for language: hi (Hindi):\n",
            "=======================\n",
            "| Processor | Package |\n",
            "-----------------------\n",
            "| tokenize  | hdtb    |\n",
            "| pos       | hdtb    |\n",
            "| lemma     | hdtb    |\n",
            "| depparse  | hdtb    |\n",
            "=======================\n",
            "\n",
            "INFO:stanza:Use device: cpu\n",
            "INFO:stanza:Loading: tokenize\n",
            "INFO:stanza:Loading: pos\n",
            "INFO:stanza:Loading: lemma\n",
            "INFO:stanza:Loading: depparse\n",
            "INFO:stanza:Done loading processors!\n"
          ]
        }
      ]
    },
    {
      "cell_type": "markdown",
      "source": [
        "# ***DATA***"
      ],
      "metadata": {
        "id": "X1RYzERkSSbA"
      }
    },
    {
      "cell_type": "code",
      "execution_count": null,
      "metadata": {
        "id": "HJ24BbDAB0x3"
      },
      "outputs": [],
      "source": [
        "f1 = open(\"/content/drive/MyDrive/dataset/hdataset.txt\",encoding=\"utf8\")\n",
        "text = f1.read()\n",
        "f1.close()"
      ]
    },
    {
      "cell_type": "code",
      "source": [
        "text[:200]"
      ],
      "metadata": {
        "colab": {
          "base_uri": "https://localhost:8080/",
          "height": 53
        },
        "id": "dSAcoTddIxXx",
        "outputId": "cd6316e9-f712-4ba1-a51d-85d584a9e3e0"
      },
      "execution_count": null,
      "outputs": [
        {
          "output_type": "execute_result",
          "data": {
            "text/plain": [
              "'अगर भारत के संदर्भ में बात की जाए तो भारत एक विविध संस्कृति वाला देश है, एक तथ्य कि यहाँ यह बात इसके लोगों, संस्कृति और मौसम में भी प्रमुखता से दिखाई देती है। हिमालय की अनश्वर बर्फ से लेकर दक्षिण के द'"
            ],
            "application/vnd.google.colaboratory.intrinsic+json": {
              "type": "string"
            }
          },
          "metadata": {},
          "execution_count": 20
        }
      ]
    },
    {
      "cell_type": "code",
      "source": [
        "import pandas as pd\n",
        "import matplotlib.pyplot as plt\n",
        "from wordcloud import WordCloud\n",
        "from nltk.corpus import stopwords\n",
        "\n",
        "font=\"/content/drive/MyDrive/dataset/gargi.ttf\"\n",
        "wordcloud = WordCloud(\n",
        "    width=400,\n",
        "    height=300,\n",
        "    max_font_size=50, \n",
        "    max_words=1000,\n",
        "    stopwords=stopwordshin,\n",
        "    background_color=\"white\",\n",
        "    regexp=r\"[\\u0900-\\u097F]+\", \n",
        "    font_path=font\n",
        ").generate(text)\n",
        "plt.figure(figsize = (8, 8), facecolor = None)\n",
        "plt.imshow(wordcloud, interpolation=\"bilinear\")\n",
        "plt.axis(\"off\")\n",
        "plt.show()\n"
      ],
      "metadata": {
        "colab": {
          "base_uri": "https://localhost:8080/",
          "height": 366
        },
        "id": "hPWvyUrxYOld",
        "outputId": "2781b1c0-802a-4887-e56a-e0b056ae9028"
      },
      "execution_count": null,
      "outputs": [
        {
          "output_type": "display_data",
          "data": {
            "text/plain": [
              "<Figure size 576x576 with 1 Axes>"
            ],
            "image/png": "[encoded data removed]"
          },
          "metadata": {
            "needs_background": "light"
          }
        }
      ]
    },
    {
      "cell_type": "code",
      "source": [
        "import matplotlib.pyplot as plt\n",
        "import pandas as pd"
      ],
      "metadata": {
        "id": "60SxSImCZgB3"
      },
      "execution_count": null,
      "outputs": []
    },
    {
      "cell_type": "code",
      "source": [
        "f1 = open(\"/content/drive/MyDrive/dataset/final_stopwords.txt\",encoding=\"utf8\")\n",
        "sw = f1.read()\n",
        "f1.close()\n",
        "stopwordshin=sw.split(\"\\n\")\n",
        "print(stopwordshin,len(stopwordshin),sep=\"\\n\")"
      ],
      "metadata": {
        "colab": {
          "base_uri": "https://localhost:8080/"
        },
        "id": "vMvFo-JncieD",
        "outputId": "71eb110f-dfee-4ebe-cff6-8609010fe7fe"
      },
      "execution_count": null,
      "outputs": [
        {
          "output_type": "stream",
          "name": "stdout",
          "text": [
            "['मैं', 'मुझको', 'मेरा', 'अपने आप को', 'हमने', 'हमारा', 'अपना', 'हम', 'आप', 'आपका', 'तुम्हारा', 'अपने आप', 'स्वयं', 'वह', 'इसे', 'उसके', 'खुद को', 'कि वह', 'उसकी', 'उसका', 'खुद ही', 'यह', 'इसके', 'उन्होने', 'अपने', 'क्या', 'जो', 'किसे', 'किसको', 'कि', 'ये', 'हूँ', 'होता है', 'रहे', 'थी', 'थे', 'होना', 'गया', 'किया जा रहा है', 'किया है', 'है', 'पडा', 'होने', 'करना', 'करता है', 'किया', 'रही', 'एक', 'लेकिन', 'अगर', 'या', 'क्यूंकि', 'जैसा', 'जब तक', 'जबकि', 'की', 'पर', 'द्वारा', 'के लिए', 'साथ', 'के बारे में', 'खिलाफ', 'बीच', 'में', 'के माध्यम से', 'दौरान', 'से पहले', 'के बाद', 'ऊपर', 'नीचे', 'को', 'से', 'तक', 'से नीचे', 'करने में', 'निकल', 'बंद', 'से अधिक', 'तहत', 'दुबारा', 'आगे', 'फिर', 'एक बार', 'यहाँ', 'वहाँ', 'कब', 'कहाँ', 'क्यों', 'कैसे', 'सारे', 'किसी', 'दोनो', 'प्रत्येक', 'ज्यादा', 'अधिकांश', 'अन्य', 'में कुछ', 'ऐसा', 'में कोई', 'मात्र', 'खुद', 'समान', 'इसलिए', 'बहुत', 'सकता', 'जायेंगे', 'जरा', 'चाहिए', 'अभी', 'और', 'कर दिया', 'रखें', 'का', 'हैं', 'इस', 'होता', 'करने', 'ने', 'बनी', 'तो', 'ही', 'हो', 'इसका', 'था', 'हुआ', 'वाले', 'बाद', 'लिए', 'सकते', 'इसमें', 'दो', 'वे', 'करते', 'कहा', 'वर्ग', 'कई', 'करें', 'होती', 'अपनी', 'उनके', 'यदि', 'हुई', 'जा', 'कहते', 'जब', 'होते', 'कोई', 'हुए', 'व', 'जैसे', 'सभी', 'करता', 'उनकी', 'तरह', 'उस', 'आदि', 'इसकी', 'उनका', 'इसी', 'पे', 'तथा', 'भी', 'परंतु', 'इन', 'कम', 'दूर', 'पूरे', 'गये', 'तुम', 'मै', 'यहां', 'हुये', 'कभी', 'अथवा', 'गयी', 'प्रति', 'जाता', 'इन्हें', 'गई', 'अब', 'जिसमें', 'लिया', 'बड़ा', 'जाती', 'तब', 'उसे', 'जाते', 'लेकर', 'बड़े', 'दूसरे', 'जाने', 'बाहर', 'स्थान', 'उन्हें ', 'गए', 'ऐसे', 'जिससे', 'समय', 'दोनों', 'किए', 'रहती', 'इनके', 'इनका', 'इनकी', 'सकती', 'आज', 'कल', 'जिन्हें', 'जिन्हों', 'तिन्हें', 'तिन्हों', 'किन्हों', 'किन्हें', 'इत्यादि', 'इन्हों', 'उन्हों', 'बिलकुल', 'निहायत', 'इन्हीं', 'उन्हीं', 'जितना', 'दूसरा', 'कितना', 'साबुत', 'वग़ैरह', 'कौनसा', 'लिये', 'दिया', 'जिसे', 'तिसे', 'काफ़ी', 'पहले', 'बाला', 'मानो', 'अंदर', 'भीतर', 'पूरा', 'सारा', 'उनको', 'वहीं', 'जहाँ', 'जीधर', '\\ufeffके', 'एवं', 'कुछ', 'कुल', 'रहा', 'जिस', 'जिन', 'तिस', 'तिन', 'कौन', 'किस', 'संग', 'यही', 'बही', 'उसी', 'मगर', 'कर', 'मे', 'एस', 'उन', 'सो', 'अत', '']\n",
            "265\n"
          ]
        }
      ]
    },
    {
      "cell_type": "markdown",
      "source": [
        "# ***POS TAGGING***"
      ],
      "metadata": {
        "id": "_1vgoKxLR_iW"
      }
    },
    {
      "cell_type": "code",
      "source": [
        "import nltk\n",
        "import re\n",
        "from nltk.tag import tnt\n",
        "from nltk.corpus import indian\n",
        "\n",
        "model_path = \"/content/drive/MyDrive/dataset/hindi.pos\" #Copy hindi.pos from NLTK corpus\n",
        "\n",
        "def train_hindi_model(model_path):\n",
        "    train_data = indian.tagged_sents(model_path)\n",
        "    tnt_pos_tagger = tnt.TnT()\n",
        "    tnt_pos_tagger.train(train_data)\n",
        "    return tnt_pos_tagger\n",
        "\n",
        "def tag_words(model,text):\n",
        "    tagged = (model.tag(nltk.word_tokenize(text)))\n",
        "    return tagged\n",
        "\n",
        "\n",
        "def handle_UNK(tagged_words):\n",
        "  result_list = []\n",
        "  for nep_word, tag in tagged_words:\n",
        "    if tag == \"Unk\":\n",
        "      x= nlp(nep_word)\n",
        "      y=(x.to_dict()[0][0]['upos'])\n",
        "      result_list.append([nep_word,y])\n",
        "    else:\n",
        "      result_list.append([nep_word,tag])\n",
        "  return (result_list)\n",
        "\n",
        "posmodel = train_hindi_model(model_path)"
      ],
      "metadata": {
        "id": "HccenJpV7RNP"
      },
      "execution_count": null,
      "outputs": []
    },
    {
      "cell_type": "code",
      "source": [
        "t1=\"अगर भारत के संदर्भ में बात की जाए तो भारत एक विविध संस्कृति वाला देश है\"\n",
        "tagged_words= tag_words(posmodel,t1)\n",
        "newtag=handle_UNK(tagged_words)\n",
        "print(newtag)"
      ],
      "metadata": {
        "colab": {
          "base_uri": "https://localhost:8080/"
        },
        "id": "Mv3WPfQrRPuj",
        "outputId": "034db7f6-86bd-4c34-9d99-286e03869232"
      },
      "execution_count": null,
      "outputs": [
        {
          "output_type": "stream",
          "name": "stdout",
          "text": [
            "[['अगर', 'SCONJ'], ['भारत', 'NNP'], ['के', 'PREP'], ['संदर्भ', 'NOUN'], ['में', 'PREP'], ['बात', 'NN'], ['की', 'VFM'], ['जाए', 'VAUX'], ['तो', 'CC'], ['भारत', 'NNP'], ['एक', 'QFNUM'], ['विविध', 'ADJ'], ['संस्कृति', 'NOUN'], ['वाला', 'NNP'], ['देश', 'NN'], ['है', 'VFM']]\n"
          ]
        }
      ]
    },
    {
      "cell_type": "markdown",
      "source": [
        "# ***PREPROCESSING***"
      ],
      "metadata": {
        "id": "_NCmcnd7SvRK"
      }
    },
    {
      "cell_type": "code",
      "source": [
        "def mytokenizer(ttext):\n",
        "  tsl = re.sub('([!?.,:।])', \"$\", ttext)\n",
        "  newtsl=tsl.split('$')\n",
        "  return newtsl"
      ],
      "metadata": {
        "id": "C69SUvr1XCql"
      },
      "execution_count": null,
      "outputs": []
    },
    {
      "cell_type": "code",
      "source": [
        "sentences = mytokenizer(text)\n",
        "print(*sentences[:5],len(sentences),sep=\"\\n\")"
      ],
      "metadata": {
        "colab": {
          "base_uri": "https://localhost:8080/"
        },
        "id": "duw8Djpmep6V",
        "outputId": "7bb4905a-2f4f-41a7-d558-fda61d4a6044"
      },
      "execution_count": null,
      "outputs": [
        {
          "output_type": "stream",
          "name": "stdout",
          "text": [
            "अगर भारत के संदर्भ में बात की जाए तो भारत एक विविध संस्कृति वाला देश है\n",
            " एक तथ्य कि यहाँ यह बात इसके लोगों\n",
            " संस्कृति और मौसम में भी प्रमुखता से दिखाई देती है\n",
            " हिमालय की अनश्वर बर्फ से लेकर दक्षिण के दूर दराज में खेतों तक\n",
            " पश्चिम के रेगिस्तान से पूर्व के नम डेल्टा तक\n",
            "529\n"
          ]
        }
      ]
    },
    {
      "cell_type": "code",
      "source": [
        "import re\n",
        "def text_cleaner(texts):\n",
        "    newString = texts\n",
        "    # remove punctuations, english words and numbers\n",
        "    newString = re.sub(\"([-%!#?,.:'‘’।])\", \" \", newString)\n",
        "    newString = re.sub(\"[a-zA-Z]\", \" \", newString)\n",
        "    newString = re.sub(\"[0-9]\", \" \", newString)\n",
        "    long_words=[]\n",
        "    # remove single characters\n",
        "    for i in newString.split():\n",
        "        if len(i)>=1:                  \n",
        "            long_words.append(i)\n",
        "    return (\" \".join(long_words)).strip()\n",
        "\n",
        "for i in range(len(sentences)):\n",
        "    sentences[i]=text_cleaner(sentences[i])\n",
        "cleansent=[]\n",
        "for x in range(len(sentences)):\n",
        "  if len(sentences[x].split(\" \"))>3:\n",
        "    cleansent.append(sentences[x])"
      ],
      "metadata": {
        "id": "taSrA88BmRr5"
      },
      "execution_count": null,
      "outputs": []
    },
    {
      "cell_type": "code",
      "source": [
        "cleansent[:5]"
      ],
      "metadata": {
        "colab": {
          "base_uri": "https://localhost:8080/"
        },
        "id": "pDMNV15jm5Hq",
        "outputId": "77b507da-4d84-48ed-fc87-b7e98c38ddbe"
      },
      "execution_count": null,
      "outputs": [
        {
          "output_type": "execute_result",
          "data": {
            "text/plain": [
              "['अगर भारत के संदर्भ में बात की जाए तो भारत एक विविध संस्कृति वाला देश है',\n",
              " 'एक तथ्य कि यहाँ यह बात इसके लोगों',\n",
              " 'संस्कृति और मौसम में भी प्रमुखता से दिखाई देती है',\n",
              " 'हिमालय की अनश्वर बर्फ से लेकर दक्षिण के दूर दराज में खेतों तक',\n",
              " 'पश्चिम के रेगिस्तान से पूर्व के नम डेल्टा तक']"
            ]
          },
          "metadata": {},
          "execution_count": 77
        }
      ]
    },
    {
      "cell_type": "code",
      "source": [
        "def poslist(x):\n",
        "  tagged_words= tag_words(posmodel,x)\n",
        "  newtag=handle_UNK(tagged_words)\n",
        "  # taglist=[]\n",
        "  # for x in newtag:taglist.append(x[1])\n",
        "  return newtag\n",
        "\n",
        "possent=[[0]]*len(cleansent)\n",
        "for z in range(len(cleansent)):possent[z] = poslist(cleansent[z])\n"
      ],
      "metadata": {
        "id": "OyUNsF6spVk2"
      },
      "execution_count": null,
      "outputs": []
    },
    {
      "cell_type": "code",
      "source": [
        "print(*possent[:10],sep=\"\\n\")"
      ],
      "metadata": {
        "colab": {
          "base_uri": "https://localhost:8080/"
        },
        "id": "kz2-PcpvtDej",
        "outputId": "0a568b7b-469d-4924-9039-062f30a05394"
      },
      "execution_count": null,
      "outputs": [
        {
          "output_type": "stream",
          "name": "stdout",
          "text": [
            "[['अगर', 'SCONJ'], ['भारत', 'NNP'], ['के', 'PREP'], ['संदर्भ', 'NOUN'], ['में', 'PREP'], ['बात', 'NN'], ['की', 'VFM'], ['जाए', 'VAUX'], ['तो', 'CC'], ['भारत', 'NNP'], ['एक', 'QFNUM'], ['विविध', 'ADJ'], ['संस्कृति', 'NOUN'], ['वाला', 'NNP'], ['देश', 'NN'], ['है', 'VFM']]\n",
            "[['एक', 'QFNUM'], ['तथ्य', 'NN'], ['कि', 'CC'], ['यहाँ', 'PRON'], ['यह', 'PRP'], ['बात', 'NN'], ['इसके', 'PRP'], ['लोगों', 'NN']]\n",
            "[['संस्कृति', 'NOUN'], ['और', 'CC'], ['मौसम', 'NNC'], ['में', 'PREP'], ['भी', 'RP'], ['प्रमुखता', 'NOUN'], ['से', 'PREP'], ['दिखाई', 'VFM'], ['देती', 'VAUX'], ['है', 'VAUX']]\n",
            "[['हिमालय', 'PROPN'], ['की', 'PREP'], ['अनश्वर', 'PROPN'], ['बर्फ', 'NOUN'], ['से', 'PREP'], ['लेकर', 'VRB'], ['दक्षिण', 'JJ'], ['के', 'PREP'], ['दूर', 'NVB'], ['दराज', 'NOUN'], ['में', 'PREP'], ['खेतों', 'NOUN'], ['तक', 'PREP']]\n",
            "[['पश्चिम', 'PROPN'], ['के', 'PREP'], ['रेगिस्तान', 'NOUN'], ['से', 'PREP'], ['पूर्व', 'PREP'], ['के', 'PREP'], ['नम', 'PROPN'], ['डेल्टा', 'PROPN'], ['तक', 'PREP']]\n",
            "[['सूखी', 'VERB'], ['गर्मी', 'NOUN'], ['से', 'PREP'], ['लेकर', 'VRB'], ['पहाड़ियों', 'NOUN'], ['की', 'PREP'], ['तराई', 'PROPN'], ['के', 'PREP'], ['मध्य', 'JJ'], ['पठार', 'NOUN'], ['की', 'PREP'], ['ठंडक', 'NOUN'], ['तक', 'PREP']]\n",
            "[['भारतीय', 'JJ'], ['जीवनशैलियाँ', 'NOUN'], ['इसके', 'PRP'], ['भूगोल', 'NOUN'], ['की', 'PREP'], ['भव्यता', 'NOUN'], ['स्पष्ट', 'JJ'], ['रूप', 'NN'], ['से', 'PREP'], ['दर्शाती', 'VERB'], ['है', 'VAUX']]\n",
            "[['एक', 'QFNUM'], ['भारतीय', 'JJ'], ['के', 'PREP'], ['परिधान', 'NOUN']]\n",
            "[['योजना', 'NN'], ['और', 'CC'], ['आदतें', 'NOUN'], ['इसके', 'PRP'], ['उद्भव', 'NOUN'], ['के', 'PREP'], ['स्थान', 'NN'], ['के', 'PREP'], ['अनुसार', 'PREP'], ['अलग', 'JJ'], ['अलग', 'JJ'], ['होते', 'VFM'], ['हैं', 'VAUX']]\n",
            "[['भारती', 'PROPN'], ['संस्कृति', 'NOUN'], ['अपनी', 'PRP'], ['विशाल', 'ADJ'], ['भौगोलिक', 'ADJ'], ['स्थिति', 'NN'], ['के', 'PREP'], ['समान', 'ADJ'], ['अलग', 'JJ'], ['अलग', 'JJ'], ['है', 'VFM']]\n"
          ]
        }
      ]
    },
    {
      "cell_type": "markdown",
      "source": [
        "###***Tags :*** \n",
        "ADJ,ADV,NOUN,VERB,VB,VBD,VBG,VBN,VBP,RB,NN,NNP,NNS,NNPS,JJ,JJR,JJS,VAUX\n",
        "\n",
        "*   **Noun** - NOUN,NN,NNP,NNS,NNPS,PROPN\n",
        "*   **Adjective** - ADJ,JJ,JJR,JJS\n",
        "*   **Adverb** - ADV,RB\n",
        "*   **Verb** - VERB,VB,VBD,VBG,VBN,VBP\n",
        "*   **Ending(tense)** - VAUX"
      ],
      "metadata": {
        "id": "fH-4iDP0yXJO"
      }
    },
    {
      "cell_type": "code",
      "source": [
        "noun = ['NOUN','NN','NNP','NNS','NNPS','PROPN']\n",
        "adj = ['ADJ','JJ','JJR','JJS']\n",
        "adverb = ['ADV','RB']\n",
        "verb = ['VERB','VB','VBD','VBG','VBN','VBP']\n",
        "vaux = ['VAUX']\n",
        "def keywords_extraction(tag_list):\n",
        "  keywordlst=[] #used as None\n",
        "  for x in tag_list:\n",
        "    if x[1] in noun:\n",
        "      keywordlst.append(x[0])\n",
        "  for x in tag_list:\n",
        "    if x[1] in adj:\n",
        "      keywordlst.append(x[0])\n",
        "  for x in tag_list:\n",
        "    if x[1] in adverb:\n",
        "      keywordlst.append(x[0])\n",
        "  for x in tag_list:\n",
        "    if x[1] in verb:\n",
        "      keywordlst.append(x[0])\n",
        "  for x in tag_list:\n",
        "    if x[1] in vaux:\n",
        "      keywordlst.append(x[0])\n",
        "\n",
        "  return keywordlst\n"
      ],
      "metadata": {
        "id": "L93UG00NzOJK"
      },
      "execution_count": null,
      "outputs": []
    },
    {
      "cell_type": "code",
      "source": [
        "keywordslist=[[0]]*len(possent)\n",
        "for y in range(len(possent)):keywordslist[y]=keywords_extraction(possent[y])"
      ],
      "metadata": {
        "id": "5QeCHsfu1c89"
      },
      "execution_count": null,
      "outputs": []
    },
    {
      "cell_type": "code",
      "source": [
        "# keywordslist[:10]\n",
        "for x in range(len(keywordslist)):keywordslist[x]=\" \".join(keywordslist[x])\n",
        "keywordslist[:10]"
      ],
      "metadata": {
        "id": "LuEoJG3c9MxG"
      },
      "execution_count": null,
      "outputs": []
    },
    {
      "cell_type": "code",
      "source": [
        "for x in range(len(possent)):\n",
        "  zs=[]\n",
        "  for y in possent[x]:zs.append(y[1])\n",
        "  possent[x]=\" \".join(zs)\n",
        "possent[:10]"
      ],
      "metadata": {
        "id": "wPlwBcmjvDyV"
      },
      "execution_count": null,
      "outputs": []
    },
    {
      "cell_type": "code",
      "source": [
        "st=[]\n",
        "for x in possent:\n",
        "  st.append(len(x))\n",
        "print(max(st))\n",
        "s=[]\n",
        "for x in keywordslist:\n",
        "  s.append(len(x))\n",
        "print(max(s))"
      ],
      "metadata": {
        "id": "9E4JdOs02clk"
      },
      "execution_count": null,
      "outputs": []
    },
    {
      "cell_type": "code",
      "source": [
        "x=list(range(len(st)))\n",
        "plt.plot(x, st)\n",
        "plt.show()"
      ],
      "metadata": {
        "id": "8aPFbtOJgwGQ"
      },
      "execution_count": null,
      "outputs": []
    },
    {
      "cell_type": "code",
      "source": [
        "import pandas as pd\n",
        "\n",
        "# ADJ,ADV,NOUN,VERB,VB,VBD,VBG,VBN,VBP,RB,NN,NNP,NNS,NNPS,JJ,JJR,JJS,VAUX\n",
        "\n",
        "# Noun - NOUN,NN,NNP,NNS,NNPS\n",
        "# Adjective - ADJ,JJ,JJR,JJS\n",
        "# Adverb - ADV,RB\n",
        "# Verb - VERB,VB,VBD,VBG,VBN,VBP\n",
        "# Ending(tense) - VAUX"
      ],
      "metadata": {
        "id": "hoBmXSKOfkdh"
      },
      "execution_count": null,
      "outputs": []
    },
    {
      "cell_type": "code",
      "source": [
        "import pandas as pd\n",
        "\n",
        "df = pd.DataFrame(list(zip(cleansent,possent,keywordslist)),\n",
        "               columns =['sentences', 'postag','keywords'])\n",
        "df.to_csv('/content/drive/MyDrive/dataset/dataset.csv',index=False)"
      ],
      "metadata": {
        "id": "z7rR40707fDB"
      },
      "execution_count": null,
      "outputs": []
    },
    {
      "cell_type": "markdown",
      "source": [
        "# ***Training***"
      ],
      "metadata": {
        "id": "BuSXWDHgZHTK"
      }
    },
    {
      "cell_type": "code",
      "source": [
        "import pandas as pd"
      ],
      "metadata": {
        "id": "ybk5bcIMeGzg"
      },
      "execution_count": null,
      "outputs": []
    },
    {
      "cell_type": "code",
      "source": [
        "data = pd.read_csv('/content/drive/MyDrive/dataset/dataset.csv')\n",
        "data.head()"
      ],
      "metadata": {
        "colab": {
          "base_uri": "https://localhost:8080/",
          "height": 302
        },
        "id": "evgdj8OFbWjw",
        "outputId": "911b8cc3-e974-4002-cd43-00275fd15be7"
      },
      "execution_count": null,
      "outputs": [
        {
          "output_type": "execute_result",
          "data": {
            "text/plain": [
              "                                           sentences  \\\n",
              "0  अगर भारत के संदर्भ में बात की जाए तो भारत एक व...   \n",
              "1                  एक तथ्य कि यहाँ यह बात इसके लोगों   \n",
              "2  संस्कृति और मौसम में भी प्रमुखता से दिखाई देती है   \n",
              "3  हिमालय की अनश्वर बर्फ से लेकर दक्षिण के दूर दर...   \n",
              "4       पश्चिम के रेगिस्तान से पूर्व के नम डेल्टा तक   \n",
              "\n",
              "                                              postag  \\\n",
              "0  SCONJ NNP PREP NOUN PREP NN VFM VAUX CC NNP QF...   \n",
              "1                     QFNUM NN CC PRON PRP NN PRP NN   \n",
              "2        NOUN CC NNC PREP RP NOUN PREP VFM VAUX VAUX   \n",
              "3  PROPN PREP PROPN NOUN PREP VRB JJ PREP NVB NOU...   \n",
              "4    PROPN PREP NOUN PREP PREP PREP PROPN PROPN PREP   \n",
              "\n",
              "                                           keywords  \n",
              "0  भारत संदर्भ बात भारत संस्कृति वाला देश विविध जाए  \n",
              "1                                    तथ्य बात लोगों  \n",
              "2                         संस्कृति प्रमुखता देती है  \n",
              "3              हिमालय अनश्वर बर्फ दराज खेतों दक्षिण  \n",
              "4                        पश्चिम रेगिस्तान नम डेल्टा  "
            ],
            "text/html": [
              "\n",
              "  <div id=\"df-52d16dfe-83a6-45ff-a1eb-33477cd64795\">\n",
              "    <div class=\"colab-df-container\">\n",
              "      <div>\n",
              "<style scoped>\n",
              "    .dataframe tbody tr th:only-of-type {\n",
              "        vertical-align: middle;\n",
              "    }\n",
              "\n",
              "    .dataframe tbody tr th {\n",
              "        vertical-align: top;\n",
              "    }\n",
              "\n",
              "    .dataframe thead th {\n",
              "        text-align: right;\n",
              "    }\n",
              "</style>\n",
              "<table border=\"1\" class=\"dataframe\">\n",
              "  <thead>\n",
              "    <tr style=\"text-align: right;\">\n",
              "      <th></th>\n",
              "      <th>sentences</th>\n",
              "      <th>postag</th>\n",
              "      <th>keywords</th>\n",
              "    </tr>\n",
              "  </thead>\n",
              "  <tbody>\n",
              "    <tr>\n",
              "      <th>0</th>\n",
              "      <td>अगर भारत के संदर्भ में बात की जाए तो भारत एक व...</td>\n",
              "      <td>SCONJ NNP PREP NOUN PREP NN VFM VAUX CC NNP QF...</td>\n",
              "      <td>भारत संदर्भ बात भारत संस्कृति वाला देश विविध जाए</td>\n",
              "    </tr>\n",
              "    <tr>\n",
              "      <th>1</th>\n",
              "      <td>एक तथ्य कि यहाँ यह बात इसके लोगों</td>\n",
              "      <td>QFNUM NN CC PRON PRP NN PRP NN</td>\n",
              "      <td>तथ्य बात लोगों</td>\n",
              "    </tr>\n",
              "    <tr>\n",
              "      <th>2</th>\n",
              "      <td>संस्कृति और मौसम में भी प्रमुखता से दिखाई देती है</td>\n",
              "      <td>NOUN CC NNC PREP RP NOUN PREP VFM VAUX VAUX</td>\n",
              "      <td>संस्कृति प्रमुखता देती है</td>\n",
              "    </tr>\n",
              "    <tr>\n",
              "      <th>3</th>\n",
              "      <td>हिमालय की अनश्वर बर्फ से लेकर दक्षिण के दूर दर...</td>\n",
              "      <td>PROPN PREP PROPN NOUN PREP VRB JJ PREP NVB NOU...</td>\n",
              "      <td>हिमालय अनश्वर बर्फ दराज खेतों दक्षिण</td>\n",
              "    </tr>\n",
              "    <tr>\n",
              "      <th>4</th>\n",
              "      <td>पश्चिम के रेगिस्तान से पूर्व के नम डेल्टा तक</td>\n",
              "      <td>PROPN PREP NOUN PREP PREP PREP PROPN PROPN PREP</td>\n",
              "      <td>पश्चिम रेगिस्तान नम डेल्टा</td>\n",
              "    </tr>\n",
              "  </tbody>\n",
              "</table>\n",
              "</div>\n",
              "      <button class=\"colab-df-convert\" onclick=\"convertToInteractive('df-52d16dfe-83a6-45ff-a1eb-33477cd64795')\"\n",
              "              title=\"Convert this dataframe to an interactive table.\"\n",
              "              style=\"display:none;\">\n",
              "        \n",
              "  <svg xmlns=\"http://www.w3.org/2000/svg\" height=\"24px\"viewBox=\"0 0 24 24\"\n",
              "       width=\"24px\">\n",
              "    <path d=\"M0 0h24v24H0V0z\" fill=\"none\"/>\n",
              "    <path d=\"M18.56 5.44l.94 2.06.94-2.06 2.06-.94-2.06-.94-.94-2.06-.94 2.06-2.06.94zm-11 1L8.5 8.5l.94-2.06 2.06-.94-2.06-.94L8.5 2.5l-.94 2.06-2.06.94zm10 10l.94 2.06.94-2.06 2.06-.94-2.06-.94-.94-2.06-.94 2.06-2.06.94z\"/><path d=\"M17.41 7.96l-1.37-1.37c-.4-.4-.92-.59-1.43-.59-.52 0-1.04.2-1.43.59L10.3 9.45l-7.72 7.72c-.78.78-.78 2.05 0 2.83L4 21.41c.39.39.9.59 1.41.59.51 0 1.02-.2 1.41-.59l7.78-7.78 2.81-2.81c.8-.78.8-2.07 0-2.86zM5.41 20L4 18.59l7.72-7.72 1.47 1.35L5.41 20z\"/>\n",
              "  </svg>\n",
              "      </button>\n",
              "      \n",
              "  <style>\n",
              "    .colab-df-container {\n",
              "      display:flex;\n",
              "      flex-wrap:wrap;\n",
              "      gap: 12px;\n",
              "    }\n",
              "\n",
              "    .colab-df-convert {\n",
              "      background-color: #E8F0FE;\n",
              "      border: none;\n",
              "      border-radius: 50%;\n",
              "      cursor: pointer;\n",
              "      display: none;\n",
              "      fill: #1967D2;\n",
              "      height: 32px;\n",
              "      padding: 0 0 0 0;\n",
              "      width: 32px;\n",
              "    }\n",
              "\n",
              "    .colab-df-convert:hover {\n",
              "      background-color: #E2EBFA;\n",
              "      box-shadow: 0px 1px 2px rgba(60, 64, 67, 0.3), 0px 1px 3px 1px rgba(60, 64, 67, 0.15);\n",
              "      fill: #174EA6;\n",
              "    }\n",
              "\n",
              "    [theme=dark] .colab-df-convert {\n",
              "      background-color: #3B4455;\n",
              "      fill: #D2E3FC;\n",
              "    }\n",
              "\n",
              "    [theme=dark] .colab-df-convert:hover {\n",
              "      background-color: #434B5C;\n",
              "      box-shadow: 0px 1px 3px 1px rgba(0, 0, 0, 0.15);\n",
              "      filter: drop-shadow(0px 1px 2px rgba(0, 0, 0, 0.3));\n",
              "      fill: #FFFFFF;\n",
              "    }\n",
              "  </style>\n",
              "\n",
              "      <script>\n",
              "        const buttonEl =\n",
              "          document.querySelector('#df-52d16dfe-83a6-45ff-a1eb-33477cd64795 button.colab-df-convert');\n",
              "        buttonEl.style.display =\n",
              "          google.colab.kernel.accessAllowed ? 'block' : 'none';\n",
              "\n",
              "        async function convertToInteractive(key) {\n",
              "          const element = document.querySelector('#df-52d16dfe-83a6-45ff-a1eb-33477cd64795');\n",
              "          const dataTable =\n",
              "            await google.colab.kernel.invokeFunction('convertToInteractive',\n",
              "                                                     [key], {});\n",
              "          if (!dataTable) return;\n",
              "\n",
              "          const docLinkHtml = 'Like what you see? Visit the ' +\n",
              "            '<a target=\"_blank\" href=https://colab.research.google.com/notebooks/data_table.ipynb>data table notebook</a>'\n",
              "            + ' to learn more about interactive tables.';\n",
              "          element.innerHTML = '';\n",
              "          dataTable['output_type'] = 'display_data';\n",
              "          await google.colab.output.renderOutput(dataTable, element);\n",
              "          const docLink = document.createElement('div');\n",
              "          docLink.innerHTML = docLinkHtml;\n",
              "          element.appendChild(docLink);\n",
              "        }\n",
              "      </script>\n",
              "    </div>\n",
              "  </div>\n",
              "  "
            ]
          },
          "metadata": {},
          "execution_count": 5
        }
      ]
    },
    {
      "cell_type": "code",
      "source": [
        "from tensorflow.keras.preprocessing.text import Tokenizer \n",
        "from tensorflow.keras.utils import to_categorical \n",
        "from tensorflow. keras.models import Sequential \n",
        "from tensorflow.keras.layers import Dense, LSTM, Embedding \n",
        "from tensorflow.keras.preprocessing. sequence import pad_sequences"
      ],
      "metadata": {
        "id": "CP5065zhKkC4"
      },
      "execution_count": null,
      "outputs": []
    },
    {
      "cell_type": "code",
      "source": [
        "def graphoflength(lis):\n",
        "  stf=[]\n",
        "  for x in lis:\n",
        "    stf.append(len(x))\n",
        "\n",
        "  x=list(range(len(stf)))\n",
        "  plt.plot(x, stf)\n",
        "  plt.show()"
      ],
      "metadata": {
        "id": "kWdM-1eAyFfc"
      },
      "execution_count": null,
      "outputs": []
    },
    {
      "cell_type": "code",
      "source": [
        "newsent=[]\n",
        "for x in data.sentences:\n",
        "  newsent.append(x.split(\" \"))\n",
        "\n",
        "graphoflength(newsent)"
      ],
      "metadata": {
        "colab": {
          "base_uri": "https://localhost:8080/",
          "height": 265
        },
        "id": "0BnnUGtEdk0T",
        "outputId": "14e69cad-f193-459e-e117-b384a620a0ac"
      },
      "execution_count": null,
      "outputs": [
        {
          "output_type": "display_data",
          "data": {
            "text/plain": [
              "<Figure size 432x288 with 1 Axes>"
            ],
            "image/png": "[encoded data removed]"
          },
          "metadata": {
            "needs_background": "light"
          }
        }
      ]
    },
    {
      "cell_type": "code",
      "source": [
        "print(*newsent[:10],sep=\"\\n\")"
      ],
      "metadata": {
        "colab": {
          "base_uri": "https://localhost:8080/"
        },
        "id": "bf8Vx-cknk2g",
        "outputId": "31408412-5f6f-4b2a-a960-60e2782afa86"
      },
      "execution_count": null,
      "outputs": [
        {
          "output_type": "stream",
          "name": "stdout",
          "text": [
            "['अगर', 'भारत', 'के', 'संदर्भ', 'में', 'बात', 'की', 'जाए', 'तो', 'भारत', 'एक', 'विविध', 'संस्कृति', 'वाला', 'देश', 'है']\n",
            "['एक', 'तथ्य', 'कि', 'यहाँ', 'यह', 'बात', 'इसके', 'लोगों']\n",
            "['संस्कृति', 'और', 'मौसम', 'में', 'भी', 'प्रमुखता', 'से', 'दिखाई', 'देती', 'है']\n",
            "['हिमालय', 'की', 'अनश्वर', 'बर्फ', 'से', 'लेकर', 'दक्षिण', 'के', 'दूर', 'दराज', 'में', 'खेतों', 'तक']\n",
            "['पश्चिम', 'के', 'रेगिस्तान', 'से', 'पूर्व', 'के', 'नम', 'डेल्टा', 'तक']\n",
            "['सूखी', 'गर्मी', 'से', 'लेकर', 'पहाड़ियों', 'की', 'तराई', 'के', 'मध्य', 'पठार', 'की', 'ठंडक', 'तक']\n",
            "['भारतीय', 'जीवनशैलियाँ', 'इसके', 'भूगोल', 'की', 'भव्यता', 'स्पष्ट', 'रूप', 'से', 'दर्शाती', 'है']\n",
            "['एक', 'भारतीय', 'के', 'परिधान']\n",
            "['योजना', 'और', 'आदतें', 'इसके', 'उद्भव', 'के', 'स्थान', 'के', 'अनुसार', 'अलग', 'अलग', 'होते', 'हैं']\n",
            "['भारती', 'संस्कृति', 'अपनी', 'विशाल', 'भौगोलिक', 'स्थिति', 'के', 'समान', 'अलग', 'अलग', 'है']\n"
          ]
        }
      ]
    },
    {
      "cell_type": "code",
      "source": [
        "## Embedding\n",
        "tokenizer = Tokenizer() \n",
        "tokenizer.fit_on_texts(data.sentences) \n",
        "toksent = tokenizer.texts_to_sequences(newsent)"
      ],
      "metadata": {
        "id": "fpMKkN8ZbxDv"
      },
      "execution_count": null,
      "outputs": []
    },
    {
      "cell_type": "code",
      "source": [
        "newkw=[]\n",
        "for x in data.sentences:\n",
        "  newkw.append(x.split(\" \"))\n",
        "\n",
        "graphoflength(newkw)"
      ],
      "metadata": {
        "colab": {
          "base_uri": "https://localhost:8080/",
          "height": 265
        },
        "id": "9VfsAcP6odJc",
        "outputId": "4f8820ea-83d1-4d57-b6e1-47381494c4c0"
      },
      "execution_count": null,
      "outputs": [
        {
          "output_type": "display_data",
          "data": {
            "text/plain": [
              "<Figure size 432x288 with 1 Axes>"
            ],
            "image/png": "[encoded data removed]"
          },
          "metadata": {
            "needs_background": "light"
          }
        }
      ]
    },
    {
      "cell_type": "code",
      "source": [
        "tokkw = tokenizer.texts_to_sequences(newkw)"
      ],
      "metadata": {
        "id": "hrJH-tQ5bv8K"
      },
      "execution_count": null,
      "outputs": []
    },
    {
      "cell_type": "code",
      "source": [
        "print(newkw[2],tokkw[2],sep=\"\\n\")"
      ],
      "metadata": {
        "colab": {
          "base_uri": "https://localhost:8080/"
        },
        "id": "lnt30EQobkeN",
        "outputId": "1b9879ad-d2d3-4580-aceb-7ede80d57a27"
      },
      "execution_count": null,
      "outputs": [
        {
          "output_type": "stream",
          "name": "stdout",
          "text": [
            "['संस्कृति', 'और', 'मौसम', 'में', 'भी', 'प्रमुखता', 'से', 'दिखाई', 'देती', 'है']\n",
            "[17, 7, 436, 4, 18, 665, 5, 221, 331, 2]\n"
          ]
        }
      ]
    },
    {
      "cell_type": "code",
      "source": [
        "stf=[]\n",
        "for x in tokkw:\n",
        "  stf.append(len(x))\n",
        "print(min(stf))"
      ],
      "metadata": {
        "colab": {
          "base_uri": "https://localhost:8080/"
        },
        "id": "bCdEHGIVcdMB",
        "outputId": "c4fc3835-394a-4af7-f81e-637d18d2337c"
      },
      "execution_count": null,
      "outputs": [
        {
          "output_type": "stream",
          "name": "stdout",
          "text": [
            "4\n"
          ]
        }
      ]
    },
    {
      "cell_type": "code",
      "source": [
        "newpossent=[]\n",
        "for x in data.sentences:\n",
        "  newpossent.append(x.split(\" \"))\n",
        "graphoflength(newpossent)"
      ],
      "metadata": {
        "colab": {
          "base_uri": "https://localhost:8080/",
          "height": 265
        },
        "id": "vBPF765ttuTs",
        "outputId": "e9c9fa68-83e6-4e23-c9d8-0fc19ad31821"
      },
      "execution_count": null,
      "outputs": [
        {
          "output_type": "display_data",
          "data": {
            "text/plain": [
              "<Figure size 432x288 with 1 Axes>"
            ],
            "image/png": "[encoded data removed]"
          },
          "metadata": {
            "needs_background": "light"
          }
        }
      ]
    },
    {
      "cell_type": "code",
      "source": [
        "newtoksent=[]\n",
        "for x in toksent:\n",
        "  newtoksent.append(x[:40]+[0]*(40-len(x)))\n",
        "\n",
        "stf=[]\n",
        "for x in newtoksent:\n",
        "  stf.append(len(x))\n",
        "\n",
        "x=list(range(len(stf)))\n",
        "plt.plot(x, stf)\n",
        "plt.show()"
      ],
      "metadata": {
        "colab": {
          "base_uri": "https://localhost:8080/",
          "height": 265
        },
        "outputId": "a3182333-aff8-49ed-aa18-1dccbac06f50",
        "id": "m9HK2Q_8qxlz"
      },
      "execution_count": null,
      "outputs": [
        {
          "output_type": "display_data",
          "data": {
            "text/plain": [
              "<Figure size 432x288 with 1 Axes>"
            ],
            "image/png": "[encoded data removed]"
          },
          "metadata": {
            "needs_background": "light"
          }
        }
      ]
    },
    {
      "cell_type": "code",
      "source": [
        "print(newtoksent[:10])"
      ],
      "metadata": {
        "colab": {
          "base_uri": "https://localhost:8080/"
        },
        "id": "HQRSbypvovLQ",
        "outputId": "24a31ae8-7289-4534-b974-401ea734f3c1"
      },
      "execution_count": null,
      "outputs": [
        {
          "output_type": "stream",
          "name": "stdout",
          "text": [
            "[[264, 99, 1, 329, 4, 33, 3, 219, 21, 99, 11, 663, 17, 330, 265, 2, 0, 0, 0, 0, 0, 0, 0, 0, 0, 0, 0, 0, 0, 0, 0, 0, 0, 0, 0, 0, 0, 0, 0, 0], [11, 664, 34, 220, 12, 33, 83, 39, 0, 0, 0, 0, 0, 0, 0, 0, 0, 0, 0, 0, 0, 0, 0, 0, 0, 0, 0, 0, 0, 0, 0, 0, 0, 0, 0, 0, 0, 0, 0, 0], [17, 7, 436, 4, 18, 665, 5, 221, 331, 2, 0, 0, 0, 0, 0, 0, 0, 0, 0, 0, 0, 0, 0, 0, 0, 0, 0, 0, 0, 0, 0, 0, 0, 0, 0, 0, 0, 0, 0, 0], [666, 3, 667, 668, 5, 84, 669, 1, 135, 670, 4, 671, 107, 0, 0, 0, 0, 0, 0, 0, 0, 0, 0, 0, 0, 0, 0, 0, 0, 0, 0, 0, 0, 0, 0, 0, 0, 0, 0, 0], [672, 1, 673, 5, 332, 1, 674, 675, 107, 0, 0, 0, 0, 0, 0, 0, 0, 0, 0, 0, 0, 0, 0, 0, 0, 0, 0, 0, 0, 0, 0, 0, 0, 0, 0, 0, 0, 0, 0, 0], [676, 677, 5, 84, 678, 3, 679, 1, 333, 680, 3, 681, 107, 0, 0, 0, 0, 0, 0, 0, 0, 0, 0, 0, 0, 0, 0, 0, 0, 0, 0, 0, 0, 0, 0, 0, 0, 0, 0, 0], [30, 682, 83, 683, 3, 684, 437, 91, 5, 685, 2, 0, 0, 0, 0, 0, 0, 0, 0, 0, 0, 0, 0, 0, 0, 0, 0, 0, 0, 0, 0, 0, 0, 0, 0, 0, 0, 0, 0, 0], [11, 30, 1, 686, 0, 0, 0, 0, 0, 0, 0, 0, 0, 0, 0, 0, 0, 0, 0, 0, 0, 0, 0, 0, 0, 0, 0, 0, 0, 0, 0, 0, 0, 0, 0, 0, 0, 0, 0, 0], [687, 7, 688, 83, 689, 1, 438, 1, 334, 92, 92, 690, 35, 0, 0, 0, 0, 0, 0, 0, 0, 0, 0, 0, 0, 0, 0, 0, 0, 0, 0, 0, 0, 0, 0, 0, 0, 0, 0, 0], [691, 17, 93, 692, 439, 94, 1, 154, 92, 92, 2, 0, 0, 0, 0, 0, 0, 0, 0, 0, 0, 0, 0, 0, 0, 0, 0, 0, 0, 0, 0, 0, 0, 0, 0, 0, 0, 0, 0, 0]]\n"
          ]
        }
      ]
    },
    {
      "cell_type": "code",
      "source": [
        "tokkw[:4]"
      ],
      "metadata": {
        "colab": {
          "base_uri": "https://localhost:8080/"
        },
        "id": "kNTsXvs8p81k",
        "outputId": "81f1efed-0685-4d5b-d3a1-cdf115dd9195"
      },
      "execution_count": null,
      "outputs": [
        {
          "output_type": "execute_result",
          "data": {
            "text/plain": [
              "[[264, 99, 1, 329, 4, 33, 3, 219, 21, 99, 11, 663, 17, 330, 265, 2],\n",
              " [11, 664, 34, 220, 12, 33, 83, 39],\n",
              " [17, 7, 436, 4, 18, 665, 5, 221, 331, 2],\n",
              " [666, 3, 667, 668, 5, 84, 669, 1, 135, 670, 4, 671, 107]]"
            ]
          },
          "metadata": {},
          "execution_count": 34
        }
      ]
    },
    {
      "cell_type": "code",
      "source": [
        "def keywordinput(klist,toksent):\n",
        "  y_out=[]\n",
        "  x_in=[]\n",
        "  for x in range(len(toksent)):\n",
        "    for y in range(len(klist[x])-3):\n",
        "        y_out.append(toksent[x])\n",
        "        x_in.append(klist[x][y:y+4])\n",
        "  return x_in,y_out\n",
        "    \n",
        "\n",
        "X_1,Y_1 = keywordinput(tokkw[:400],newtoksent[:400])"
      ],
      "metadata": {
        "id": "0as2VqdpZ9Ra"
      },
      "execution_count": null,
      "outputs": []
    },
    {
      "cell_type": "code",
      "source": [
        "len(Y_1)"
      ],
      "metadata": {
        "colab": {
          "base_uri": "https://localhost:8080/"
        },
        "id": "U6yOyc1JdJMk",
        "outputId": "4da5aed0-4f0b-47fb-acd8-2f0d9f65c60a"
      },
      "execution_count": null,
      "outputs": [
        {
          "output_type": "execute_result",
          "data": {
            "text/plain": [
              "4543"
            ]
          },
          "metadata": {},
          "execution_count": 45
        }
      ]
    },
    {
      "cell_type": "code",
      "source": [
        "vocab_size = len(tokenizer.word_index)+1\n",
        "vocab_size"
      ],
      "metadata": {
        "colab": {
          "base_uri": "https://localhost:8080/"
        },
        "id": "0Ffe4rIoqXOJ",
        "outputId": "c1e42266-d539-4679-f1e5-c19979c4a377"
      },
      "execution_count": null,
      "outputs": [
        {
          "output_type": "execute_result",
          "data": {
            "text/plain": [
              "1478"
            ]
          },
          "metadata": {},
          "execution_count": 18
        }
      ]
    },
    {
      "cell_type": "code",
      "source": [
        "seq_length=len(X_1[0])\n",
        "seq_length"
      ],
      "metadata": {
        "colab": {
          "base_uri": "https://localhost:8080/"
        },
        "id": "NUvGHDuafbMx",
        "outputId": "9e87a8d5-0d20-41ee-e351-6f79f37bafcc"
      },
      "execution_count": null,
      "outputs": [
        {
          "output_type": "execute_result",
          "data": {
            "text/plain": [
              "4"
            ]
          },
          "metadata": {},
          "execution_count": 47
        }
      ]
    },
    {
      "cell_type": "code",
      "source": [
        "model = Sequential()\n",
        "model.add(Embedding(vocab_size, 4 , input_length = seq_length))\n",
        "model.add(Dense(50 , activation = 'relu'))\n",
        "model.add(Dense(50 , activation = 'relu'))\n",
        "model.add(Dense (50 , activation = 'softmax'))"
      ],
      "metadata": {
        "id": "UpuD5orIqUxe"
      },
      "execution_count": null,
      "outputs": []
    },
    {
      "cell_type": "code",
      "source": [
        "model.summary()"
      ],
      "metadata": {
        "colab": {
          "base_uri": "https://localhost:8080/"
        },
        "id": "365xpQrifr0U",
        "outputId": "4bf2e8d9-8f4c-46ee-950b-0a7fe473e7db"
      },
      "execution_count": null,
      "outputs": [
        {
          "output_type": "stream",
          "name": "stdout",
          "text": [
            "Model: \"sequential_3\"\n",
            "_________________________________________________________________\n",
            " Layer (type)                Output Shape              Param #   \n",
            "=================================================================\n",
            " embedding_3 (Embedding)     (None, 4, 4)              5912      \n",
            "                                                                 \n",
            " dense_6 (Dense)             (None, 4, 50)             250       \n",
            "                                                                 \n",
            " dense_7 (Dense)             (None, 4, 50)             2550      \n",
            "                                                                 \n",
            " dense_8 (Dense)             (None, 4, 50)             2550      \n",
            "                                                                 \n",
            "=================================================================\n",
            "Total params: 11,262\n",
            "Trainable params: 11,262\n",
            "Non-trainable params: 0\n",
            "_________________________________________________________________\n"
          ]
        }
      ]
    },
    {
      "cell_type": "code",
      "source": [
        "model.compile(loss = 'categorical_crossentropy' , optimizer = 'adam' , metrics = ['accuracy'])"
      ],
      "metadata": {
        "id": "18V604qMfxe8"
      },
      "execution_count": null,
      "outputs": []
    },
    {
      "cell_type": "code",
      "source": [
        "model.fit (X_1 , Y_1 , batch_size =32 , epochs = 100)"
      ],
      "metadata": {
        "id": "GdguQNkmf0Bb"
      },
      "execution_count": null,
      "outputs": []
    },
    {
      "cell_type": "markdown",
      "source": [
        "# ***Results***"
      ],
      "metadata": {
        "id": "3sZjy8gidYRi"
      }
    },
    {
      "cell_type": "code",
      "source": [
        "data = pd.read_csv('/content/drive/MyDrive/dataset/dataset.csv')\n",
        "data.head()"
      ],
      "metadata": {
        "colab": {
          "base_uri": "https://localhost:8080/",
          "height": 302
        },
        "id": "7004ci-ndc8o",
        "outputId": "3b63e836-e7a5-49c1-c1de-cd40b33291c7"
      },
      "execution_count": null,
      "outputs": [
        {
          "output_type": "execute_result",
          "data": {
            "text/plain": [
              "                                           sentences  \\\n",
              "0  अगर भारत के संदर्भ में बात की जाए तो भारत एक व...   \n",
              "1                  एक तथ्य कि यहाँ यह बात इसके लोगों   \n",
              "2  संस्कृति और मौसम में भी प्रमुखता से दिखाई देती है   \n",
              "3  हिमालय की अनश्वर बर्फ से लेकर दक्षिण के दूर दर...   \n",
              "4       पश्चिम के रेगिस्तान से पूर्व के नम डेल्टा तक   \n",
              "\n",
              "                                              postag  \\\n",
              "0  SCONJ NNP PREP NOUN PREP NN VFM VAUX CC NNP QF...   \n",
              "1                     QFNUM NN CC PRON PRP NN PRP NN   \n",
              "2        NOUN CC NNC PREP RP NOUN PREP VFM VAUX VAUX   \n",
              "3  PROPN PREP PROPN NOUN PREP VRB JJ PREP NVB NOU...   \n",
              "4    PROPN PREP NOUN PREP PREP PREP PROPN PROPN PREP   \n",
              "\n",
              "                                           keywords  \n",
              "0  भारत संदर्भ बात भारत संस्कृति वाला देश विविध जाए  \n",
              "1                                    तथ्य बात लोगों  \n",
              "2                         संस्कृति प्रमुखता देती है  \n",
              "3              हिमालय अनश्वर बर्फ दराज खेतों दक्षिण  \n",
              "4                        पश्चिम रेगिस्तान नम डेल्टा  "
            ],
            "text/html": [
              "\n",
              "  <div id=\"df-5b07dea3-7d6b-4d77-9485-fcee982713d9\">\n",
              "    <div class=\"colab-df-container\">\n",
              "      <div>\n",
              "<style scoped>\n",
              "    .dataframe tbody tr th:only-of-type {\n",
              "        vertical-align: middle;\n",
              "    }\n",
              "\n",
              "    .dataframe tbody tr th {\n",
              "        vertical-align: top;\n",
              "    }\n",
              "\n",
              "    .dataframe thead th {\n",
              "        text-align: right;\n",
              "    }\n",
              "</style>\n",
              "<table border=\"1\" class=\"dataframe\">\n",
              "  <thead>\n",
              "    <tr style=\"text-align: right;\">\n",
              "      <th></th>\n",
              "      <th>sentences</th>\n",
              "      <th>postag</th>\n",
              "      <th>keywords</th>\n",
              "    </tr>\n",
              "  </thead>\n",
              "  <tbody>\n",
              "    <tr>\n",
              "      <th>0</th>\n",
              "      <td>अगर भारत के संदर्भ में बात की जाए तो भारत एक व...</td>\n",
              "      <td>SCONJ NNP PREP NOUN PREP NN VFM VAUX CC NNP QF...</td>\n",
              "      <td>भारत संदर्भ बात भारत संस्कृति वाला देश विविध जाए</td>\n",
              "    </tr>\n",
              "    <tr>\n",
              "      <th>1</th>\n",
              "      <td>एक तथ्य कि यहाँ यह बात इसके लोगों</td>\n",
              "      <td>QFNUM NN CC PRON PRP NN PRP NN</td>\n",
              "      <td>तथ्य बात लोगों</td>\n",
              "    </tr>\n",
              "    <tr>\n",
              "      <th>2</th>\n",
              "      <td>संस्कृति और मौसम में भी प्रमुखता से दिखाई देती है</td>\n",
              "      <td>NOUN CC NNC PREP RP NOUN PREP VFM VAUX VAUX</td>\n",
              "      <td>संस्कृति प्रमुखता देती है</td>\n",
              "    </tr>\n",
              "    <tr>\n",
              "      <th>3</th>\n",
              "      <td>हिमालय की अनश्वर बर्फ से लेकर दक्षिण के दूर दर...</td>\n",
              "      <td>PROPN PREP PROPN NOUN PREP VRB JJ PREP NVB NOU...</td>\n",
              "      <td>हिमालय अनश्वर बर्फ दराज खेतों दक्षिण</td>\n",
              "    </tr>\n",
              "    <tr>\n",
              "      <th>4</th>\n",
              "      <td>पश्चिम के रेगिस्तान से पूर्व के नम डेल्टा तक</td>\n",
              "      <td>PROPN PREP NOUN PREP PREP PREP PROPN PROPN PREP</td>\n",
              "      <td>पश्चिम रेगिस्तान नम डेल्टा</td>\n",
              "    </tr>\n",
              "  </tbody>\n",
              "</table>\n",
              "</div>\n",
              "      <button class=\"colab-df-convert\" onclick=\"convertToInteractive('df-5b07dea3-7d6b-4d77-9485-fcee982713d9')\"\n",
              "              title=\"Convert this dataframe to an interactive table.\"\n",
              "              style=\"display:none;\">\n",
              "        \n",
              "  <svg xmlns=\"http://www.w3.org/2000/svg\" height=\"24px\"viewBox=\"0 0 24 24\"\n",
              "       width=\"24px\">\n",
              "    <path d=\"M0 0h24v24H0V0z\" fill=\"none\"/>\n",
              "    <path d=\"M18.56 5.44l.94 2.06.94-2.06 2.06-.94-2.06-.94-.94-2.06-.94 2.06-2.06.94zm-11 1L8.5 8.5l.94-2.06 2.06-.94-2.06-.94L8.5 2.5l-.94 2.06-2.06.94zm10 10l.94 2.06.94-2.06 2.06-.94-2.06-.94-.94-2.06-.94 2.06-2.06.94z\"/><path d=\"M17.41 7.96l-1.37-1.37c-.4-.4-.92-.59-1.43-.59-.52 0-1.04.2-1.43.59L10.3 9.45l-7.72 7.72c-.78.78-.78 2.05 0 2.83L4 21.41c.39.39.9.59 1.41.59.51 0 1.02-.2 1.41-.59l7.78-7.78 2.81-2.81c.8-.78.8-2.07 0-2.86zM5.41 20L4 18.59l7.72-7.72 1.47 1.35L5.41 20z\"/>\n",
              "  </svg>\n",
              "      </button>\n",
              "      \n",
              "  <style>\n",
              "    .colab-df-container {\n",
              "      display:flex;\n",
              "      flex-wrap:wrap;\n",
              "      gap: 12px;\n",
              "    }\n",
              "\n",
              "    .colab-df-convert {\n",
              "      background-color: #E8F0FE;\n",
              "      border: none;\n",
              "      border-radius: 50%;\n",
              "      cursor: pointer;\n",
              "      display: none;\n",
              "      fill: #1967D2;\n",
              "      height: 32px;\n",
              "      padding: 0 0 0 0;\n",
              "      width: 32px;\n",
              "    }\n",
              "\n",
              "    .colab-df-convert:hover {\n",
              "      background-color: #E2EBFA;\n",
              "      box-shadow: 0px 1px 2px rgba(60, 64, 67, 0.3), 0px 1px 3px 1px rgba(60, 64, 67, 0.15);\n",
              "      fill: #174EA6;\n",
              "    }\n",
              "\n",
              "    [theme=dark] .colab-df-convert {\n",
              "      background-color: #3B4455;\n",
              "      fill: #D2E3FC;\n",
              "    }\n",
              "\n",
              "    [theme=dark] .colab-df-convert:hover {\n",
              "      background-color: #434B5C;\n",
              "      box-shadow: 0px 1px 3px 1px rgba(0, 0, 0, 0.15);\n",
              "      filter: drop-shadow(0px 1px 2px rgba(0, 0, 0, 0.3));\n",
              "      fill: #FFFFFF;\n",
              "    }\n",
              "  </style>\n",
              "\n",
              "      <script>\n",
              "        const buttonEl =\n",
              "          document.querySelector('#df-5b07dea3-7d6b-4d77-9485-fcee982713d9 button.colab-df-convert');\n",
              "        buttonEl.style.display =\n",
              "          google.colab.kernel.accessAllowed ? 'block' : 'none';\n",
              "\n",
              "        async function convertToInteractive(key) {\n",
              "          const element = document.querySelector('#df-5b07dea3-7d6b-4d77-9485-fcee982713d9');\n",
              "          const dataTable =\n",
              "            await google.colab.kernel.invokeFunction('convertToInteractive',\n",
              "                                                     [key], {});\n",
              "          if (!dataTable) return;\n",
              "\n",
              "          const docLinkHtml = 'Like what you see? Visit the ' +\n",
              "            '<a target=\"_blank\" href=https://colab.research.google.com/notebooks/data_table.ipynb>data table notebook</a>'\n",
              "            + ' to learn more about interactive tables.';\n",
              "          element.innerHTML = '';\n",
              "          dataTable['output_type'] = 'display_data';\n",
              "          await google.colab.output.renderOutput(dataTable, element);\n",
              "          const docLink = document.createElement('div');\n",
              "          docLink.innerHTML = docLinkHtml;\n",
              "          element.appendChild(docLink);\n",
              "        }\n",
              "      </script>\n",
              "    </div>\n",
              "  </div>\n",
              "  "
            ]
          },
          "metadata": {},
          "execution_count": 6
        }
      ]
    },
    {
      "cell_type": "code",
      "source": [
        "postags = data['postag']"
      ],
      "metadata": {
        "id": "YVWSRXereilP"
      },
      "execution_count": null,
      "outputs": []
    },
    {
      "cell_type": "code",
      "source": [
        "noun = ['NOUN','NN','NNP','NNS','NNPS','PROPN']\n",
        "adj = ['ADJ','JJ','JJR','JJS']\n",
        "adverb = ['ADV','RB']\n",
        "verb = ['VERB','VB','VBD','VBG','VBN','VBP']\n",
        "vaux = ['VAUX']"
      ],
      "metadata": {
        "id": "_uCfR3RTeg0D"
      },
      "execution_count": null,
      "outputs": []
    },
    {
      "cell_type": "code",
      "source": [
        "nouncount,adjcount,adverbcount,verbcount,vauxcount=0,0,0,0,0\n",
        "for x in postags:\n",
        "  xstrip = x.split(\" \")\n",
        "  for y in xstrip:\n",
        "    if y in noun:nouncount+=1\n",
        "    elif y in adj: adjcount+=1\n",
        "    elif y in adverb: adverbcount+=1\n",
        "    elif y in verb: verbcount+=1\n",
        "    elif y in vaux:vauxcount+=1\n",
        "ddist={'NOUN':nouncount,'ADJ':adjcount,'ADVERB':adverbcount,'VERB':verbcount,'VAUX':vauxcount}"
      ],
      "metadata": {
        "id": "mA5ZeJnMeqvb"
      },
      "execution_count": null,
      "outputs": []
    },
    {
      "cell_type": "code",
      "source": [
        "list(ddist.values())"
      ],
      "metadata": {
        "colab": {
          "base_uri": "https://localhost:8080/"
        },
        "id": "LzeqoczmgsEZ",
        "outputId": "208b948b-abee-468e-8f07-36dde5e7cf03"
      },
      "execution_count": null,
      "outputs": [
        {
          "output_type": "execute_result",
          "data": {
            "text/plain": [
              "[1803, 352, 107, 417, 454]"
            ]
          },
          "metadata": {},
          "execution_count": 28
        }
      ]
    },
    {
      "cell_type": "code",
      "source": [
        "\n",
        "pos = list(ddist.keys())\n",
        "values = list(ddist.values())\n",
        "  \n",
        "fig = plt.figure(figsize = (8, 5))\n",
        "\n",
        "plt.bar(pos, values, color ='green',\n",
        "        width = 0.4)\n",
        "plt.xlabel(\"POS TAGS\")\n",
        "plt.ylabel(\"Frequecy of POS Tags\")\n",
        "plt.title(\"POS Tags\")\n",
        "plt.show()"
      ],
      "metadata": {
        "colab": {
          "base_uri": "https://localhost:8080/",
          "height": 350
        },
        "id": "2a2t3hj-hQEr",
        "outputId": "a4ac1410-268e-4ec5-a822-cc5199b039d7"
      },
      "execution_count": null,
      "outputs": [
        {
          "output_type": "display_data",
          "data": {
            "text/plain": [
              "<Figure size 576x360 with 1 Axes>"
            ],
            "image/png": "[encoded data removed]"
          },
          "metadata": {
            "needs_background": "light"
          }
        }
      ]
    }
  ]
}